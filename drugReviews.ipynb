{
 "cells": [
  {
   "cell_type": "markdown",
   "id": "40446e3f",
   "metadata": {},
   "source": [
    "### Jonathan Marks\n",
    "### 11/28/23"
   ]
  },
  {
   "cell_type": "markdown",
   "id": "d4995630",
   "metadata": {},
   "source": [
    "# Drug reviews sentiment analysis\n"
   ]
  },
  {
   "cell_type": "markdown",
   "id": "1689e405",
   "metadata": {},
   "source": [
    "# Business Problem"
   ]
  },
  {
   "cell_type": "markdown",
   "id": "234d3237",
   "metadata": {},
   "source": [
    "A health care provider is interested in efficiently extracting numeric ratings from patients' written reviews. The client already has a dataset of surveys which includes, for each sample, a patient written review, a patient numerical rating, (and other items).  However, the client will be receiving other data sets that do not contain a numerical review.  Only numerical reviews are able to be efficiently factored into decisions about which medicines to perscribe to patients (i.e. written reviews cannot be arthimetically averaged with efficient) and there are multiple drug choices per condition that must be compared.  \n",
    "\n",
    "\n",
    "To this end we build a model using labelled, numerically, patient reviews in order to predict numerical labels for unlabeled samples.  "
   ]
  },
  {
   "cell_type": "markdown",
   "id": "cc9e6991",
   "metadata": {},
   "source": [
    "# Data exploration"
   ]
  },
  {
   "cell_type": "markdown",
   "id": "37d3ca8f",
   "metadata": {},
   "source": [
    "The data comes from Drugs.com and is accessed through UCI's website. Click [here](https://archive.ics.uci.edu/dataset/462/drug+review+dataset+drugs+com.zip) to download data.  The data set contains over 160,000 samples.  There are very few null entries.  For this analysis 10% of the samples are analyzed (16,000). There are over 800 unique patient conditions and 3400 drugs. The key columns are the dependent variable, patient numeric rating, and the text review column, which will be used to generate independent variables. "
   ]
  },
  {
   "cell_type": "code",
   "execution_count": 11,
   "id": "abf3e01c",
   "metadata": {},
   "outputs": [],
   "source": [
    "import pandas as pd\n"
   ]
  },
  {
   "cell_type": "code",
   "execution_count": 12,
   "id": "8e28e76a",
   "metadata": {},
   "outputs": [],
   "source": [
    "import numpy as np\n"
   ]
  },
  {
   "cell_type": "code",
   "execution_count": 13,
   "id": "86adb1f3",
   "metadata": {},
   "outputs": [],
   "source": [
    "import matplotlib.pyplot as plt"
   ]
  },
  {
   "cell_type": "code",
   "execution_count": 14,
   "id": "af808b73",
   "metadata": {},
   "outputs": [],
   "source": [
    "data = pd.read_table('./drugsComTrain_raw.tsv')"
   ]
  },
  {
   "cell_type": "code",
   "execution_count": 15,
   "id": "51971570",
   "metadata": {},
   "outputs": [
    {
     "data": {
      "text/html": [
       "<div>\n",
       "<style scoped>\n",
       "    .dataframe tbody tr th:only-of-type {\n",
       "        vertical-align: middle;\n",
       "    }\n",
       "\n",
       "    .dataframe tbody tr th {\n",
       "        vertical-align: top;\n",
       "    }\n",
       "\n",
       "    .dataframe thead th {\n",
       "        text-align: right;\n",
       "    }\n",
       "</style>\n",
       "<table border=\"1\" class=\"dataframe\">\n",
       "  <thead>\n",
       "    <tr style=\"text-align: right;\">\n",
       "      <th></th>\n",
       "      <th>Unnamed: 0</th>\n",
       "      <th>drugName</th>\n",
       "      <th>condition</th>\n",
       "      <th>review</th>\n",
       "      <th>rating</th>\n",
       "      <th>date</th>\n",
       "      <th>usefulCount</th>\n",
       "    </tr>\n",
       "  </thead>\n",
       "  <tbody>\n",
       "    <tr>\n",
       "      <th>0</th>\n",
       "      <td>206461</td>\n",
       "      <td>Valsartan</td>\n",
       "      <td>Left Ventricular Dysfunction</td>\n",
       "      <td>\"It has no side effect, I take it in combinati...</td>\n",
       "      <td>9.0</td>\n",
       "      <td>May 20, 2012</td>\n",
       "      <td>27</td>\n",
       "    </tr>\n",
       "    <tr>\n",
       "      <th>1</th>\n",
       "      <td>95260</td>\n",
       "      <td>Guanfacine</td>\n",
       "      <td>ADHD</td>\n",
       "      <td>\"My son is halfway through his fourth week of ...</td>\n",
       "      <td>8.0</td>\n",
       "      <td>April 27, 2010</td>\n",
       "      <td>192</td>\n",
       "    </tr>\n",
       "    <tr>\n",
       "      <th>2</th>\n",
       "      <td>92703</td>\n",
       "      <td>Lybrel</td>\n",
       "      <td>Birth Control</td>\n",
       "      <td>\"I used to take another oral contraceptive, wh...</td>\n",
       "      <td>5.0</td>\n",
       "      <td>December 14, 2009</td>\n",
       "      <td>17</td>\n",
       "    </tr>\n",
       "    <tr>\n",
       "      <th>3</th>\n",
       "      <td>138000</td>\n",
       "      <td>Ortho Evra</td>\n",
       "      <td>Birth Control</td>\n",
       "      <td>\"This is my first time using any form of birth...</td>\n",
       "      <td>8.0</td>\n",
       "      <td>November 3, 2015</td>\n",
       "      <td>10</td>\n",
       "    </tr>\n",
       "    <tr>\n",
       "      <th>4</th>\n",
       "      <td>35696</td>\n",
       "      <td>Buprenorphine / naloxone</td>\n",
       "      <td>Opiate Dependence</td>\n",
       "      <td>\"Suboxone has completely turned my life around...</td>\n",
       "      <td>9.0</td>\n",
       "      <td>November 27, 2016</td>\n",
       "      <td>37</td>\n",
       "    </tr>\n",
       "  </tbody>\n",
       "</table>\n",
       "</div>"
      ],
      "text/plain": [
       "   Unnamed: 0                  drugName                     condition  \\\n",
       "0      206461                 Valsartan  Left Ventricular Dysfunction   \n",
       "1       95260                Guanfacine                          ADHD   \n",
       "2       92703                    Lybrel                 Birth Control   \n",
       "3      138000                Ortho Evra                 Birth Control   \n",
       "4       35696  Buprenorphine / naloxone             Opiate Dependence   \n",
       "\n",
       "                                              review  rating  \\\n",
       "0  \"It has no side effect, I take it in combinati...     9.0   \n",
       "1  \"My son is halfway through his fourth week of ...     8.0   \n",
       "2  \"I used to take another oral contraceptive, wh...     5.0   \n",
       "3  \"This is my first time using any form of birth...     8.0   \n",
       "4  \"Suboxone has completely turned my life around...     9.0   \n",
       "\n",
       "                date  usefulCount  \n",
       "0       May 20, 2012           27  \n",
       "1     April 27, 2010          192  \n",
       "2  December 14, 2009           17  \n",
       "3   November 3, 2015           10  \n",
       "4  November 27, 2016           37  "
      ]
     },
     "execution_count": 15,
     "metadata": {},
     "output_type": "execute_result"
    }
   ],
   "source": [
    "data.head() #show appearance of data"
   ]
  },
  {
   "cell_type": "markdown",
   "id": "b1689c58",
   "metadata": {},
   "source": [
    "There are five potential independent variables, one target variable, and a unique id column, for total of 7 columns."
   ]
  },
  {
   "cell_type": "code",
   "execution_count": 16,
   "id": "bb19d2b2",
   "metadata": {},
   "outputs": [
    {
     "name": "stdout",
     "output_type": "stream",
     "text": [
      "<class 'pandas.core.frame.DataFrame'>\n",
      "RangeIndex: 161297 entries, 0 to 161296\n",
      "Data columns (total 7 columns):\n",
      " #   Column       Non-Null Count   Dtype  \n",
      "---  ------       --------------   -----  \n",
      " 0   Unnamed: 0   161297 non-null  int64  \n",
      " 1   drugName     161297 non-null  object \n",
      " 2   condition    160398 non-null  object \n",
      " 3   review       161297 non-null  object \n",
      " 4   rating       161297 non-null  float64\n",
      " 5   date         161297 non-null  object \n",
      " 6   usefulCount  161297 non-null  int64  \n",
      "dtypes: float64(1), int64(2), object(4)\n",
      "memory usage: 8.6+ MB\n"
     ]
    }
   ],
   "source": [
    "data.info() #Show brief overview of data"
   ]
  },
  {
   "cell_type": "markdown",
   "id": "72bedd9e",
   "metadata": {},
   "source": [
    "There are very few missing values, only 'condition' has missing values of about 1,000, less than 1% of total sample."
   ]
  },
  {
   "cell_type": "markdown",
   "id": "a1a7df21",
   "metadata": {},
   "source": [
    "It initially appears there are 885 unique condtions, but some entries may overlap (i.e. heart failure /attack and different types of diabetes)"
   ]
  },
  {
   "cell_type": "code",
   "execution_count": 17,
   "id": "d0165903",
   "metadata": {},
   "outputs": [
    {
     "data": {
      "text/plain": [
       "885"
      ]
     },
     "execution_count": 17,
     "metadata": {},
     "output_type": "execute_result"
    }
   ],
   "source": [
    "len(data.condition.unique())"
   ]
  },
  {
   "cell_type": "markdown",
   "id": "b4189dd8",
   "metadata": {},
   "source": [
    "The data is fairly balanced by drug, uniformly distributed."
   ]
  },
  {
   "cell_type": "code",
   "execution_count": 18,
   "id": "1d1521eb",
   "metadata": {},
   "outputs": [],
   "source": [
    "\n",
    "\n",
    "count = 0\n",
    "sets = {}\n",
    "for i in data.drugName:\n",
    "    if sets.get(i, 0) >0:\n",
    "        sets[i]+=1\n",
    "    else:\n",
    "        sets[i]=1\n"
   ]
  },
  {
   "cell_type": "code",
   "execution_count": 19,
   "id": "fb54b4d2",
   "metadata": {},
   "outputs": [
    {
     "data": {
      "text/plain": [
       "3436"
      ]
     },
     "execution_count": 19,
     "metadata": {},
     "output_type": "execute_result"
    }
   ],
   "source": [
    "len(sets)"
   ]
  },
  {
   "cell_type": "markdown",
   "id": "10cacd4a",
   "metadata": {},
   "source": [
    "It initially appears there are 3436 unique drugs, however names may overlap with eachother, and not be so distinct."
   ]
  },
  {
   "cell_type": "markdown",
   "id": "4fad2a11",
   "metadata": {},
   "source": [
    "Written review metrics:"
   ]
  },
  {
   "cell_type": "code",
   "execution_count": 20,
   "id": "484c4cf7",
   "metadata": {},
   "outputs": [
    {
     "data": {
      "text/plain": [
       "90.0"
      ]
     },
     "execution_count": 20,
     "metadata": {},
     "output_type": "execute_result"
    }
   ],
   "source": [
    "sm=0\n",
    "for i in range(10):\n",
    "    sm += len(data['review'][i])\n",
    "\n",
    "\n",
    "sm/11/5"
   ]
  },
  {
   "cell_type": "markdown",
   "id": "605df288",
   "metadata": {},
   "source": [
    "About 90 words per review, given sample of 11 and average 5 words per sentence."
   ]
  },
  {
   "cell_type": "markdown",
   "id": "da97f204",
   "metadata": {},
   "source": [
    "Example below:\n"
   ]
  },
  {
   "cell_type": "code",
   "execution_count": 21,
   "id": "51d6c0ca",
   "metadata": {},
   "outputs": [
    {
     "data": {
      "text/plain": [
       "'\"Nexplanon does its job. I can have worry free sex. The only thing is that my periods are sometimes light and sometimes heavy. Sometimes they go away and sometimes they show up unexpected. I also feel somewhat depressed. Not sure if its Nexplanon or not. I&#039;ve had Nexplanont for about 2 months now, but despite the side effects its the most effective birth control I&#039;ve ever used and I do not plan on taking it out.\"'"
      ]
     },
     "execution_count": 21,
     "metadata": {},
     "output_type": "execute_result"
    }
   ],
   "source": [
    "data.review[22]"
   ]
  },
  {
   "cell_type": "markdown",
   "id": "324517da",
   "metadata": {},
   "source": [
    "Below is a historgam of the patients' ratings."
   ]
  },
  {
   "cell_type": "code",
   "execution_count": 22,
   "id": "77d9c49c",
   "metadata": {
    "scrolled": false
   },
   "outputs": [
    {
     "data": {
      "text/plain": [
       "(array([21619.,  6931.,  6513.,  5012.,  8013.,  6343.,  9456., 18890.,\n",
       "        27531., 50989.]),\n",
       " array([ 1. ,  1.9,  2.8,  3.7,  4.6,  5.5,  6.4,  7.3,  8.2,  9.1, 10. ]),\n",
       " <BarContainer object of 10 artists>)"
      ]
     },
     "execution_count": 22,
     "metadata": {},
     "output_type": "execute_result"
    },
    {
     "data": {
      "image/png": "[encoded data removed]",
      "text/plain": [
       "<Figure size 640x480 with 1 Axes>"
      ]
     },
     "metadata": {},
     "output_type": "display_data"
    }
   ],
   "source": [
    "fig, ax =plt.subplots()\n",
    "\n",
    "ax.hist(data['rating'])"
   ]
  },
  {
   "cell_type": "markdown",
   "id": "6bcd5883",
   "metadata": {},
   "source": [
    "Ratings are not normally distributed. Counts are highest at the worst and best ratings."
   ]
  },
  {
   "cell_type": "markdown",
   "id": "c0156a8c",
   "metadata": {},
   "source": [
    "## Data processing - initial tokenizing"
   ]
  },
  {
   "cell_type": "markdown",
   "id": "07dc58ff",
   "metadata": {},
   "source": [
    "This project makes use of two different data processing methods (tf-idf or word embedding), but both methods involve tokenizing all samples individually and creating corresponding frequency distributions.  \n",
    "\n",
    "Both methods have been used extensively for topic summary/classification tasks.  However, another property of text, besides summary, is sentiment, so these methods should be at least somewhat helpful for the task. \n",
    "\n",
    "For tf-idf, we Divide the word usage in a given review by the word usage across the corpus of reviews tells us how significant the word is to the particular view. For a positive review, positive words should be much greater in number in those reviews vs the corpus of reviews, and thus our model should be somewhat explanatory. \n",
    "\n",
    "For word embeddings, similar rated texts hould have similar words and thus there features should be similar. This should allow teh model pick up differences across differn sentiment reviews. "
   ]
  },
  {
   "cell_type": "markdown",
   "id": "6a141a2a",
   "metadata": {},
   "source": [
    "initial tokenizing"
   ]
  },
  {
   "cell_type": "code",
   "execution_count": 23,
   "id": "d2270cef",
   "metadata": {},
   "outputs": [],
   "source": [
    "from sklearn.model_selection import train_test_split"
   ]
  },
  {
   "cell_type": "code",
   "execution_count": 24,
   "id": "0fae7d0a",
   "metadata": {},
   "outputs": [],
   "source": [
    "yrat = data.rating\n"
   ]
  },
  {
   "cell_type": "code",
   "execution_count": 25,
   "id": "20a11def",
   "metadata": {},
   "outputs": [],
   "source": [
    "rev = data.review"
   ]
  },
  {
   "cell_type": "code",
   "execution_count": 26,
   "id": "8ab23f6b",
   "metadata": {},
   "outputs": [],
   "source": [
    "#from nltk import word_tokenize\n",
    "from nltk.tokenize import RegexpTokenizer\n",
    "\n",
    "basic_token_pattern = r\"(?u)\\b\\w\\w+\\b\"\n",
    "\n",
    "tokenizer = RegexpTokenizer(basic_token_pattern)\n"
   ]
  },
  {
   "cell_type": "code",
   "execution_count": null,
   "id": "daba53f9",
   "metadata": {},
   "outputs": [],
   "source": []
  },
  {
   "cell_type": "code",
   "execution_count": 27,
   "id": "a074d65d",
   "metadata": {},
   "outputs": [],
   "source": [
    "from nltk import FreqDist"
   ]
  },
  {
   "cell_type": "markdown",
   "id": "f938a5b9",
   "metadata": {},
   "source": [
    "First tokenizing, then creating the distribution frequencies for all invidual items. "
   ]
  },
  {
   "cell_type": "code",
   "execution_count": 28,
   "id": "71b3cde2",
   "metadata": {},
   "outputs": [],
   "source": [
    "def rowFrs(reviews):\n",
    "    Frds= []\n",
    "\n",
    "    for i in data.review:\n",
    "        lw= i.lower() #lowercase letters\n",
    "        tkn = tokenizer.tokenize(lw) #tokenize (seperate in list form) all words in sample.\n",
    "        Frd= FreqDist(tkn) #Turn tokenize list into frequency distributions (dictionaries with word counts)\n",
    "        \n",
    "        Frds.append(Frd)\n",
    "    return Frds"
   ]
  },
  {
   "cell_type": "code",
   "execution_count": 29,
   "id": "10e25afd",
   "metadata": {},
   "outputs": [],
   "source": [
    "Frqs =rowFrs(rev)"
   ]
  },
  {
   "cell_type": "markdown",
   "id": "143f7d86",
   "metadata": {},
   "source": [
    "\n",
    "## tf-idf model preprocessing\n"
   ]
  },
  {
   "cell_type": "markdown",
   "id": "fb511780",
   "metadata": {},
   "source": [
    "Expand below to include all rows, i.e. creating the frequency distribution for the corpus.  Also choose a sub-sample space for this project of 16,000 (10% of total) for better computing.  "
   ]
  },
  {
   "cell_type": "code",
   "execution_count": 30,
   "id": "c4310dfa",
   "metadata": {},
   "outputs": [],
   "source": [
    "com = data[0:16000] #Cut the data from 160,000 to make more manageable."
   ]
  },
  {
   "cell_type": "code",
   "execution_count": null,
   "id": "24de9ed3",
   "metadata": {},
   "outputs": [],
   "source": []
  },
  {
   "cell_type": "code",
   "execution_count": 31,
   "id": "3d36192a",
   "metadata": {},
   "outputs": [],
   "source": [
    "comb = \"\"\n",
    "for i in com['review']:\n",
    "    comb += str(i)#Combine all reviews into one string."
   ]
  },
  {
   "cell_type": "code",
   "execution_count": 32,
   "id": "28bf93ab",
   "metadata": {},
   "outputs": [],
   "source": [
    "comb = comb.lower()#lowercase the string."
   ]
  },
  {
   "cell_type": "code",
   "execution_count": 33,
   "id": "73f3a604",
   "metadata": {},
   "outputs": [],
   "source": [
    "ttestw= tokenizer.tokenize(comb)#tokenize the string."
   ]
  },
  {
   "cell_type": "code",
   "execution_count": 34,
   "id": "a82e852e",
   "metadata": {},
   "outputs": [],
   "source": [
    "from nltk.corpus import stopwords #import stopwords module\n"
   ]
  },
  {
   "cell_type": "code",
   "execution_count": 35,
   "id": "2eb7fe5c",
   "metadata": {},
   "outputs": [],
   "source": [
    "\n",
    "stopwords_list = stopwords.words('english')\n",
    "\n",
    "w_words_stopped = [word for word in ttestw if word not in stopwords_list] #Remove stopwords"
   ]
  },
  {
   "cell_type": "code",
   "execution_count": 36,
   "id": "ec7cdb6f",
   "metadata": {},
   "outputs": [],
   "source": [
    "w_words_stoppedC = [word for word in w_words_stopped if '039' not in word] #Remove non-sensical occurrenes."
   ]
  },
  {
   "cell_type": "code",
   "execution_count": 37,
   "id": "ff35962c",
   "metadata": {},
   "outputs": [],
   "source": [
    "FD= FreqDist(w_words_stoppedC) #Create a frequency distribution for all samples."
   ]
  },
  {
   "cell_type": "markdown",
   "id": "608e6d95",
   "metadata": {},
   "source": [
    "Converting to dataframe to sort and get top 200 words."
   ]
  },
  {
   "cell_type": "code",
   "execution_count": 38,
   "id": "c6bf529c",
   "metadata": {},
   "outputs": [],
   "source": [
    "df = pd.DataFrame(data = dict(FD), index = [0])#range16k Turning the FD into a DF."
   ]
  },
  {
   "cell_type": "code",
   "execution_count": 39,
   "id": "6c7af906",
   "metadata": {},
   "outputs": [],
   "source": [
    "dft=df.transpose() #transposign the DF."
   ]
  },
  {
   "cell_type": "markdown",
   "id": "26f7cd95",
   "metadata": {},
   "source": []
  },
  {
   "cell_type": "code",
   "execution_count": 40,
   "id": "84428562",
   "metadata": {},
   "outputs": [
    {
     "data": {
      "text/html": [
       "<div>\n",
       "<style scoped>\n",
       "    .dataframe tbody tr th:only-of-type {\n",
       "        vertical-align: middle;\n",
       "    }\n",
       "\n",
       "    .dataframe tbody tr th {\n",
       "        vertical-align: top;\n",
       "    }\n",
       "\n",
       "    .dataframe thead th {\n",
       "        text-align: right;\n",
       "    }\n",
       "</style>\n",
       "<table border=\"1\" class=\"dataframe\">\n",
       "  <thead>\n",
       "    <tr style=\"text-align: right;\">\n",
       "      <th></th>\n",
       "      <th>0</th>\n",
       "    </tr>\n",
       "  </thead>\n",
       "  <tbody>\n",
       "    <tr>\n",
       "      <th>day</th>\n",
       "      <td>5787</td>\n",
       "    </tr>\n",
       "    <tr>\n",
       "      <th>side</th>\n",
       "      <td>5259</td>\n",
       "    </tr>\n",
       "    <tr>\n",
       "      <th>taking</th>\n",
       "      <td>5088</td>\n",
       "    </tr>\n",
       "    <tr>\n",
       "      <th>years</th>\n",
       "      <td>4645</td>\n",
       "    </tr>\n",
       "    <tr>\n",
       "      <th>pain</th>\n",
       "      <td>4511</td>\n",
       "    </tr>\n",
       "    <tr>\n",
       "      <th>...</th>\n",
       "      <td>...</td>\n",
       "    </tr>\n",
       "    <tr>\n",
       "      <th>tias</th>\n",
       "      <td>1</td>\n",
       "    </tr>\n",
       "    <tr>\n",
       "      <th>alamast</th>\n",
       "      <td>1</td>\n",
       "    </tr>\n",
       "    <tr>\n",
       "      <th>exfoliate</th>\n",
       "      <td>1</td>\n",
       "    </tr>\n",
       "    <tr>\n",
       "      <th>lager</th>\n",
       "      <td>1</td>\n",
       "    </tr>\n",
       "    <tr>\n",
       "      <th>biacna</th>\n",
       "      <td>1</td>\n",
       "    </tr>\n",
       "  </tbody>\n",
       "</table>\n",
       "<p>20205 rows × 1 columns</p>\n",
       "</div>"
      ],
      "text/plain": [
       "              0\n",
       "day        5787\n",
       "side       5259\n",
       "taking     5088\n",
       "years      4645\n",
       "pain       4511\n",
       "...         ...\n",
       "tias          1\n",
       "alamast       1\n",
       "exfoliate     1\n",
       "lager         1\n",
       "biacna        1\n",
       "\n",
       "[20205 rows x 1 columns]"
      ]
     },
     "execution_count": 40,
     "metadata": {},
     "output_type": "execute_result"
    }
   ],
   "source": [
    "dft.sort_values(by= 0, axis = 0, ascending = False) #Showing sorted fd."
   ]
  },
  {
   "cell_type": "markdown",
   "id": "337d7f39",
   "metadata": {},
   "source": [
    "See below, the top ten most common words from the corpus"
   ]
  },
  {
   "cell_type": "code",
   "execution_count": 41,
   "id": "cfd12caf",
   "metadata": {},
   "outputs": [],
   "source": [
    "import matplotlib.pyplot as plt\n",
    "from matplotlib.ticker import MaxNLocator\n",
    "\n",
    "def visualize_top_10(freq_dist, title):\n",
    "\n",
    "    # Extract data for plotting\n",
    "    top_10 = list(zip(*freq_dist.most_common(10)))\n",
    "    tokens = top_10[0]\n",
    "    counts = top_10[1]\n",
    "\n",
    "    # Set up plot and plot data\n",
    "    fig, ax = plt.subplots()\n",
    "    ax.bar(tokens, counts)\n",
    "\n",
    "    # Customize plot appearance\n",
    "    ax.set_title(title)\n",
    "    #ax.set_ylabel(\"Count\")\n",
    "    #ax.yaxis.set_major_locator(MaxNLocator(integer=True))\n",
    "    #ax.tick_params(axis=\"x\", rotation=90)\n",
    "    \n"
   ]
  },
  {
   "cell_type": "code",
   "execution_count": 42,
   "id": "26d8adfe",
   "metadata": {},
   "outputs": [
    {
     "data": {
      "image/png": "[encoded data removed]",
      "text/plain": [
       "<Figure size 640x480 with 1 Axes>"
      ]
     },
     "metadata": {},
     "output_type": "display_data"
    }
   ],
   "source": [
    "visualize_top_10(FD, 'top 10 words in corpus')"
   ]
  },
  {
   "cell_type": "code",
   "execution_count": 43,
   "id": "75fdb721",
   "metadata": {},
   "outputs": [],
   "source": [
    "df200 =dft.sort_values(by= 0, axis = 0).tail(200) #Finding 200 most common words."
   ]
  },
  {
   "cell_type": "code",
   "execution_count": 44,
   "id": "c9177441",
   "metadata": {},
   "outputs": [
    {
     "data": {
      "text/html": [
       "<div>\n",
       "<style scoped>\n",
       "    .dataframe tbody tr th:only-of-type {\n",
       "        vertical-align: middle;\n",
       "    }\n",
       "\n",
       "    .dataframe tbody tr th {\n",
       "        vertical-align: top;\n",
       "    }\n",
       "\n",
       "    .dataframe thead th {\n",
       "        text-align: right;\n",
       "    }\n",
       "</style>\n",
       "<table border=\"1\" class=\"dataframe\">\n",
       "  <thead>\n",
       "    <tr style=\"text-align: right;\">\n",
       "      <th></th>\n",
       "      <th>0</th>\n",
       "    </tr>\n",
       "  </thead>\n",
       "  <tbody>\n",
       "    <tr>\n",
       "      <th>minutes</th>\n",
       "      <td>649</td>\n",
       "    </tr>\n",
       "    <tr>\n",
       "      <th>appetite</th>\n",
       "      <td>649</td>\n",
       "    </tr>\n",
       "    <tr>\n",
       "      <th>relief</th>\n",
       "      <td>650</td>\n",
       "    </tr>\n",
       "    <tr>\n",
       "      <th>may</th>\n",
       "      <td>652</td>\n",
       "    </tr>\n",
       "    <tr>\n",
       "      <th>loss</th>\n",
       "      <td>652</td>\n",
       "    </tr>\n",
       "    <tr>\n",
       "      <th>...</th>\n",
       "      <td>...</td>\n",
       "    </tr>\n",
       "    <tr>\n",
       "      <th>pain</th>\n",
       "      <td>4511</td>\n",
       "    </tr>\n",
       "    <tr>\n",
       "      <th>years</th>\n",
       "      <td>4645</td>\n",
       "    </tr>\n",
       "    <tr>\n",
       "      <th>taking</th>\n",
       "      <td>5088</td>\n",
       "    </tr>\n",
       "    <tr>\n",
       "      <th>side</th>\n",
       "      <td>5259</td>\n",
       "    </tr>\n",
       "    <tr>\n",
       "      <th>day</th>\n",
       "      <td>5787</td>\n",
       "    </tr>\n",
       "  </tbody>\n",
       "</table>\n",
       "<p>200 rows × 1 columns</p>\n",
       "</div>"
      ],
      "text/plain": [
       "             0\n",
       "minutes    649\n",
       "appetite   649\n",
       "relief     650\n",
       "may        652\n",
       "loss       652\n",
       "...        ...\n",
       "pain      4511\n",
       "years     4645\n",
       "taking    5088\n",
       "side      5259\n",
       "day       5787\n",
       "\n",
       "[200 rows x 1 columns]"
      ]
     },
     "execution_count": 44,
     "metadata": {},
     "output_type": "execute_result"
    }
   ],
   "source": [
    "df200 #showing most common words."
   ]
  },
  {
   "cell_type": "markdown",
   "id": "7cb87b35",
   "metadata": {},
   "source": [
    "Adic is the inverse frequency part of tf-idf."
   ]
  },
  {
   "cell_type": "code",
   "execution_count": 45,
   "id": "dfe9b875",
   "metadata": {},
   "outputs": [],
   "source": [
    "adic={} #Turn the data series into a dictionary for ease of computing tf-idf matrix. \n",
    "for i in range(len(df200[0])):\n",
    "    indx =df200.index[i]\n",
    "    adic[indx]=df200[0][i] \n",
    "    \n"
   ]
  },
  {
   "cell_type": "markdown",
   "id": "5d5c11c1",
   "metadata": {},
   "source": [
    "Creating the tf-idf matrix. This involves a computation involving frqd's of each review and the corpus as a whole. Dividing the word usage in a given review by the word usage across the corpus of reviews tells us how significant the word is to the particular view (e.g. a word with high frequency in example review but low frequency across the corpus, would yield a high number, befitting the higher importance of the word to that review). "
   ]
  },
  {
   "cell_type": "code",
   "execution_count": 46,
   "id": "e13a85b8",
   "metadata": {},
   "outputs": [],
   "source": [
    "\n",
    "wtfids = []\n",
    "for i in range(16000): #Cutting down sample size.\n",
    "    tfidfs =list([]) # tf-idfs for each sample.\n",
    "    for k in adic.keys(): # For each sample compute tfidf's depending on iteration of i and k values. \n",
    "        num = Frqs[i].get(k,0)\n",
    "        den = adic[k]\n",
    "        tfidf = num/den\n",
    "        tfidfs.append(tfidf)\n",
    "    wtfids.append(tfidfs)"
   ]
  },
  {
   "cell_type": "markdown",
   "id": "1512d11f",
   "metadata": {},
   "source": [
    "Taking the first 16000 of the y-var (rating)."
   ]
  },
  {
   "cell_type": "code",
   "execution_count": 47,
   "id": "1088c6bf",
   "metadata": {},
   "outputs": [],
   "source": [
    "revscut= data.rating[0:16000] #Cutting sample size down."
   ]
  },
  {
   "cell_type": "code",
   "execution_count": 48,
   "id": "35882da1",
   "metadata": {},
   "outputs": [],
   "source": [
    "yvals = np.asarray(revscut) # Converting df/ds's to arrays for computation."
   ]
  },
  {
   "cell_type": "code",
   "execution_count": 49,
   "id": "5f9b47de",
   "metadata": {},
   "outputs": [],
   "source": [
    "xvals = np.asarray(wtfids)"
   ]
  },
  {
   "cell_type": "code",
   "execution_count": 50,
   "id": "d60141c3",
   "metadata": {},
   "outputs": [],
   "source": [
    "x_train, x_val, y_train,  y_val = train_test_split(xvals, yvals, random_state = 2) #train test split."
   ]
  },
  {
   "cell_type": "code",
   "execution_count": 91,
   "id": "b8bee7b3",
   "metadata": {},
   "outputs": [
    {
     "data": {
      "text/plain": [
       "array([0.        , 0.        , 0.        , 0.        , 0.        ,\n",
       "       0.        , 0.        , 0.        , 0.        , 0.        ,\n",
       "       0.        , 0.        , 0.        , 0.        , 0.        ,\n",
       "       0.        , 0.        , 0.        , 0.        , 0.        ,\n",
       "       0.        , 0.        , 0.        , 0.        , 0.        ,\n",
       "       0.        , 0.        , 0.        , 0.        , 0.        ,\n",
       "       0.        , 0.        , 0.        , 0.        , 0.        ,\n",
       "       0.        , 0.        , 0.        , 0.        , 0.        ,\n",
       "       0.        , 0.        , 0.00124533, 0.        , 0.        ,\n",
       "       0.        , 0.        , 0.        , 0.        , 0.        ,\n",
       "       0.        , 0.        , 0.        , 0.        , 0.        ,\n",
       "       0.        , 0.        , 0.        , 0.        , 0.        ,\n",
       "       0.        , 0.        , 0.        , 0.        , 0.        ,\n",
       "       0.        , 0.        , 0.        , 0.        , 0.        ,\n",
       "       0.        , 0.        , 0.        , 0.        , 0.        ,\n",
       "       0.        , 0.        , 0.        , 0.        , 0.        ,\n",
       "       0.        , 0.        , 0.        , 0.        , 0.        ,\n",
       "       0.        , 0.        , 0.        , 0.        , 0.        ,\n",
       "       0.        , 0.        , 0.        , 0.        , 0.        ,\n",
       "       0.        , 0.        , 0.        , 0.        , 0.        ,\n",
       "       0.        , 0.        , 0.        , 0.        , 0.        ,\n",
       "       0.        , 0.00167645, 0.        , 0.        , 0.        ,\n",
       "       0.00162866, 0.00162734, 0.        , 0.        , 0.        ,\n",
       "       0.        , 0.        , 0.        , 0.        , 0.        ,\n",
       "       0.        , 0.        , 0.        , 0.        , 0.        ,\n",
       "       0.        , 0.        , 0.        , 0.        , 0.        ,\n",
       "       0.00065963, 0.        , 0.        , 0.        , 0.        ,\n",
       "       0.        , 0.        , 0.        , 0.        , 0.        ,\n",
       "       0.        , 0.00121803, 0.00119119, 0.        , 0.        ,\n",
       "       0.        , 0.        , 0.        , 0.        , 0.        ,\n",
       "       0.        , 0.        , 0.        , 0.        , 0.        ,\n",
       "       0.00098619, 0.        , 0.        , 0.        , 0.00047259,\n",
       "       0.        , 0.        , 0.00046232, 0.00045788, 0.        ,\n",
       "       0.        , 0.        , 0.        , 0.        , 0.        ,\n",
       "       0.        , 0.        , 0.        , 0.        , 0.00036483,\n",
       "       0.        , 0.00036179, 0.        , 0.        , 0.        ,\n",
       "       0.        , 0.        , 0.        , 0.        , 0.        ,\n",
       "       0.        , 0.00025674, 0.        , 0.00073783, 0.        ,\n",
       "       0.00024038, 0.        , 0.        , 0.00068509, 0.        ,\n",
       "       0.        , 0.        , 0.        , 0.        , 0.        ])"
      ]
     },
     "execution_count": 91,
     "metadata": {},
     "output_type": "execute_result"
    }
   ],
   "source": [
    "xvals[3] #Example sample shows sparseness as most reviews have about 90 words and there are 200 words from the corpus to match with). "
   ]
  },
  {
   "cell_type": "markdown",
   "id": "ae33fce7",
   "metadata": {},
   "source": [
    "## word embeddings, premade, processing"
   ]
  },
  {
   "cell_type": "markdown",
   "id": "62a0bf54",
   "metadata": {},
   "source": []
  },
  {
   "cell_type": "code",
   "execution_count": 51,
   "id": "a26fef77",
   "metadata": {},
   "outputs": [],
   "source": [
    "total_vocabulary = set(word for word in w_words_stoppedC)"
   ]
  },
  {
   "cell_type": "code",
   "execution_count": 52,
   "id": "29f3099f",
   "metadata": {},
   "outputs": [
    {
     "data": {
      "text/plain": [
       "20205"
      ]
     },
     "execution_count": 52,
     "metadata": {},
     "output_type": "execute_result"
    }
   ],
   "source": [
    "len(total_vocabulary)"
   ]
  },
  {
   "cell_type": "code",
   "execution_count": 53,
   "id": "7b4fa3b5",
   "metadata": {},
   "outputs": [],
   "source": [
    "glove = {} #importing glove vectorizer\n",
    "with open('glove.6B.50d.txt', 'rb') as f:\n",
    "    for line in f:\n",
    "        parts = line.split()\n",
    "        word = parts[0].decode('utf-8')\n",
    "        if word in total_vocabulary: #Cutting glove words down to only those in the corpus of documents.\n",
    "            vector = np.array(parts[1:], dtype=np.float32)\n",
    "            glove[word] = vector"
   ]
  },
  {
   "cell_type": "code",
   "execution_count": 54,
   "id": "eda70e6b",
   "metadata": {},
   "outputs": [],
   "source": [
    "class W2vVectorizer(object):\n",
    "    \n",
    "    def __init__(self, w2v):\n",
    "        # Takes in a dictionary of words and vectors as input\n",
    "        self.w2v = w2v\n",
    "        if len(w2v) == 0:\n",
    "            self.dimensions = 0\n",
    "        else:\n",
    "            self.dimensions = len(w2v[next(iter(glove))])\n",
    "    \n",
    "    def fit(self, X, y):\n",
    "        return self\n",
    "    # Gets the mean vector from all different words in the particular review.        \n",
    "    def transform(self, X):\n",
    "        return np.array([\n",
    "            np.mean([self.w2v[w] for w in words if w in self.w2v]\n",
    "                   or [np.zeros(self.dimensions)], axis=0) for words in X])"
   ]
  },
  {
   "cell_type": "markdown",
   "id": "9fc16b80",
   "metadata": {},
   "source": [
    "A view of how word-embeddings captures meaning: a) near synonyms (school, college) are closest (across 50 dimensions), b) two unrelated words ('drug, condition') are furthest apart, c) antonyms ('better or worse') are between the two.  "
   ]
  },
  {
   "cell_type": "code",
   "execution_count": 69,
   "id": "bd5c9939",
   "metadata": {},
   "outputs": [
    {
     "data": {
      "text/plain": [
       "0.09753286"
      ]
     },
     "execution_count": 69,
     "metadata": {},
     "output_type": "execute_result"
    }
   ],
   "source": [
    "synDif =mean_squared_error(glove['school'],glove['college'])#compute distance between these words.\n",
    "synDif"
   ]
  },
  {
   "cell_type": "code",
   "execution_count": 70,
   "id": "e051fd74",
   "metadata": {},
   "outputs": [
    {
     "data": {
      "text/plain": [
       "0.7536165"
      ]
     },
     "execution_count": 70,
     "metadata": {},
     "output_type": "execute_result"
    }
   ],
   "source": [
    "ranDif =mean_squared_error(glove['drug'],glove['condition'])#compute distance between these words.\n",
    "ranDif"
   ]
  },
  {
   "cell_type": "code",
   "execution_count": 71,
   "id": "ba6100f1",
   "metadata": {},
   "outputs": [
    {
     "data": {
      "text/plain": [
       "0.22213833"
      ]
     },
     "execution_count": 71,
     "metadata": {},
     "output_type": "execute_result"
    }
   ],
   "source": [
    "oppDif= mean_squared_error(glove['better'],glove['worse'])#compute distance between these words.\n",
    "oppDif"
   ]
  },
  {
   "cell_type": "code",
   "execution_count": 72,
   "id": "337a5feb",
   "metadata": {},
   "outputs": [
    {
     "data": {
      "text/plain": [
       "0.6238781"
      ]
     },
     "execution_count": 72,
     "metadata": {},
     "output_type": "execute_result"
    }
   ],
   "source": [
    "ranDif2 =mean_squared_error(glove['treatment'],glove['side'])#compute distance between these words.\n",
    "ranDif2 "
   ]
  },
  {
   "cell_type": "markdown",
   "id": "33d2f3a0",
   "metadata": {},
   "source": [
    "plt.figure(figsize = (15,15))\n",
    "ax.barh(['synDif','ranDif','oppDif','ranDif2'], [synDif,ranDif,oppDif,ranDif2]) \n",
    "plt.show()"
   ]
  },
  {
   "cell_type": "markdown",
   "id": "d230c9ef",
   "metadata": {},
   "source": [
    "plt.barh()"
   ]
  },
  {
   "cell_type": "code",
   "execution_count": 87,
   "id": "aceaa8f9",
   "metadata": {},
   "outputs": [],
   "source": [
    "t1 = W2vVectorizer(glove) #initializing vectorizer with premade glove "
   ]
  },
  {
   "cell_type": "code",
   "execution_count": 92,
   "id": "5c5eca3a",
   "metadata": {},
   "outputs": [
    {
     "data": {
      "text/plain": [
       "50"
      ]
     },
     "execution_count": 92,
     "metadata": {},
     "output_type": "execute_result"
    }
   ],
   "source": [
    "t1.dimensions #showing the dimensionality per word."
   ]
  },
  {
   "cell_type": "markdown",
   "id": "bb1aed51",
   "metadata": {},
   "source": [
    "Creating word embeddings:"
   ]
  },
  {
   "cell_type": "code",
   "execution_count": 89,
   "id": "32b40526",
   "metadata": {},
   "outputs": [],
   "source": [
    "t2 = t1.transform(Frqs)#transformign indivdual frequency distributions to 50 dimensional samples based on the above code (taking the mean across all words for each dimension)"
   ]
  },
  {
   "cell_type": "code",
   "execution_count": 97,
   "id": "4bb0c298",
   "metadata": {},
   "outputs": [
    {
     "data": {
      "text/plain": [
       "(161297, 50)"
      ]
     },
     "execution_count": 97,
     "metadata": {},
     "output_type": "execute_result"
    }
   ],
   "source": [
    "np.shape(t2)"
   ]
  },
  {
   "cell_type": "code",
   "execution_count": 98,
   "id": "599bc669",
   "metadata": {},
   "outputs": [],
   "source": [
    "ys=data.rating[0:16000] #cutting dependent and independent variables to 16000 samplse. \n",
    "t2 =t2[0:16000]"
   ]
  },
  {
   "cell_type": "code",
   "execution_count": 93,
   "id": "ddad814f",
   "metadata": {},
   "outputs": [
    {
     "ename": "NameError",
     "evalue": "name 'ys' is not defined",
     "output_type": "error",
     "traceback": [
      "\u001b[1;31m---------------------------------------------------------------------------\u001b[0m",
      "\u001b[1;31mNameError\u001b[0m                                 Traceback (most recent call last)",
      "Cell \u001b[1;32mIn[93], line 1\u001b[0m\n\u001b[1;32m----> 1\u001b[0m x_trainW, x_valW, y_trainW,  y_valW \u001b[38;5;241m=\u001b[39m train_test_split(t2, \u001b[43mys\u001b[49m, random_state \u001b[38;5;241m=\u001b[39m \u001b[38;5;241m2\u001b[39m) \u001b[38;5;66;03m#train-test split for word embedding processed data.\u001b[39;00m\n",
      "\u001b[1;31mNameError\u001b[0m: name 'ys' is not defined"
     ]
    }
   ],
   "source": [
    "x_trainW, x_valW, y_trainW,  y_valW = train_test_split(t2, ys, random_state = 2) #train-test split for word embedding processed data."
   ]
  },
  {
   "cell_type": "markdown",
   "id": "d23b8b76",
   "metadata": {},
   "source": [
    "# Data modeling\n"
   ]
  },
  {
   "cell_type": "code",
   "execution_count": 63,
   "id": "e9db0eb6",
   "metadata": {},
   "outputs": [],
   "source": [
    "from sklearn.metrics import mean_squared_error"
   ]
  },
  {
   "cell_type": "code",
   "execution_count": 43,
   "id": "3810141e",
   "metadata": {},
   "outputs": [],
   "source": [
    "from sklearn.tree import DecisionTreeRegressor"
   ]
  },
  {
   "cell_type": "code",
   "execution_count": 44,
   "id": "231e5a89",
   "metadata": {},
   "outputs": [],
   "source": [
    "from sklearn.ensemble import RandomForestRegressor"
   ]
  },
  {
   "cell_type": "markdown",
   "id": "b53d52d1",
   "metadata": {},
   "source": [
    "The data modeling section describes each model iteration, including the first two baseline strategies of random guess and simple decision tree regression.  Models are evaluated based on their mse or rmse. Given that during optimizations, loss is calculated by mse, it is reasonable to use rmse as a measure of average distance between prediction and actual. Rmses can be considered as, the average, ratings points off of the actual ratings, for all ratings.\n",
    "\n",
    "The first set of models computed use the tf-idf for feature engineering, while the second set of models use word-embedding for feature engineering. Tree regressions and linear models are used. "
   ]
  },
  {
   "cell_type": "markdown",
   "id": "b7d4bc98",
   "metadata": {},
   "source": [
    "### Random guess (by mean) yields an rmse of 3.27."
   ]
  },
  {
   "cell_type": "code",
   "execution_count": 37,
   "id": "a3cbb7b8",
   "metadata": {},
   "outputs": [
    {
     "data": {
      "text/plain": [
       "6.994376832799122"
      ]
     },
     "execution_count": 37,
     "metadata": {},
     "output_type": "execute_result"
    }
   ],
   "source": [
    "data.rating.mean()"
   ]
  },
  {
   "cell_type": "code",
   "execution_count": 38,
   "id": "8cf0edb1",
   "metadata": {},
   "outputs": [],
   "source": [
    "from sklearn.metrics import mean_squared_error"
   ]
  },
  {
   "cell_type": "code",
   "execution_count": 39,
   "id": "0062ee41",
   "metadata": {},
   "outputs": [],
   "source": [
    "data['aver_rat']=7"
   ]
  },
  {
   "cell_type": "code",
   "execution_count": 40,
   "id": "4d133168",
   "metadata": {},
   "outputs": [
    {
     "data": {
      "text/plain": [
       "10.708103684507462"
      ]
     },
     "execution_count": 40,
     "metadata": {},
     "output_type": "execute_result"
    }
   ],
   "source": [
    "mean_squared_error(data.rating, data['aver_rat'])"
   ]
  },
  {
   "cell_type": "code",
   "execution_count": 41,
   "id": "cf3243b6",
   "metadata": {},
   "outputs": [
    {
     "data": {
      "text/plain": [
       "3.271085446759225"
      ]
     },
     "execution_count": 41,
     "metadata": {},
     "output_type": "execute_result"
    }
   ],
   "source": [
    "10.7**.5"
   ]
  },
  {
   "cell_type": "markdown",
   "id": "62e010d1",
   "metadata": {},
   "source": [
    "### Try a baseline regression tree, a simple model with low depth, and using tf-idf features. "
   ]
  },
  {
   "cell_type": "code",
   "execution_count": 50,
   "id": "d91a9dc8",
   "metadata": {},
   "outputs": [],
   "source": [
    "regrtr1 = DecisionTreeRegressor(max_depth = 3) #instantiate tree regressor.\n"
   ]
  },
  {
   "cell_type": "code",
   "execution_count": 51,
   "id": "367abc22",
   "metadata": {},
   "outputs": [
    {
     "data": {
      "text/html": [
       "<style>#sk-container-id-1 {color: black;}#sk-container-id-1 pre{padding: 0;}#sk-container-id-1 div.sk-toggleable {background-color: white;}#sk-container-id-1 label.sk-toggleable__label {cursor: pointer;display: block;width: 100%;margin-bottom: 0;padding: 0.3em;box-sizing: border-box;text-align: center;}#sk-container-id-1 label.sk-toggleable__label-arrow:before {content: \"▸\";float: left;margin-right: 0.25em;color: #696969;}#sk-container-id-1 label.sk-toggleable__label-arrow:hover:before {color: black;}#sk-container-id-1 div.sk-estimator:hover label.sk-toggleable__label-arrow:before {color: black;}#sk-container-id-1 div.sk-toggleable__content {max-height: 0;max-width: 0;overflow: hidden;text-align: left;background-color: #f0f8ff;}#sk-container-id-1 div.sk-toggleable__content pre {margin: 0.2em;color: black;border-radius: 0.25em;background-color: #f0f8ff;}#sk-container-id-1 input.sk-toggleable__control:checked~div.sk-toggleable__content {max-height: 200px;max-width: 100%;overflow: auto;}#sk-container-id-1 input.sk-toggleable__control:checked~label.sk-toggleable__label-arrow:before {content: \"▾\";}#sk-container-id-1 div.sk-estimator input.sk-toggleable__control:checked~label.sk-toggleable__label {background-color: #d4ebff;}#sk-container-id-1 div.sk-label input.sk-toggleable__control:checked~label.sk-toggleable__label {background-color: #d4ebff;}#sk-container-id-1 input.sk-hidden--visually {border: 0;clip: rect(1px 1px 1px 1px);clip: rect(1px, 1px, 1px, 1px);height: 1px;margin: -1px;overflow: hidden;padding: 0;position: absolute;width: 1px;}#sk-container-id-1 div.sk-estimator {font-family: monospace;background-color: #f0f8ff;border: 1px dotted black;border-radius: 0.25em;box-sizing: border-box;margin-bottom: 0.5em;}#sk-container-id-1 div.sk-estimator:hover {background-color: #d4ebff;}#sk-container-id-1 div.sk-parallel-item::after {content: \"\";width: 100%;border-bottom: 1px solid gray;flex-grow: 1;}#sk-container-id-1 div.sk-label:hover label.sk-toggleable__label {background-color: #d4ebff;}#sk-container-id-1 div.sk-serial::before {content: \"\";position: absolute;border-left: 1px solid gray;box-sizing: border-box;top: 0;bottom: 0;left: 50%;z-index: 0;}#sk-container-id-1 div.sk-serial {display: flex;flex-direction: column;align-items: center;background-color: white;padding-right: 0.2em;padding-left: 0.2em;position: relative;}#sk-container-id-1 div.sk-item {position: relative;z-index: 1;}#sk-container-id-1 div.sk-parallel {display: flex;align-items: stretch;justify-content: center;background-color: white;position: relative;}#sk-container-id-1 div.sk-item::before, #sk-container-id-1 div.sk-parallel-item::before {content: \"\";position: absolute;border-left: 1px solid gray;box-sizing: border-box;top: 0;bottom: 0;left: 50%;z-index: -1;}#sk-container-id-1 div.sk-parallel-item {display: flex;flex-direction: column;z-index: 1;position: relative;background-color: white;}#sk-container-id-1 div.sk-parallel-item:first-child::after {align-self: flex-end;width: 50%;}#sk-container-id-1 div.sk-parallel-item:last-child::after {align-self: flex-start;width: 50%;}#sk-container-id-1 div.sk-parallel-item:only-child::after {width: 0;}#sk-container-id-1 div.sk-dashed-wrapped {border: 1px dashed gray;margin: 0 0.4em 0.5em 0.4em;box-sizing: border-box;padding-bottom: 0.4em;background-color: white;}#sk-container-id-1 div.sk-label label {font-family: monospace;font-weight: bold;display: inline-block;line-height: 1.2em;}#sk-container-id-1 div.sk-label-container {text-align: center;}#sk-container-id-1 div.sk-container {/* jupyter's `normalize.less` sets `[hidden] { display: none; }` but bootstrap.min.css set `[hidden] { display: none !important; }` so we also need the `!important` here to be able to override the default hidden behavior on the sphinx rendered scikit-learn.org. See: https://github.com/scikit-learn/scikit-learn/issues/21755 */display: inline-block !important;position: relative;}#sk-container-id-1 div.sk-text-repr-fallback {display: none;}</style><div id=\"sk-container-id-1\" class=\"sk-top-container\"><div class=\"sk-text-repr-fallback\"><pre>DecisionTreeRegressor(max_depth=3)</pre><b>In a Jupyter environment, please rerun this cell to show the HTML representation or trust the notebook. <br />On GitHub, the HTML representation is unable to render, please try loading this page with nbviewer.org.</b></div><div class=\"sk-container\" hidden><div class=\"sk-item\"><div class=\"sk-estimator sk-toggleable\"><input class=\"sk-toggleable__control sk-hidden--visually\" id=\"sk-estimator-id-1\" type=\"checkbox\" checked><label for=\"sk-estimator-id-1\" class=\"sk-toggleable__label sk-toggleable__label-arrow\">DecisionTreeRegressor</label><div class=\"sk-toggleable__content\"><pre>DecisionTreeRegressor(max_depth=3)</pre></div></div></div></div></div>"
      ],
      "text/plain": [
       "DecisionTreeRegressor(max_depth=3)"
      ]
     },
     "execution_count": 51,
     "metadata": {},
     "output_type": "execute_result"
    }
   ],
   "source": [
    "regrtr1.fit(x_train, y_train)#fit to training data"
   ]
  },
  {
   "cell_type": "code",
   "execution_count": 52,
   "id": "6e7c6e21",
   "metadata": {},
   "outputs": [],
   "source": [
    "prds1 = regrtr1.predict(x_train)#predict on training data"
   ]
  },
  {
   "cell_type": "code",
   "execution_count": 53,
   "id": "36dbddb6",
   "metadata": {},
   "outputs": [
    {
     "data": {
      "text/plain": [
       "10.02306910442066"
      ]
     },
     "execution_count": 53,
     "metadata": {},
     "output_type": "execute_result"
    }
   ],
   "source": [
    "mean_squared_error(y_train, prds1)#find mse of predictions"
   ]
  },
  {
   "cell_type": "code",
   "execution_count": 54,
   "id": "c2c4f139",
   "metadata": {},
   "outputs": [
    {
     "data": {
      "text/plain": [
       "3.165923104628516"
      ]
     },
     "execution_count": 54,
     "metadata": {},
     "output_type": "execute_result"
    }
   ],
   "source": [
    "rmse = mean_squared_error(y_train, prds1)**.5 #find rmse of predictions\n",
    "rmse"
   ]
  },
  {
   "cell_type": "code",
   "execution_count": 94,
   "id": "2ab2ece6",
   "metadata": {},
   "outputs": [
    {
     "ename": "NameError",
     "evalue": "name 'regrtr1' is not defined",
     "output_type": "error",
     "traceback": [
      "\u001b[1;31m---------------------------------------------------------------------------\u001b[0m",
      "\u001b[1;31mNameError\u001b[0m                                 Traceback (most recent call last)",
      "Cell \u001b[1;32mIn[94], line 1\u001b[0m\n\u001b[1;32m----> 1\u001b[0m \u001b[43mregrtr1\u001b[49m\u001b[38;5;241m.\u001b[39mfeature_importances_ \u001b[38;5;66;03m# Find importance of word features to prediction.  Words are sparsely important.\u001b[39;00m\n",
      "\u001b[1;31mNameError\u001b[0m: name 'regrtr1' is not defined"
     ]
    }
   ],
   "source": [
    "regrtr1.feature_importances_ # Find importance of word features to prediction.  Words are sparsely important."
   ]
  },
  {
   "cell_type": "code",
   "execution_count": null,
   "id": "61b32aab",
   "metadata": {},
   "outputs": [],
   "source": []
  },
  {
   "cell_type": "code",
   "execution_count": 57,
   "id": "3ad1187f",
   "metadata": {},
   "outputs": [],
   "source": [
    "indx =[] #finding indexes of the important featuers.\n",
    "\n",
    "fis = regrtr1.feature_importances_\n",
    "for i in range(len(fis)):\n",
    "    if fis[i]>.02: # only include appendix if feature importance score is over .02.  This looks like natural cut-off in above array. \n",
    "        indx.append(i)"
   ]
  },
  {
   "cell_type": "code",
   "execution_count": 58,
   "id": "90624666",
   "metadata": {},
   "outputs": [],
   "source": [
    "featlist = [] #creating a list of keys, or features, (using their above index) that are most important in model.\n",
    "for i in indx:\n",
    "    key = list(adic.keys())[i]    \n",
    "    featlist.append(key)\n",
    "    "
   ]
  },
  {
   "cell_type": "code",
   "execution_count": 59,
   "id": "f4d546c0",
   "metadata": {},
   "outputs": [
    {
     "data": {
      "text/plain": [
       "['worst', 'best', 'worse', 'acne', 'good', 'life']"
      ]
     },
     "execution_count": 59,
     "metadata": {},
     "output_type": "execute_result"
    }
   ],
   "source": [
    "featlist"
   ]
  },
  {
   "cell_type": "code",
   "execution_count": 60,
   "id": "4fa64070",
   "metadata": {},
   "outputs": [
    {
     "data": {
      "text/plain": [
       "Text(0.5, 1.0, 'most significant features')"
      ]
     },
     "execution_count": 60,
     "metadata": {},
     "output_type": "execute_result"
    },
    {
     "data": {
      "image/png": "[encoded data removed]",
      "text/plain": [
       "<Figure size 640x480 with 1 Axes>"
      ]
     },
     "metadata": {},
     "output_type": "display_data"
    }
   ],
   "source": [
    "#### plt.figure(figsize=(25,25))\n",
    "\n",
    "plt.barh(featlist, regrtr1.feature_importances_[indx])\n",
    "plt.title(\"most significant features\")\n"
   ]
  },
  {
   "cell_type": "code",
   "execution_count": 61,
   "id": "4c12217c",
   "metadata": {},
   "outputs": [],
   "source": [
    "prds1val = regrtr1.predict(x_val) #predict on validation data with model."
   ]
  },
  {
   "cell_type": "code",
   "execution_count": 62,
   "id": "0edfd0dc",
   "metadata": {},
   "outputs": [
    {
     "data": {
      "text/plain": [
       "10.286036787132614"
      ]
     },
     "execution_count": 62,
     "metadata": {},
     "output_type": "execute_result"
    }
   ],
   "source": [
    "mean_squared_error(y_val, prds1val)#find mse of predictions"
   ]
  },
  {
   "cell_type": "code",
   "execution_count": 63,
   "id": "591e8f93",
   "metadata": {},
   "outputs": [
    {
     "data": {
      "text/plain": [
       "3.165923104628516"
      ]
     },
     "execution_count": 63,
     "metadata": {},
     "output_type": "execute_result"
    }
   ],
   "source": [
    "rmseBT = mean_squared_error(y_val, prds1val)**.5\n",
    "rmse"
   ]
  },
  {
   "cell_type": "markdown",
   "id": "64d61089",
   "metadata": {},
   "source": [
    "Barely any gain over guessing strategy (3.20 vs 3.27 rmses) .  Not much overfitting based on similar results on validation. Try trees with greater depths/complexity to reduce underfitting:"
   ]
  },
  {
   "cell_type": "markdown",
   "id": "26e5993e",
   "metadata": {},
   "source": [
    "### Use GSCV to find better models"
   ]
  },
  {
   "cell_type": "code",
   "execution_count": 64,
   "id": "3ceeddeb",
   "metadata": {},
   "outputs": [],
   "source": [
    "from sklearn.model_selection import GridSearchCV"
   ]
  },
  {
   "cell_type": "code",
   "execution_count": 65,
   "id": "523b0e5e",
   "metadata": {},
   "outputs": [],
   "source": [
    "clf = DecisionTreeRegressor() #instantiate classifier for gridsearch \n",
    "\n",
    "param_grid = { #allow params to make the tree more complex than prior model\n",
    "    'max_depth': [1, 2, 5, 10],\n",
    "    'min_samples_split': [1, 5, 10, 20]\n",
    "}\n",
    "\n",
    "gs_tree = GridSearchCV(clf, param_grid, cv=3) #instantiate grid search tree\n",
    "\n"
   ]
  },
  {
   "cell_type": "code",
   "execution_count": 66,
   "id": "4348c7b6",
   "metadata": {},
   "outputs": [
    {
     "name": "stderr",
     "output_type": "stream",
     "text": [
      "C:\\Users\\jmark\\anaconda3\\envs\\dash-env\\lib\\site-packages\\sklearn\\model_selection\\_validation.py:425: FitFailedWarning: \n",
      "12 fits failed out of a total of 48.\n",
      "The score on these train-test partitions for these parameters will be set to nan.\n",
      "If these failures are not expected, you can try to debug them by setting error_score='raise'.\n",
      "\n",
      "Below are more details about the failures:\n",
      "--------------------------------------------------------------------------------\n",
      "12 fits failed with the following error:\n",
      "Traceback (most recent call last):\n",
      "  File \"C:\\Users\\jmark\\anaconda3\\envs\\dash-env\\lib\\site-packages\\sklearn\\model_selection\\_validation.py\", line 732, in _fit_and_score\n",
      "    estimator.fit(X_train, y_train, **fit_params)\n",
      "  File \"C:\\Users\\jmark\\anaconda3\\envs\\dash-env\\lib\\site-packages\\sklearn\\base.py\", line 1144, in wrapper\n",
      "    estimator._validate_params()\n",
      "  File \"C:\\Users\\jmark\\anaconda3\\envs\\dash-env\\lib\\site-packages\\sklearn\\base.py\", line 637, in _validate_params\n",
      "    validate_parameter_constraints(\n",
      "  File \"C:\\Users\\jmark\\anaconda3\\envs\\dash-env\\lib\\site-packages\\sklearn\\utils\\_param_validation.py\", line 95, in validate_parameter_constraints\n",
      "    raise InvalidParameterError(\n",
      "sklearn.utils._param_validation.InvalidParameterError: The 'min_samples_split' parameter of DecisionTreeRegressor must be an int in the range [2, inf) or a float in the range (0.0, 1.0]. Got 1 instead.\n",
      "\n",
      "  warnings.warn(some_fits_failed_message, FitFailedWarning)\n",
      "C:\\Users\\jmark\\anaconda3\\envs\\dash-env\\lib\\site-packages\\sklearn\\model_selection\\_search.py:976: UserWarning: One or more of the test scores are non-finite: [       nan 0.01547882 0.01547882 0.01547882        nan 0.03137788\n",
      " 0.03137788 0.03137788        nan 0.07292062 0.07345774 0.07358855\n",
      "        nan 0.06927044 0.0721794  0.07942796]\n",
      "  warnings.warn(\n"
     ]
    },
    {
     "data": {
      "text/html": [
       "<style>#sk-container-id-2 {color: black;}#sk-container-id-2 pre{padding: 0;}#sk-container-id-2 div.sk-toggleable {background-color: white;}#sk-container-id-2 label.sk-toggleable__label {cursor: pointer;display: block;width: 100%;margin-bottom: 0;padding: 0.3em;box-sizing: border-box;text-align: center;}#sk-container-id-2 label.sk-toggleable__label-arrow:before {content: \"▸\";float: left;margin-right: 0.25em;color: #696969;}#sk-container-id-2 label.sk-toggleable__label-arrow:hover:before {color: black;}#sk-container-id-2 div.sk-estimator:hover label.sk-toggleable__label-arrow:before {color: black;}#sk-container-id-2 div.sk-toggleable__content {max-height: 0;max-width: 0;overflow: hidden;text-align: left;background-color: #f0f8ff;}#sk-container-id-2 div.sk-toggleable__content pre {margin: 0.2em;color: black;border-radius: 0.25em;background-color: #f0f8ff;}#sk-container-id-2 input.sk-toggleable__control:checked~div.sk-toggleable__content {max-height: 200px;max-width: 100%;overflow: auto;}#sk-container-id-2 input.sk-toggleable__control:checked~label.sk-toggleable__label-arrow:before {content: \"▾\";}#sk-container-id-2 div.sk-estimator input.sk-toggleable__control:checked~label.sk-toggleable__label {background-color: #d4ebff;}#sk-container-id-2 div.sk-label input.sk-toggleable__control:checked~label.sk-toggleable__label {background-color: #d4ebff;}#sk-container-id-2 input.sk-hidden--visually {border: 0;clip: rect(1px 1px 1px 1px);clip: rect(1px, 1px, 1px, 1px);height: 1px;margin: -1px;overflow: hidden;padding: 0;position: absolute;width: 1px;}#sk-container-id-2 div.sk-estimator {font-family: monospace;background-color: #f0f8ff;border: 1px dotted black;border-radius: 0.25em;box-sizing: border-box;margin-bottom: 0.5em;}#sk-container-id-2 div.sk-estimator:hover {background-color: #d4ebff;}#sk-container-id-2 div.sk-parallel-item::after {content: \"\";width: 100%;border-bottom: 1px solid gray;flex-grow: 1;}#sk-container-id-2 div.sk-label:hover label.sk-toggleable__label {background-color: #d4ebff;}#sk-container-id-2 div.sk-serial::before {content: \"\";position: absolute;border-left: 1px solid gray;box-sizing: border-box;top: 0;bottom: 0;left: 50%;z-index: 0;}#sk-container-id-2 div.sk-serial {display: flex;flex-direction: column;align-items: center;background-color: white;padding-right: 0.2em;padding-left: 0.2em;position: relative;}#sk-container-id-2 div.sk-item {position: relative;z-index: 1;}#sk-container-id-2 div.sk-parallel {display: flex;align-items: stretch;justify-content: center;background-color: white;position: relative;}#sk-container-id-2 div.sk-item::before, #sk-container-id-2 div.sk-parallel-item::before {content: \"\";position: absolute;border-left: 1px solid gray;box-sizing: border-box;top: 0;bottom: 0;left: 50%;z-index: -1;}#sk-container-id-2 div.sk-parallel-item {display: flex;flex-direction: column;z-index: 1;position: relative;background-color: white;}#sk-container-id-2 div.sk-parallel-item:first-child::after {align-self: flex-end;width: 50%;}#sk-container-id-2 div.sk-parallel-item:last-child::after {align-self: flex-start;width: 50%;}#sk-container-id-2 div.sk-parallel-item:only-child::after {width: 0;}#sk-container-id-2 div.sk-dashed-wrapped {border: 1px dashed gray;margin: 0 0.4em 0.5em 0.4em;box-sizing: border-box;padding-bottom: 0.4em;background-color: white;}#sk-container-id-2 div.sk-label label {font-family: monospace;font-weight: bold;display: inline-block;line-height: 1.2em;}#sk-container-id-2 div.sk-label-container {text-align: center;}#sk-container-id-2 div.sk-container {/* jupyter's `normalize.less` sets `[hidden] { display: none; }` but bootstrap.min.css set `[hidden] { display: none !important; }` so we also need the `!important` here to be able to override the default hidden behavior on the sphinx rendered scikit-learn.org. See: https://github.com/scikit-learn/scikit-learn/issues/21755 */display: inline-block !important;position: relative;}#sk-container-id-2 div.sk-text-repr-fallback {display: none;}</style><div id=\"sk-container-id-2\" class=\"sk-top-container\"><div class=\"sk-text-repr-fallback\"><pre>GridSearchCV(cv=3, estimator=DecisionTreeRegressor(),\n",
       "             param_grid={&#x27;max_depth&#x27;: [1, 2, 5, 10],\n",
       "                         &#x27;min_samples_split&#x27;: [1, 5, 10, 20]})</pre><b>In a Jupyter environment, please rerun this cell to show the HTML representation or trust the notebook. <br />On GitHub, the HTML representation is unable to render, please try loading this page with nbviewer.org.</b></div><div class=\"sk-container\" hidden><div class=\"sk-item sk-dashed-wrapped\"><div class=\"sk-label-container\"><div class=\"sk-label sk-toggleable\"><input class=\"sk-toggleable__control sk-hidden--visually\" id=\"sk-estimator-id-2\" type=\"checkbox\" ><label for=\"sk-estimator-id-2\" class=\"sk-toggleable__label sk-toggleable__label-arrow\">GridSearchCV</label><div class=\"sk-toggleable__content\"><pre>GridSearchCV(cv=3, estimator=DecisionTreeRegressor(),\n",
       "             param_grid={&#x27;max_depth&#x27;: [1, 2, 5, 10],\n",
       "                         &#x27;min_samples_split&#x27;: [1, 5, 10, 20]})</pre></div></div></div><div class=\"sk-parallel\"><div class=\"sk-parallel-item\"><div class=\"sk-item\"><div class=\"sk-label-container\"><div class=\"sk-label sk-toggleable\"><input class=\"sk-toggleable__control sk-hidden--visually\" id=\"sk-estimator-id-3\" type=\"checkbox\" ><label for=\"sk-estimator-id-3\" class=\"sk-toggleable__label sk-toggleable__label-arrow\">estimator: DecisionTreeRegressor</label><div class=\"sk-toggleable__content\"><pre>DecisionTreeRegressor()</pre></div></div></div><div class=\"sk-serial\"><div class=\"sk-item\"><div class=\"sk-estimator sk-toggleable\"><input class=\"sk-toggleable__control sk-hidden--visually\" id=\"sk-estimator-id-4\" type=\"checkbox\" ><label for=\"sk-estimator-id-4\" class=\"sk-toggleable__label sk-toggleable__label-arrow\">DecisionTreeRegressor</label><div class=\"sk-toggleable__content\"><pre>DecisionTreeRegressor()</pre></div></div></div></div></div></div></div></div></div></div>"
      ],
      "text/plain": [
       "GridSearchCV(cv=3, estimator=DecisionTreeRegressor(),\n",
       "             param_grid={'max_depth': [1, 2, 5, 10],\n",
       "                         'min_samples_split': [1, 5, 10, 20]})"
      ]
     },
     "execution_count": 66,
     "metadata": {},
     "output_type": "execute_result"
    }
   ],
   "source": [
    "gs_tree.fit(x_train, y_train)#fit grid search tree to train data.\n"
   ]
  },
  {
   "cell_type": "code",
   "execution_count": 67,
   "id": "1ed1374d",
   "metadata": {},
   "outputs": [
    {
     "data": {
      "text/plain": [
       "{'max_depth': 10, 'min_samples_split': 20}"
      ]
     },
     "execution_count": 67,
     "metadata": {},
     "output_type": "execute_result"
    }
   ],
   "source": [
    "\n",
    "gs_tree.best_params_ # show the params of the best fitting(and chosen) model."
   ]
  },
  {
   "cell_type": "code",
   "execution_count": 68,
   "id": "bd2b1653",
   "metadata": {},
   "outputs": [],
   "source": [
    "gspr = gs_tree.predict(x_train)# predict based on train data."
   ]
  },
  {
   "cell_type": "code",
   "execution_count": 69,
   "id": "d0328eec",
   "metadata": {},
   "outputs": [
    {
     "data": {
      "text/plain": [
       "8.339465969928948"
      ]
     },
     "execution_count": 69,
     "metadata": {},
     "output_type": "execute_result"
    }
   ],
   "source": [
    "mean_squared_error(y_train, gspr)"
   ]
  },
  {
   "cell_type": "code",
   "execution_count": 70,
   "id": "fb23dce0",
   "metadata": {},
   "outputs": [
    {
     "data": {
      "text/plain": [
       "2.8878133544134994"
      ]
     },
     "execution_count": 70,
     "metadata": {},
     "output_type": "execute_result"
    }
   ],
   "source": [
    "rmse = mean_squared_error(y_train,  gspr)**.5\n",
    "rmse"
   ]
  },
  {
   "cell_type": "code",
   "execution_count": 71,
   "id": "a3679167",
   "metadata": {},
   "outputs": [],
   "source": [
    "prdsgsval = gs_tree.predict(x_val)"
   ]
  },
  {
   "cell_type": "code",
   "execution_count": 72,
   "id": "5ca124b6",
   "metadata": {},
   "outputs": [
    {
     "data": {
      "text/plain": [
       "10.07136641717922"
      ]
     },
     "execution_count": 72,
     "metadata": {},
     "output_type": "execute_result"
    }
   ],
   "source": [
    "mean_squared_error(y_val, prdsgsval)"
   ]
  },
  {
   "cell_type": "code",
   "execution_count": 73,
   "id": "fc74d571",
   "metadata": {},
   "outputs": [
    {
     "data": {
      "text/plain": [
       "3.1735416205210263"
      ]
     },
     "execution_count": 73,
     "metadata": {},
     "output_type": "execute_result"
    }
   ],
   "source": [
    "rmseGS = mean_squared_error(y_val, prdsgsval)**.5\n",
    "rmseGS"
   ]
  },
  {
   "cell_type": "markdown",
   "id": "f5be2569",
   "metadata": {},
   "source": [
    "Using grid-search CV, we get only slight improvement from base tree model(3.17 v 3.21)."
   ]
  },
  {
   "cell_type": "markdown",
   "id": "abfb408d",
   "metadata": {},
   "source": [
    "Running a linear regression model to try another conventional approach (particurly because this is a regression (not classification) problem.):"
   ]
  },
  {
   "cell_type": "code",
   "execution_count": 74,
   "id": "2396ed90",
   "metadata": {},
   "outputs": [],
   "source": [
    "from sklearn import linear_model\n",
    "lreg = linear_model.LinearRegression() #instantiating\n",
    "\n",
    "\n",
    "\n"
   ]
  },
  {
   "cell_type": "code",
   "execution_count": 75,
   "id": "da6644c7",
   "metadata": {},
   "outputs": [
    {
     "data": {
      "text/html": [
       "<style>#sk-container-id-3 {color: black;}#sk-container-id-3 pre{padding: 0;}#sk-container-id-3 div.sk-toggleable {background-color: white;}#sk-container-id-3 label.sk-toggleable__label {cursor: pointer;display: block;width: 100%;margin-bottom: 0;padding: 0.3em;box-sizing: border-box;text-align: center;}#sk-container-id-3 label.sk-toggleable__label-arrow:before {content: \"▸\";float: left;margin-right: 0.25em;color: #696969;}#sk-container-id-3 label.sk-toggleable__label-arrow:hover:before {color: black;}#sk-container-id-3 div.sk-estimator:hover label.sk-toggleable__label-arrow:before {color: black;}#sk-container-id-3 div.sk-toggleable__content {max-height: 0;max-width: 0;overflow: hidden;text-align: left;background-color: #f0f8ff;}#sk-container-id-3 div.sk-toggleable__content pre {margin: 0.2em;color: black;border-radius: 0.25em;background-color: #f0f8ff;}#sk-container-id-3 input.sk-toggleable__control:checked~div.sk-toggleable__content {max-height: 200px;max-width: 100%;overflow: auto;}#sk-container-id-3 input.sk-toggleable__control:checked~label.sk-toggleable__label-arrow:before {content: \"▾\";}#sk-container-id-3 div.sk-estimator input.sk-toggleable__control:checked~label.sk-toggleable__label {background-color: #d4ebff;}#sk-container-id-3 div.sk-label input.sk-toggleable__control:checked~label.sk-toggleable__label {background-color: #d4ebff;}#sk-container-id-3 input.sk-hidden--visually {border: 0;clip: rect(1px 1px 1px 1px);clip: rect(1px, 1px, 1px, 1px);height: 1px;margin: -1px;overflow: hidden;padding: 0;position: absolute;width: 1px;}#sk-container-id-3 div.sk-estimator {font-family: monospace;background-color: #f0f8ff;border: 1px dotted black;border-radius: 0.25em;box-sizing: border-box;margin-bottom: 0.5em;}#sk-container-id-3 div.sk-estimator:hover {background-color: #d4ebff;}#sk-container-id-3 div.sk-parallel-item::after {content: \"\";width: 100%;border-bottom: 1px solid gray;flex-grow: 1;}#sk-container-id-3 div.sk-label:hover label.sk-toggleable__label {background-color: #d4ebff;}#sk-container-id-3 div.sk-serial::before {content: \"\";position: absolute;border-left: 1px solid gray;box-sizing: border-box;top: 0;bottom: 0;left: 50%;z-index: 0;}#sk-container-id-3 div.sk-serial {display: flex;flex-direction: column;align-items: center;background-color: white;padding-right: 0.2em;padding-left: 0.2em;position: relative;}#sk-container-id-3 div.sk-item {position: relative;z-index: 1;}#sk-container-id-3 div.sk-parallel {display: flex;align-items: stretch;justify-content: center;background-color: white;position: relative;}#sk-container-id-3 div.sk-item::before, #sk-container-id-3 div.sk-parallel-item::before {content: \"\";position: absolute;border-left: 1px solid gray;box-sizing: border-box;top: 0;bottom: 0;left: 50%;z-index: -1;}#sk-container-id-3 div.sk-parallel-item {display: flex;flex-direction: column;z-index: 1;position: relative;background-color: white;}#sk-container-id-3 div.sk-parallel-item:first-child::after {align-self: flex-end;width: 50%;}#sk-container-id-3 div.sk-parallel-item:last-child::after {align-self: flex-start;width: 50%;}#sk-container-id-3 div.sk-parallel-item:only-child::after {width: 0;}#sk-container-id-3 div.sk-dashed-wrapped {border: 1px dashed gray;margin: 0 0.4em 0.5em 0.4em;box-sizing: border-box;padding-bottom: 0.4em;background-color: white;}#sk-container-id-3 div.sk-label label {font-family: monospace;font-weight: bold;display: inline-block;line-height: 1.2em;}#sk-container-id-3 div.sk-label-container {text-align: center;}#sk-container-id-3 div.sk-container {/* jupyter's `normalize.less` sets `[hidden] { display: none; }` but bootstrap.min.css set `[hidden] { display: none !important; }` so we also need the `!important` here to be able to override the default hidden behavior on the sphinx rendered scikit-learn.org. See: https://github.com/scikit-learn/scikit-learn/issues/21755 */display: inline-block !important;position: relative;}#sk-container-id-3 div.sk-text-repr-fallback {display: none;}</style><div id=\"sk-container-id-3\" class=\"sk-top-container\"><div class=\"sk-text-repr-fallback\"><pre>LinearRegression()</pre><b>In a Jupyter environment, please rerun this cell to show the HTML representation or trust the notebook. <br />On GitHub, the HTML representation is unable to render, please try loading this page with nbviewer.org.</b></div><div class=\"sk-container\" hidden><div class=\"sk-item\"><div class=\"sk-estimator sk-toggleable\"><input class=\"sk-toggleable__control sk-hidden--visually\" id=\"sk-estimator-id-5\" type=\"checkbox\" checked><label for=\"sk-estimator-id-5\" class=\"sk-toggleable__label sk-toggleable__label-arrow\">LinearRegression</label><div class=\"sk-toggleable__content\"><pre>LinearRegression()</pre></div></div></div></div></div>"
      ],
      "text/plain": [
       "LinearRegression()"
      ]
     },
     "execution_count": 75,
     "metadata": {},
     "output_type": "execute_result"
    }
   ],
   "source": [
    "lreg.fit(x_train, y_train)"
   ]
  },
  {
   "cell_type": "code",
   "execution_count": 76,
   "id": "0a9f6ddc",
   "metadata": {},
   "outputs": [],
   "source": [
    "predsL = lreg.predict(x_train)"
   ]
  },
  {
   "cell_type": "code",
   "execution_count": 77,
   "id": "41e2e2ee",
   "metadata": {},
   "outputs": [
    {
     "data": {
      "text/plain": [
       "8.026101620957657"
      ]
     },
     "execution_count": 77,
     "metadata": {},
     "output_type": "execute_result"
    }
   ],
   "source": [
    "mean_squared_error(y_train, predsL)"
   ]
  },
  {
   "cell_type": "code",
   "execution_count": 78,
   "id": "8517189e",
   "metadata": {},
   "outputs": [
    {
     "data": {
      "text/plain": [
       "2.8330375255117355"
      ]
     },
     "execution_count": 78,
     "metadata": {},
     "output_type": "execute_result"
    }
   ],
   "source": [
    "rmse = mean_squared_error(y_train, predsL)**.5\n",
    "rmse"
   ]
  },
  {
   "cell_type": "code",
   "execution_count": 79,
   "id": "773170a1",
   "metadata": {},
   "outputs": [],
   "source": [
    "valpredsL = lreg.predict(x_val)"
   ]
  },
  {
   "cell_type": "code",
   "execution_count": 80,
   "id": "d0ff5fd0",
   "metadata": {},
   "outputs": [
    {
     "data": {
      "text/plain": [
       "8.447988838136446"
      ]
     },
     "execution_count": 80,
     "metadata": {},
     "output_type": "execute_result"
    }
   ],
   "source": [
    "mean_squared_error(y_val, valpredsL)"
   ]
  },
  {
   "cell_type": "code",
   "execution_count": 81,
   "id": "1e0710dd",
   "metadata": {},
   "outputs": [
    {
     "data": {
      "text/plain": [
       "2.9065424198068133"
      ]
     },
     "execution_count": 81,
     "metadata": {},
     "output_type": "execute_result"
    }
   ],
   "source": [
    "rmseLR = mean_squared_error(y_val, valpredsL)**.5\n",
    "rmseLR"
   ]
  },
  {
   "cell_type": "markdown",
   "id": "c47f9bd8",
   "metadata": {},
   "source": [
    "Linear regression is more accurate than the baseline tree regressions (2.9 vs 3.27). Not a lot, if any, overfitting, likely  (2.83 rmse training and validation 2.90)"
   ]
  },
  {
   "cell_type": "markdown",
   "id": "5fcf9ab7",
   "metadata": {},
   "source": [
    "Try random forest regressor that may be able to boost accuracy further (lower rsme) due to its more complex nature than the regular tree regression."
   ]
  },
  {
   "cell_type": "code",
   "execution_count": 82,
   "id": "91ec8188",
   "metadata": {},
   "outputs": [],
   "source": [
    "rfr = RandomForestRegressor(max_samples = 100)#instantiating regressor\n"
   ]
  },
  {
   "cell_type": "code",
   "execution_count": 83,
   "id": "b83c1ad3",
   "metadata": {},
   "outputs": [
    {
     "data": {
      "text/html": [
       "<style>#sk-container-id-4 {color: black;}#sk-container-id-4 pre{padding: 0;}#sk-container-id-4 div.sk-toggleable {background-color: white;}#sk-container-id-4 label.sk-toggleable__label {cursor: pointer;display: block;width: 100%;margin-bottom: 0;padding: 0.3em;box-sizing: border-box;text-align: center;}#sk-container-id-4 label.sk-toggleable__label-arrow:before {content: \"▸\";float: left;margin-right: 0.25em;color: #696969;}#sk-container-id-4 label.sk-toggleable__label-arrow:hover:before {color: black;}#sk-container-id-4 div.sk-estimator:hover label.sk-toggleable__label-arrow:before {color: black;}#sk-container-id-4 div.sk-toggleable__content {max-height: 0;max-width: 0;overflow: hidden;text-align: left;background-color: #f0f8ff;}#sk-container-id-4 div.sk-toggleable__content pre {margin: 0.2em;color: black;border-radius: 0.25em;background-color: #f0f8ff;}#sk-container-id-4 input.sk-toggleable__control:checked~div.sk-toggleable__content {max-height: 200px;max-width: 100%;overflow: auto;}#sk-container-id-4 input.sk-toggleable__control:checked~label.sk-toggleable__label-arrow:before {content: \"▾\";}#sk-container-id-4 div.sk-estimator input.sk-toggleable__control:checked~label.sk-toggleable__label {background-color: #d4ebff;}#sk-container-id-4 div.sk-label input.sk-toggleable__control:checked~label.sk-toggleable__label {background-color: #d4ebff;}#sk-container-id-4 input.sk-hidden--visually {border: 0;clip: rect(1px 1px 1px 1px);clip: rect(1px, 1px, 1px, 1px);height: 1px;margin: -1px;overflow: hidden;padding: 0;position: absolute;width: 1px;}#sk-container-id-4 div.sk-estimator {font-family: monospace;background-color: #f0f8ff;border: 1px dotted black;border-radius: 0.25em;box-sizing: border-box;margin-bottom: 0.5em;}#sk-container-id-4 div.sk-estimator:hover {background-color: #d4ebff;}#sk-container-id-4 div.sk-parallel-item::after {content: \"\";width: 100%;border-bottom: 1px solid gray;flex-grow: 1;}#sk-container-id-4 div.sk-label:hover label.sk-toggleable__label {background-color: #d4ebff;}#sk-container-id-4 div.sk-serial::before {content: \"\";position: absolute;border-left: 1px solid gray;box-sizing: border-box;top: 0;bottom: 0;left: 50%;z-index: 0;}#sk-container-id-4 div.sk-serial {display: flex;flex-direction: column;align-items: center;background-color: white;padding-right: 0.2em;padding-left: 0.2em;position: relative;}#sk-container-id-4 div.sk-item {position: relative;z-index: 1;}#sk-container-id-4 div.sk-parallel {display: flex;align-items: stretch;justify-content: center;background-color: white;position: relative;}#sk-container-id-4 div.sk-item::before, #sk-container-id-4 div.sk-parallel-item::before {content: \"\";position: absolute;border-left: 1px solid gray;box-sizing: border-box;top: 0;bottom: 0;left: 50%;z-index: -1;}#sk-container-id-4 div.sk-parallel-item {display: flex;flex-direction: column;z-index: 1;position: relative;background-color: white;}#sk-container-id-4 div.sk-parallel-item:first-child::after {align-self: flex-end;width: 50%;}#sk-container-id-4 div.sk-parallel-item:last-child::after {align-self: flex-start;width: 50%;}#sk-container-id-4 div.sk-parallel-item:only-child::after {width: 0;}#sk-container-id-4 div.sk-dashed-wrapped {border: 1px dashed gray;margin: 0 0.4em 0.5em 0.4em;box-sizing: border-box;padding-bottom: 0.4em;background-color: white;}#sk-container-id-4 div.sk-label label {font-family: monospace;font-weight: bold;display: inline-block;line-height: 1.2em;}#sk-container-id-4 div.sk-label-container {text-align: center;}#sk-container-id-4 div.sk-container {/* jupyter's `normalize.less` sets `[hidden] { display: none; }` but bootstrap.min.css set `[hidden] { display: none !important; }` so we also need the `!important` here to be able to override the default hidden behavior on the sphinx rendered scikit-learn.org. See: https://github.com/scikit-learn/scikit-learn/issues/21755 */display: inline-block !important;position: relative;}#sk-container-id-4 div.sk-text-repr-fallback {display: none;}</style><div id=\"sk-container-id-4\" class=\"sk-top-container\"><div class=\"sk-text-repr-fallback\"><pre>RandomForestRegressor(max_samples=100)</pre><b>In a Jupyter environment, please rerun this cell to show the HTML representation or trust the notebook. <br />On GitHub, the HTML representation is unable to render, please try loading this page with nbviewer.org.</b></div><div class=\"sk-container\" hidden><div class=\"sk-item\"><div class=\"sk-estimator sk-toggleable\"><input class=\"sk-toggleable__control sk-hidden--visually\" id=\"sk-estimator-id-6\" type=\"checkbox\" checked><label for=\"sk-estimator-id-6\" class=\"sk-toggleable__label sk-toggleable__label-arrow\">RandomForestRegressor</label><div class=\"sk-toggleable__content\"><pre>RandomForestRegressor(max_samples=100)</pre></div></div></div></div></div>"
      ],
      "text/plain": [
       "RandomForestRegressor(max_samples=100)"
      ]
     },
     "execution_count": 83,
     "metadata": {},
     "output_type": "execute_result"
    }
   ],
   "source": [
    "rfr.fit(x_train, y_train)"
   ]
  },
  {
   "cell_type": "code",
   "execution_count": 84,
   "id": "dd985d8d",
   "metadata": {},
   "outputs": [],
   "source": [
    "prds5 = rfr.predict(x_train)"
   ]
  },
  {
   "cell_type": "code",
   "execution_count": 85,
   "id": "0d9224ba",
   "metadata": {},
   "outputs": [
    {
     "data": {
      "text/plain": [
       "9.97169350787037"
      ]
     },
     "execution_count": 85,
     "metadata": {},
     "output_type": "execute_result"
    }
   ],
   "source": [
    "mean_squared_error(y_train, prds5)\n",
    "                   "
   ]
  },
  {
   "cell_type": "code",
   "execution_count": 86,
   "id": "a2597610",
   "metadata": {},
   "outputs": [
    {
     "data": {
      "text/plain": [
       "3.157798839044433"
      ]
     },
     "execution_count": 86,
     "metadata": {},
     "output_type": "execute_result"
    }
   ],
   "source": [
    "rmse = mean_squared_error(y_train, prds5)**.5\n",
    "rmse"
   ]
  },
  {
   "cell_type": "code",
   "execution_count": 87,
   "id": "f1b2c999",
   "metadata": {},
   "outputs": [],
   "source": [
    "prds5val = rfr.predict(x_val)"
   ]
  },
  {
   "cell_type": "code",
   "execution_count": 88,
   "id": "21ddaf6d",
   "metadata": {},
   "outputs": [
    {
     "data": {
      "text/plain": [
       "10.407365119444444"
      ]
     },
     "execution_count": 88,
     "metadata": {},
     "output_type": "execute_result"
    }
   ],
   "source": [
    "mean_squared_error(y_val, prds5val)\n",
    "                   "
   ]
  },
  {
   "cell_type": "code",
   "execution_count": 89,
   "id": "82cd53e5",
   "metadata": {},
   "outputs": [
    {
     "data": {
      "text/plain": [
       "3.2260448105140207"
      ]
     },
     "execution_count": 89,
     "metadata": {},
     "output_type": "execute_result"
    }
   ],
   "source": [
    "rmseRF = mean_squared_error(y_val, prds5val)**.5\n",
    "rmseRF"
   ]
  },
  {
   "cell_type": "markdown",
   "id": "99d6ecc0",
   "metadata": {},
   "source": [
    "Linear regression continues to perform better, with a val rmse below 3."
   ]
  },
  {
   "cell_type": "markdown",
   "id": "2646779b",
   "metadata": {},
   "source": [
    "## Word-embeddings models"
   ]
  },
  {
   "cell_type": "code",
   "execution_count": 100,
   "id": "88ed2ce2",
   "metadata": {},
   "outputs": [],
   "source": [
    "reglW = linear_model.LinearRegression()#instantiating\n",
    "\n",
    "\n",
    "\n"
   ]
  },
  {
   "cell_type": "code",
   "execution_count": 101,
   "id": "8ef5f87f",
   "metadata": {},
   "outputs": [
    {
     "data": {
      "text/html": [
       "<style>#sk-container-id-5 {color: black;}#sk-container-id-5 pre{padding: 0;}#sk-container-id-5 div.sk-toggleable {background-color: white;}#sk-container-id-5 label.sk-toggleable__label {cursor: pointer;display: block;width: 100%;margin-bottom: 0;padding: 0.3em;box-sizing: border-box;text-align: center;}#sk-container-id-5 label.sk-toggleable__label-arrow:before {content: \"▸\";float: left;margin-right: 0.25em;color: #696969;}#sk-container-id-5 label.sk-toggleable__label-arrow:hover:before {color: black;}#sk-container-id-5 div.sk-estimator:hover label.sk-toggleable__label-arrow:before {color: black;}#sk-container-id-5 div.sk-toggleable__content {max-height: 0;max-width: 0;overflow: hidden;text-align: left;background-color: #f0f8ff;}#sk-container-id-5 div.sk-toggleable__content pre {margin: 0.2em;color: black;border-radius: 0.25em;background-color: #f0f8ff;}#sk-container-id-5 input.sk-toggleable__control:checked~div.sk-toggleable__content {max-height: 200px;max-width: 100%;overflow: auto;}#sk-container-id-5 input.sk-toggleable__control:checked~label.sk-toggleable__label-arrow:before {content: \"▾\";}#sk-container-id-5 div.sk-estimator input.sk-toggleable__control:checked~label.sk-toggleable__label {background-color: #d4ebff;}#sk-container-id-5 div.sk-label input.sk-toggleable__control:checked~label.sk-toggleable__label {background-color: #d4ebff;}#sk-container-id-5 input.sk-hidden--visually {border: 0;clip: rect(1px 1px 1px 1px);clip: rect(1px, 1px, 1px, 1px);height: 1px;margin: -1px;overflow: hidden;padding: 0;position: absolute;width: 1px;}#sk-container-id-5 div.sk-estimator {font-family: monospace;background-color: #f0f8ff;border: 1px dotted black;border-radius: 0.25em;box-sizing: border-box;margin-bottom: 0.5em;}#sk-container-id-5 div.sk-estimator:hover {background-color: #d4ebff;}#sk-container-id-5 div.sk-parallel-item::after {content: \"\";width: 100%;border-bottom: 1px solid gray;flex-grow: 1;}#sk-container-id-5 div.sk-label:hover label.sk-toggleable__label {background-color: #d4ebff;}#sk-container-id-5 div.sk-serial::before {content: \"\";position: absolute;border-left: 1px solid gray;box-sizing: border-box;top: 0;bottom: 0;left: 50%;z-index: 0;}#sk-container-id-5 div.sk-serial {display: flex;flex-direction: column;align-items: center;background-color: white;padding-right: 0.2em;padding-left: 0.2em;position: relative;}#sk-container-id-5 div.sk-item {position: relative;z-index: 1;}#sk-container-id-5 div.sk-parallel {display: flex;align-items: stretch;justify-content: center;background-color: white;position: relative;}#sk-container-id-5 div.sk-item::before, #sk-container-id-5 div.sk-parallel-item::before {content: \"\";position: absolute;border-left: 1px solid gray;box-sizing: border-box;top: 0;bottom: 0;left: 50%;z-index: -1;}#sk-container-id-5 div.sk-parallel-item {display: flex;flex-direction: column;z-index: 1;position: relative;background-color: white;}#sk-container-id-5 div.sk-parallel-item:first-child::after {align-self: flex-end;width: 50%;}#sk-container-id-5 div.sk-parallel-item:last-child::after {align-self: flex-start;width: 50%;}#sk-container-id-5 div.sk-parallel-item:only-child::after {width: 0;}#sk-container-id-5 div.sk-dashed-wrapped {border: 1px dashed gray;margin: 0 0.4em 0.5em 0.4em;box-sizing: border-box;padding-bottom: 0.4em;background-color: white;}#sk-container-id-5 div.sk-label label {font-family: monospace;font-weight: bold;display: inline-block;line-height: 1.2em;}#sk-container-id-5 div.sk-label-container {text-align: center;}#sk-container-id-5 div.sk-container {/* jupyter's `normalize.less` sets `[hidden] { display: none; }` but bootstrap.min.css set `[hidden] { display: none !important; }` so we also need the `!important` here to be able to override the default hidden behavior on the sphinx rendered scikit-learn.org. See: https://github.com/scikit-learn/scikit-learn/issues/21755 */display: inline-block !important;position: relative;}#sk-container-id-5 div.sk-text-repr-fallback {display: none;}</style><div id=\"sk-container-id-5\" class=\"sk-top-container\"><div class=\"sk-text-repr-fallback\"><pre>LinearRegression()</pre><b>In a Jupyter environment, please rerun this cell to show the HTML representation or trust the notebook. <br />On GitHub, the HTML representation is unable to render, please try loading this page with nbviewer.org.</b></div><div class=\"sk-container\" hidden><div class=\"sk-item\"><div class=\"sk-estimator sk-toggleable\"><input class=\"sk-toggleable__control sk-hidden--visually\" id=\"sk-estimator-id-7\" type=\"checkbox\" checked><label for=\"sk-estimator-id-7\" class=\"sk-toggleable__label sk-toggleable__label-arrow\">LinearRegression</label><div class=\"sk-toggleable__content\"><pre>LinearRegression()</pre></div></div></div></div></div>"
      ],
      "text/plain": [
       "LinearRegression()"
      ]
     },
     "execution_count": 101,
     "metadata": {},
     "output_type": "execute_result"
    }
   ],
   "source": [
    "reglW.fit(x_trainW, y_trainW)#fit on training"
   ]
  },
  {
   "cell_type": "code",
   "execution_count": 102,
   "id": "9027029c",
   "metadata": {},
   "outputs": [],
   "source": [
    "predsW = reglW.predict(x_trainW)#predict on training"
   ]
  },
  {
   "cell_type": "code",
   "execution_count": 103,
   "id": "e9686c00",
   "metadata": {},
   "outputs": [
    {
     "data": {
      "text/plain": [
       "9.188112658063222"
      ]
     },
     "execution_count": 103,
     "metadata": {},
     "output_type": "execute_result"
    }
   ],
   "source": [
    "mean_squared_error(y_trainW, predsW)"
   ]
  },
  {
   "cell_type": "code",
   "execution_count": 104,
   "id": "039778b7",
   "metadata": {},
   "outputs": [
    {
     "data": {
      "text/plain": [
       "3.0311899739315615"
      ]
     },
     "execution_count": 104,
     "metadata": {},
     "output_type": "execute_result"
    }
   ],
   "source": [
    "rmse = mean_squared_error(y_trainW, predsW)**.5\n",
    "rmse"
   ]
  },
  {
   "cell_type": "code",
   "execution_count": 105,
   "id": "08b51be9",
   "metadata": {},
   "outputs": [],
   "source": [
    "predsW = reglW.predict(x_valW)"
   ]
  },
  {
   "cell_type": "code",
   "execution_count": 106,
   "id": "58618525",
   "metadata": {},
   "outputs": [
    {
     "data": {
      "text/plain": [
       "9.624382876373005"
      ]
     },
     "execution_count": 106,
     "metadata": {},
     "output_type": "execute_result"
    }
   ],
   "source": [
    "mean_squared_error(y_valW, predsW)"
   ]
  },
  {
   "cell_type": "code",
   "execution_count": 107,
   "id": "e93fa4f4",
   "metadata": {},
   "outputs": [
    {
     "data": {
      "text/plain": [
       "3.1023189514253695"
      ]
     },
     "execution_count": 107,
     "metadata": {},
     "output_type": "execute_result"
    }
   ],
   "source": [
    "rmseWl = mean_squared_error(y_valW, predsW)**.5\n",
    "rmseWl"
   ]
  },
  {
   "cell_type": "markdown",
   "id": "6fc2f302",
   "metadata": {},
   "source": [
    "Linear regression model with embeddings does not do much better than the guessing strategy or the baseline tree regressor. Its 3.10 is comparable to guessings 3.27 and baseline 3.17.\n",
    "\n",
    "Try tree regression (with word-embeddings):"
   ]
  },
  {
   "cell_type": "code",
   "execution_count": 108,
   "id": "bfe8ffb9",
   "metadata": {},
   "outputs": [],
   "source": [
    "from sklearn.tree import DecisionTreeRegressor"
   ]
  },
  {
   "cell_type": "code",
   "execution_count": 109,
   "id": "ed82038f",
   "metadata": {},
   "outputs": [],
   "source": [
    "regrtrw = DecisionTreeRegressor(max_depth = 3)\n"
   ]
  },
  {
   "cell_type": "code",
   "execution_count": 110,
   "id": "c43aff7e",
   "metadata": {},
   "outputs": [
    {
     "data": {
      "text/html": [
       "<style>#sk-container-id-6 {color: black;}#sk-container-id-6 pre{padding: 0;}#sk-container-id-6 div.sk-toggleable {background-color: white;}#sk-container-id-6 label.sk-toggleable__label {cursor: pointer;display: block;width: 100%;margin-bottom: 0;padding: 0.3em;box-sizing: border-box;text-align: center;}#sk-container-id-6 label.sk-toggleable__label-arrow:before {content: \"▸\";float: left;margin-right: 0.25em;color: #696969;}#sk-container-id-6 label.sk-toggleable__label-arrow:hover:before {color: black;}#sk-container-id-6 div.sk-estimator:hover label.sk-toggleable__label-arrow:before {color: black;}#sk-container-id-6 div.sk-toggleable__content {max-height: 0;max-width: 0;overflow: hidden;text-align: left;background-color: #f0f8ff;}#sk-container-id-6 div.sk-toggleable__content pre {margin: 0.2em;color: black;border-radius: 0.25em;background-color: #f0f8ff;}#sk-container-id-6 input.sk-toggleable__control:checked~div.sk-toggleable__content {max-height: 200px;max-width: 100%;overflow: auto;}#sk-container-id-6 input.sk-toggleable__control:checked~label.sk-toggleable__label-arrow:before {content: \"▾\";}#sk-container-id-6 div.sk-estimator input.sk-toggleable__control:checked~label.sk-toggleable__label {background-color: #d4ebff;}#sk-container-id-6 div.sk-label input.sk-toggleable__control:checked~label.sk-toggleable__label {background-color: #d4ebff;}#sk-container-id-6 input.sk-hidden--visually {border: 0;clip: rect(1px 1px 1px 1px);clip: rect(1px, 1px, 1px, 1px);height: 1px;margin: -1px;overflow: hidden;padding: 0;position: absolute;width: 1px;}#sk-container-id-6 div.sk-estimator {font-family: monospace;background-color: #f0f8ff;border: 1px dotted black;border-radius: 0.25em;box-sizing: border-box;margin-bottom: 0.5em;}#sk-container-id-6 div.sk-estimator:hover {background-color: #d4ebff;}#sk-container-id-6 div.sk-parallel-item::after {content: \"\";width: 100%;border-bottom: 1px solid gray;flex-grow: 1;}#sk-container-id-6 div.sk-label:hover label.sk-toggleable__label {background-color: #d4ebff;}#sk-container-id-6 div.sk-serial::before {content: \"\";position: absolute;border-left: 1px solid gray;box-sizing: border-box;top: 0;bottom: 0;left: 50%;z-index: 0;}#sk-container-id-6 div.sk-serial {display: flex;flex-direction: column;align-items: center;background-color: white;padding-right: 0.2em;padding-left: 0.2em;position: relative;}#sk-container-id-6 div.sk-item {position: relative;z-index: 1;}#sk-container-id-6 div.sk-parallel {display: flex;align-items: stretch;justify-content: center;background-color: white;position: relative;}#sk-container-id-6 div.sk-item::before, #sk-container-id-6 div.sk-parallel-item::before {content: \"\";position: absolute;border-left: 1px solid gray;box-sizing: border-box;top: 0;bottom: 0;left: 50%;z-index: -1;}#sk-container-id-6 div.sk-parallel-item {display: flex;flex-direction: column;z-index: 1;position: relative;background-color: white;}#sk-container-id-6 div.sk-parallel-item:first-child::after {align-self: flex-end;width: 50%;}#sk-container-id-6 div.sk-parallel-item:last-child::after {align-self: flex-start;width: 50%;}#sk-container-id-6 div.sk-parallel-item:only-child::after {width: 0;}#sk-container-id-6 div.sk-dashed-wrapped {border: 1px dashed gray;margin: 0 0.4em 0.5em 0.4em;box-sizing: border-box;padding-bottom: 0.4em;background-color: white;}#sk-container-id-6 div.sk-label label {font-family: monospace;font-weight: bold;display: inline-block;line-height: 1.2em;}#sk-container-id-6 div.sk-label-container {text-align: center;}#sk-container-id-6 div.sk-container {/* jupyter's `normalize.less` sets `[hidden] { display: none; }` but bootstrap.min.css set `[hidden] { display: none !important; }` so we also need the `!important` here to be able to override the default hidden behavior on the sphinx rendered scikit-learn.org. See: https://github.com/scikit-learn/scikit-learn/issues/21755 */display: inline-block !important;position: relative;}#sk-container-id-6 div.sk-text-repr-fallback {display: none;}</style><div id=\"sk-container-id-6\" class=\"sk-top-container\"><div class=\"sk-text-repr-fallback\"><pre>DecisionTreeRegressor(max_depth=3)</pre><b>In a Jupyter environment, please rerun this cell to show the HTML representation or trust the notebook. <br />On GitHub, the HTML representation is unable to render, please try loading this page with nbviewer.org.</b></div><div class=\"sk-container\" hidden><div class=\"sk-item\"><div class=\"sk-estimator sk-toggleable\"><input class=\"sk-toggleable__control sk-hidden--visually\" id=\"sk-estimator-id-8\" type=\"checkbox\" checked><label for=\"sk-estimator-id-8\" class=\"sk-toggleable__label sk-toggleable__label-arrow\">DecisionTreeRegressor</label><div class=\"sk-toggleable__content\"><pre>DecisionTreeRegressor(max_depth=3)</pre></div></div></div></div></div>"
      ],
      "text/plain": [
       "DecisionTreeRegressor(max_depth=3)"
      ]
     },
     "execution_count": 110,
     "metadata": {},
     "output_type": "execute_result"
    }
   ],
   "source": [
    "regrtrw.fit(x_trainW, y_trainW)"
   ]
  },
  {
   "cell_type": "code",
   "execution_count": 111,
   "id": "b29d2560",
   "metadata": {},
   "outputs": [],
   "source": [
    "prds3w = regrtrw.predict(x_trainW)"
   ]
  },
  {
   "cell_type": "code",
   "execution_count": 112,
   "id": "73d31e43",
   "metadata": {},
   "outputs": [
    {
     "data": {
      "text/plain": [
       "9.896609843709873"
      ]
     },
     "execution_count": 112,
     "metadata": {},
     "output_type": "execute_result"
    }
   ],
   "source": [
    "mean_squared_error(y_trainW, prds3w)"
   ]
  },
  {
   "cell_type": "code",
   "execution_count": 113,
   "id": "f29dc284",
   "metadata": {},
   "outputs": [
    {
     "data": {
      "text/plain": [
       "3.1458877671827192"
      ]
     },
     "execution_count": 113,
     "metadata": {},
     "output_type": "execute_result"
    }
   ],
   "source": [
    "rmse = mean_squared_error(y_trainW, prds3w)**.5\n",
    "rmse"
   ]
  },
  {
   "cell_type": "code",
   "execution_count": 114,
   "id": "7f295e0b",
   "metadata": {},
   "outputs": [],
   "source": [
    "prdsvalW = regrtrw.predict(x_valW)"
   ]
  },
  {
   "cell_type": "code",
   "execution_count": 115,
   "id": "b3ef86d8",
   "metadata": {},
   "outputs": [
    {
     "data": {
      "text/plain": [
       "10.358814265862508"
      ]
     },
     "execution_count": 115,
     "metadata": {},
     "output_type": "execute_result"
    }
   ],
   "source": [
    "mean_squared_error(y_valW, prdsvalW)"
   ]
  },
  {
   "cell_type": "code",
   "execution_count": 116,
   "id": "60a99d12",
   "metadata": {},
   "outputs": [
    {
     "data": {
      "text/plain": [
       "3.2185111877796087"
      ]
     },
     "execution_count": 116,
     "metadata": {},
     "output_type": "execute_result"
    }
   ],
   "source": [
    "rmseWt = mean_squared_error(y_valW, prdsvalW)**.5\n",
    "rmseWt"
   ]
  },
  {
   "cell_type": "markdown",
   "id": "038272c4",
   "metadata": {},
   "source": [
    "Word embedding with tree performs only slightly better than guessing and similar to baseline strategy. Linear regression  (TF-IDF) model still performing best, the only model with  rmse's less than 3.0."
   ]
  },
  {
   "cell_type": "code",
   "execution_count": 118,
   "id": "ce6b8d24",
   "metadata": {
    "scrolled": false
   },
   "outputs": [
    {
     "data": {
      "text/plain": [
       "<BarContainer object of 6 artists>"
      ]
     },
     "execution_count": 118,
     "metadata": {},
     "output_type": "execute_result"
    },
    {
     "data": {
      "image/png": "[encoded data removed]",
      "text/plain": [
       "<Figure size 1000x700 with 1 Axes>"
      ]
     },
     "metadata": {},
     "output_type": "display_data"
    }
   ],
   "source": [
    "fig, ax = plt.subplots(figsize = (10,7))\n",
    "ax.bar(x= ['baselineTree', 'Gridapproach','LinM TF-IDF', 'rfr', 'LM -we','Tree -we'], height=[rmseBT, rmseGS, rmseLR, rmseRF, rmseWl, rmseWt])\n",
    "#ax.title= \"validation Rmse's\""
   ]
  },
  {
   "cell_type": "markdown",
   "id": "dfc449e0",
   "metadata": {},
   "source": [
    "The linear regression using tf-idf vectorization produces the best results.  The model has the lowest rmse, meaning it produces the lowest errors and has the higher accuracy in its predictions. "
   ]
  },
  {
   "cell_type": "markdown",
   "id": "339af8bd",
   "metadata": {},
   "source": [
    " ### Evaluate the linear regression model on unseen data. "
   ]
  },
  {
   "cell_type": "code",
   "execution_count": 119,
   "id": "478e2f71",
   "metadata": {},
   "outputs": [],
   "source": [
    "# getting fd for second 16000 samples of data.\n",
    "FrqsE = Frqs[16000:32000]"
   ]
  },
  {
   "cell_type": "markdown",
   "id": "29ee14ce",
   "metadata": {},
   "source": [
    "Conducting tf-idf vectorization on the evaluation data"
   ]
  },
  {
   "cell_type": "code",
   "execution_count": 120,
   "id": "fe1ee80c",
   "metadata": {},
   "outputs": [],
   "source": [
    "\n",
    "wtfids = []\n",
    "for i in range(16000):#Cutting down sample size.\n",
    "    tfidfs =list([])# tf-idfs for each sample.\n",
    "    for k in adic.keys():# For each sample compute tfidf's depending on iteration of i and k values.\n",
    "        num = FrqsE[i].get(k,0)\n",
    "        den = adic[k]\n",
    "        tfidf = num/den\n",
    "        tfidfs.append(tfidf)\n",
    "    wtfids.append(tfidfs)"
   ]
  },
  {
   "cell_type": "markdown",
   "id": "9c9260e0",
   "metadata": {},
   "source": [
    "Taking the second 16000 of the y-var (rating)."
   ]
  },
  {
   "cell_type": "code",
   "execution_count": 122,
   "id": "6f048908",
   "metadata": {},
   "outputs": [],
   "source": [
    "revscut= data.rating[16000:32000]"
   ]
  },
  {
   "cell_type": "code",
   "execution_count": 123,
   "id": "1deac968",
   "metadata": {},
   "outputs": [],
   "source": [
    "yvals = np.asarray(revscut)"
   ]
  },
  {
   "cell_type": "code",
   "execution_count": 124,
   "id": "80549193",
   "metadata": {},
   "outputs": [],
   "source": [
    "xvals = np.asarray(wtfids)"
   ]
  },
  {
   "cell_type": "code",
   "execution_count": 125,
   "id": "6fb3ac54",
   "metadata": {},
   "outputs": [],
   "source": [
    "Epreds = lreg.predict(wtfids)"
   ]
  },
  {
   "cell_type": "code",
   "execution_count": 126,
   "id": "13041ba1",
   "metadata": {},
   "outputs": [
    {
     "data": {
      "text/plain": [
       "8.293821007749033"
      ]
     },
     "execution_count": 126,
     "metadata": {},
     "output_type": "execute_result"
    }
   ],
   "source": [
    "mean_squared_error(yvals, Epreds)"
   ]
  },
  {
   "cell_type": "code",
   "execution_count": 127,
   "id": "6287b2b9",
   "metadata": {},
   "outputs": [
    {
     "data": {
      "text/plain": [
       "2.879899478757728"
      ]
     },
     "execution_count": 127,
     "metadata": {},
     "output_type": "execute_result"
    }
   ],
   "source": [
    "rmse = mean_squared_error(yvals, Epreds)**.5\n",
    "rmse"
   ]
  },
  {
   "cell_type": "markdown",
   "id": "3a4d1314",
   "metadata": {},
   "source": [
    "The linear model with tf-idf continues to perform better than the other models with a rmse of 2.88.  It performs similar on unseen data, demonstrating its strength. "
   ]
  },
  {
   "cell_type": "markdown",
   "id": "c58a3879",
   "metadata": {},
   "source": [
    "# Results/conclusions"
   ]
  },
  {
   "cell_type": "markdown",
   "id": "2d4b183b",
   "metadata": {},
   "source": []
  },
  {
   "cell_type": "markdown",
   "id": "09dd3cf1",
   "metadata": {},
   "source": [
    "- Deploy linear regression (TF-IDF) for ‘rating extraction’ from written review, if efficiency reasons dictates that it should be used.  Given the rmse is not very different between the guessing strategy, tested models and chosen models, the results of the model should not be taken blindly. When the stakeholder accumulates written patient reviews without accompanying numerical drug ratings, the stakeholder should use this model to calculate a numeric review so that the drugs can be compared by patient evaluation.  \n",
    "\n",
    "- Gather general insights on how patients find/rate drugs (i.e. key factors).\n",
    "\n",
    "    - \"doctor, acne, love, worse\" etc. \n",
    "    -  Words like \"doctor\" and \"acne\" can provide us with insight into how a patient will rate the drug that may not be   obvious. \n",
    "\n",
    "- Future work\n",
    "    \n",
    "    - Create own word embeddings using the whole dataset instead of using Glove. \n",
    "    - Combine the tf-idf and word embedding models.\n",
    "    - Use the “meta-data” as features. (i.e. the drug evaluated)\n",
    "\n",
    "- Limitations\n",
    "\n",
    "    - Given the rmse is not very different between the guessing strategy, tested models and chosen models, the results of the model should not be taken blindly.\n",
    "    - There is material difference between the chosen model's prediction and the actual ratings\n",
    "    - There may be less clarity when using nlp techniques in understanding what the model (and coefficients) mean. "
   ]
  },
  {
   "cell_type": "markdown",
   "id": "7a41c3d1",
   "metadata": {},
   "source": [
    "# Repository structure"
   ]
  },
  {
   "cell_type": "markdown",
   "id": "b47804ff",
   "metadata": {},
   "source": [
    "- Notebook\n",
    "- [README](https://github.com/jmarksk/DrugReviewAnalysis/blob/main/README.md)\n",
    "- [Presentation](https://github.com/jmarksk/DrugReviewAnalysis/blob/main/Presentation.pdf)\n",
    "- [data](https://github.com/jmarksk/DrugReviewAnalysis/blob/main/drugsComTrain_raw.tsv)\n",
    "- [CodingEnvt](https://github.com/jmarksk/DrugReviewAnalysis/blob/main/CodingEnvt.txt)"
   ]
  },
  {
   "cell_type": "markdown",
   "id": "f3d0bfc6",
   "metadata": {},
   "source": [
    "# Addendum"
   ]
  },
  {
   "cell_type": "markdown",
   "id": "634f976d",
   "metadata": {},
   "source": [
    "### Using sklearn's tfidf vectorizer object. "
   ]
  },
  {
   "cell_type": "code",
   "execution_count": 128,
   "id": "05b7442c",
   "metadata": {},
   "outputs": [],
   "source": [
    "com = data[0:12000]# Have to reduce to 12000 because doesn't go through the split."
   ]
  },
  {
   "cell_type": "code",
   "execution_count": null,
   "id": "9d6cb5d4",
   "metadata": {},
   "outputs": [],
   "source": []
  },
  {
   "cell_type": "code",
   "execution_count": 129,
   "id": "a10397a0",
   "metadata": {},
   "outputs": [
    {
     "name": "stderr",
     "output_type": "stream",
     "text": [
      "C:\\Users\\jmark\\AppData\\Local\\Temp\\ipykernel_29700\\3594319355.py:1: SettingWithCopyWarning: \n",
      "A value is trying to be set on a copy of a slice from a DataFrame.\n",
      "Try using .loc[row_indexer,col_indexer] = value instead\n",
      "\n",
      "See the caveats in the documentation: https://pandas.pydata.org/pandas-docs/stable/user_guide/indexing.html#returning-a-view-versus-a-copy\n",
      "  com['review1'] = com['review'].map(lambda x: x.lower())\n"
     ]
    }
   ],
   "source": [
    "com['review1'] = com['review'].map(lambda x: x.lower())"
   ]
  },
  {
   "cell_type": "code",
   "execution_count": 130,
   "id": "f90dfa18",
   "metadata": {},
   "outputs": [],
   "source": [
    "def remove_stopwords(token_list):\n",
    "    \"\"\"\n",
    "    Given a list of tokens, return a list where the tokens\n",
    "    that are also present in stopwords_list have been\n",
    "    removed\n",
    "    \"\"\"\n",
    "    stopwords_removed = [token for token in token_list if token not in stopwords_list]\n",
    "    return stopwords_removed"
   ]
  },
  {
   "cell_type": "code",
   "execution_count": 131,
   "id": "f6e225a3",
   "metadata": {},
   "outputs": [
    {
     "name": "stderr",
     "output_type": "stream",
     "text": [
      "C:\\Users\\jmark\\AppData\\Local\\Temp\\ipykernel_29700\\1008984540.py:1: SettingWithCopyWarning: \n",
      "A value is trying to be set on a copy of a slice from a DataFrame.\n",
      "Try using .loc[row_indexer,col_indexer] = value instead\n",
      "\n",
      "See the caveats in the documentation: https://pandas.pydata.org/pandas-docs/stable/user_guide/indexing.html#returning-a-view-versus-a-copy\n",
      "  com['review1'] = remove_stopwords(com['review1'])\n"
     ]
    }
   ],
   "source": [
    "com['review1'] = remove_stopwords(com['review1'])"
   ]
  },
  {
   "cell_type": "code",
   "execution_count": 132,
   "id": "62e50547",
   "metadata": {},
   "outputs": [
    {
     "data": {
      "text/plain": [
       "pandas.core.series.Series"
      ]
     },
     "execution_count": 132,
     "metadata": {},
     "output_type": "execute_result"
    }
   ],
   "source": [
    "type(com['review1'])"
   ]
  },
  {
   "cell_type": "code",
   "execution_count": 133,
   "id": "d694271e",
   "metadata": {},
   "outputs": [
    {
     "data": {
      "text/html": [
       "<div>\n",
       "<style scoped>\n",
       "    .dataframe tbody tr th:only-of-type {\n",
       "        vertical-align: middle;\n",
       "    }\n",
       "\n",
       "    .dataframe tbody tr th {\n",
       "        vertical-align: top;\n",
       "    }\n",
       "\n",
       "    .dataframe thead th {\n",
       "        text-align: right;\n",
       "    }\n",
       "</style>\n",
       "<table border=\"1\" class=\"dataframe\">\n",
       "  <thead>\n",
       "    <tr style=\"text-align: right;\">\n",
       "      <th></th>\n",
       "      <th>039</th>\n",
       "      <th>10</th>\n",
       "      <th>about</th>\n",
       "      <th>acne</th>\n",
       "      <th>after</th>\n",
       "      <th>again</th>\n",
       "      <th>ago</th>\n",
       "      <th>all</th>\n",
       "      <th>almost</th>\n",
       "      <th>also</th>\n",
       "      <th>...</th>\n",
       "      <th>without</th>\n",
       "      <th>work</th>\n",
       "      <th>worked</th>\n",
       "      <th>works</th>\n",
       "      <th>worse</th>\n",
       "      <th>would</th>\n",
       "      <th>year</th>\n",
       "      <th>years</th>\n",
       "      <th>you</th>\n",
       "      <th>your</th>\n",
       "    </tr>\n",
       "  </thead>\n",
       "  <tbody>\n",
       "    <tr>\n",
       "      <th>0</th>\n",
       "      <td>0.000000</td>\n",
       "      <td>0.0</td>\n",
       "      <td>0.000000</td>\n",
       "      <td>0.000000</td>\n",
       "      <td>0.000000</td>\n",
       "      <td>0.000000</td>\n",
       "      <td>0.000000</td>\n",
       "      <td>0.000000</td>\n",
       "      <td>0.0</td>\n",
       "      <td>0.000000</td>\n",
       "      <td>...</td>\n",
       "      <td>0.0</td>\n",
       "      <td>0.000000</td>\n",
       "      <td>0.000000</td>\n",
       "      <td>0.000000</td>\n",
       "      <td>0.00000</td>\n",
       "      <td>0.000000</td>\n",
       "      <td>0.0</td>\n",
       "      <td>0.000000</td>\n",
       "      <td>0.000000</td>\n",
       "      <td>0.0</td>\n",
       "    </tr>\n",
       "    <tr>\n",
       "      <th>1</th>\n",
       "      <td>0.000000</td>\n",
       "      <td>0.0</td>\n",
       "      <td>0.000000</td>\n",
       "      <td>0.000000</td>\n",
       "      <td>0.000000</td>\n",
       "      <td>0.000000</td>\n",
       "      <td>0.000000</td>\n",
       "      <td>0.051996</td>\n",
       "      <td>0.0</td>\n",
       "      <td>0.000000</td>\n",
       "      <td>...</td>\n",
       "      <td>0.0</td>\n",
       "      <td>0.000000</td>\n",
       "      <td>0.000000</td>\n",
       "      <td>0.000000</td>\n",
       "      <td>0.00000</td>\n",
       "      <td>0.000000</td>\n",
       "      <td>0.0</td>\n",
       "      <td>0.000000</td>\n",
       "      <td>0.000000</td>\n",
       "      <td>0.0</td>\n",
       "    </tr>\n",
       "    <tr>\n",
       "      <th>2</th>\n",
       "      <td>0.091713</td>\n",
       "      <td>0.0</td>\n",
       "      <td>0.000000</td>\n",
       "      <td>0.000000</td>\n",
       "      <td>0.000000</td>\n",
       "      <td>0.000000</td>\n",
       "      <td>0.000000</td>\n",
       "      <td>0.000000</td>\n",
       "      <td>0.0</td>\n",
       "      <td>0.000000</td>\n",
       "      <td>...</td>\n",
       "      <td>0.0</td>\n",
       "      <td>0.000000</td>\n",
       "      <td>0.000000</td>\n",
       "      <td>0.000000</td>\n",
       "      <td>0.11615</td>\n",
       "      <td>0.000000</td>\n",
       "      <td>0.0</td>\n",
       "      <td>0.000000</td>\n",
       "      <td>0.000000</td>\n",
       "      <td>0.0</td>\n",
       "    </tr>\n",
       "    <tr>\n",
       "      <th>3</th>\n",
       "      <td>0.053478</td>\n",
       "      <td>0.0</td>\n",
       "      <td>0.000000</td>\n",
       "      <td>0.000000</td>\n",
       "      <td>0.000000</td>\n",
       "      <td>0.000000</td>\n",
       "      <td>0.000000</td>\n",
       "      <td>0.000000</td>\n",
       "      <td>0.0</td>\n",
       "      <td>0.104106</td>\n",
       "      <td>...</td>\n",
       "      <td>0.0</td>\n",
       "      <td>0.000000</td>\n",
       "      <td>0.000000</td>\n",
       "      <td>0.000000</td>\n",
       "      <td>0.00000</td>\n",
       "      <td>0.000000</td>\n",
       "      <td>0.0</td>\n",
       "      <td>0.000000</td>\n",
       "      <td>0.000000</td>\n",
       "      <td>0.0</td>\n",
       "    </tr>\n",
       "    <tr>\n",
       "      <th>4</th>\n",
       "      <td>0.240994</td>\n",
       "      <td>0.0</td>\n",
       "      <td>0.093930</td>\n",
       "      <td>0.000000</td>\n",
       "      <td>0.000000</td>\n",
       "      <td>0.135141</td>\n",
       "      <td>0.000000</td>\n",
       "      <td>0.096606</td>\n",
       "      <td>0.0</td>\n",
       "      <td>0.000000</td>\n",
       "      <td>...</td>\n",
       "      <td>0.0</td>\n",
       "      <td>0.000000</td>\n",
       "      <td>0.000000</td>\n",
       "      <td>0.000000</td>\n",
       "      <td>0.00000</td>\n",
       "      <td>0.000000</td>\n",
       "      <td>0.0</td>\n",
       "      <td>0.099312</td>\n",
       "      <td>0.228176</td>\n",
       "      <td>0.0</td>\n",
       "    </tr>\n",
       "    <tr>\n",
       "      <th>...</th>\n",
       "      <td>...</td>\n",
       "      <td>...</td>\n",
       "      <td>...</td>\n",
       "      <td>...</td>\n",
       "      <td>...</td>\n",
       "      <td>...</td>\n",
       "      <td>...</td>\n",
       "      <td>...</td>\n",
       "      <td>...</td>\n",
       "      <td>...</td>\n",
       "      <td>...</td>\n",
       "      <td>...</td>\n",
       "      <td>...</td>\n",
       "      <td>...</td>\n",
       "      <td>...</td>\n",
       "      <td>...</td>\n",
       "      <td>...</td>\n",
       "      <td>...</td>\n",
       "      <td>...</td>\n",
       "      <td>...</td>\n",
       "      <td>...</td>\n",
       "    </tr>\n",
       "    <tr>\n",
       "      <th>11995</th>\n",
       "      <td>0.127421</td>\n",
       "      <td>0.0</td>\n",
       "      <td>0.099328</td>\n",
       "      <td>0.156184</td>\n",
       "      <td>0.093503</td>\n",
       "      <td>0.142907</td>\n",
       "      <td>0.140094</td>\n",
       "      <td>0.102158</td>\n",
       "      <td>0.0</td>\n",
       "      <td>0.124027</td>\n",
       "      <td>...</td>\n",
       "      <td>0.0</td>\n",
       "      <td>0.000000</td>\n",
       "      <td>0.000000</td>\n",
       "      <td>0.000000</td>\n",
       "      <td>0.00000</td>\n",
       "      <td>0.000000</td>\n",
       "      <td>0.0</td>\n",
       "      <td>0.000000</td>\n",
       "      <td>0.000000</td>\n",
       "      <td>0.0</td>\n",
       "    </tr>\n",
       "    <tr>\n",
       "      <th>11996</th>\n",
       "      <td>0.000000</td>\n",
       "      <td>0.0</td>\n",
       "      <td>0.000000</td>\n",
       "      <td>0.000000</td>\n",
       "      <td>0.111618</td>\n",
       "      <td>0.170593</td>\n",
       "      <td>0.000000</td>\n",
       "      <td>0.121949</td>\n",
       "      <td>0.0</td>\n",
       "      <td>0.000000</td>\n",
       "      <td>...</td>\n",
       "      <td>0.0</td>\n",
       "      <td>0.000000</td>\n",
       "      <td>0.000000</td>\n",
       "      <td>0.000000</td>\n",
       "      <td>0.00000</td>\n",
       "      <td>0.000000</td>\n",
       "      <td>0.0</td>\n",
       "      <td>0.000000</td>\n",
       "      <td>0.000000</td>\n",
       "      <td>0.0</td>\n",
       "    </tr>\n",
       "    <tr>\n",
       "      <th>11997</th>\n",
       "      <td>0.000000</td>\n",
       "      <td>0.0</td>\n",
       "      <td>0.000000</td>\n",
       "      <td>0.000000</td>\n",
       "      <td>0.000000</td>\n",
       "      <td>0.000000</td>\n",
       "      <td>0.000000</td>\n",
       "      <td>0.000000</td>\n",
       "      <td>0.0</td>\n",
       "      <td>0.000000</td>\n",
       "      <td>...</td>\n",
       "      <td>0.0</td>\n",
       "      <td>0.000000</td>\n",
       "      <td>0.000000</td>\n",
       "      <td>0.000000</td>\n",
       "      <td>0.00000</td>\n",
       "      <td>0.000000</td>\n",
       "      <td>0.0</td>\n",
       "      <td>0.000000</td>\n",
       "      <td>0.000000</td>\n",
       "      <td>0.0</td>\n",
       "    </tr>\n",
       "    <tr>\n",
       "      <th>11998</th>\n",
       "      <td>0.063784</td>\n",
       "      <td>0.0</td>\n",
       "      <td>0.099441</td>\n",
       "      <td>0.000000</td>\n",
       "      <td>0.000000</td>\n",
       "      <td>0.000000</td>\n",
       "      <td>0.000000</td>\n",
       "      <td>0.102274</td>\n",
       "      <td>0.0</td>\n",
       "      <td>0.000000</td>\n",
       "      <td>...</td>\n",
       "      <td>0.0</td>\n",
       "      <td>0.134143</td>\n",
       "      <td>0.144475</td>\n",
       "      <td>0.000000</td>\n",
       "      <td>0.00000</td>\n",
       "      <td>0.119259</td>\n",
       "      <td>0.0</td>\n",
       "      <td>0.210279</td>\n",
       "      <td>0.000000</td>\n",
       "      <td>0.0</td>\n",
       "    </tr>\n",
       "    <tr>\n",
       "      <th>11999</th>\n",
       "      <td>0.000000</td>\n",
       "      <td>0.0</td>\n",
       "      <td>0.000000</td>\n",
       "      <td>0.000000</td>\n",
       "      <td>0.000000</td>\n",
       "      <td>0.000000</td>\n",
       "      <td>0.000000</td>\n",
       "      <td>0.000000</td>\n",
       "      <td>0.0</td>\n",
       "      <td>0.000000</td>\n",
       "      <td>...</td>\n",
       "      <td>0.0</td>\n",
       "      <td>0.000000</td>\n",
       "      <td>0.000000</td>\n",
       "      <td>0.169178</td>\n",
       "      <td>0.00000</td>\n",
       "      <td>0.140616</td>\n",
       "      <td>0.0</td>\n",
       "      <td>0.000000</td>\n",
       "      <td>0.000000</td>\n",
       "      <td>0.0</td>\n",
       "    </tr>\n",
       "  </tbody>\n",
       "</table>\n",
       "<p>12000 rows × 200 columns</p>\n",
       "</div>"
      ],
      "text/plain": [
       "            039   10     about      acne     after     again       ago  \\\n",
       "0      0.000000  0.0  0.000000  0.000000  0.000000  0.000000  0.000000   \n",
       "1      0.000000  0.0  0.000000  0.000000  0.000000  0.000000  0.000000   \n",
       "2      0.091713  0.0  0.000000  0.000000  0.000000  0.000000  0.000000   \n",
       "3      0.053478  0.0  0.000000  0.000000  0.000000  0.000000  0.000000   \n",
       "4      0.240994  0.0  0.093930  0.000000  0.000000  0.135141  0.000000   \n",
       "...         ...  ...       ...       ...       ...       ...       ...   \n",
       "11995  0.127421  0.0  0.099328  0.156184  0.093503  0.142907  0.140094   \n",
       "11996  0.000000  0.0  0.000000  0.000000  0.111618  0.170593  0.000000   \n",
       "11997  0.000000  0.0  0.000000  0.000000  0.000000  0.000000  0.000000   \n",
       "11998  0.063784  0.0  0.099441  0.000000  0.000000  0.000000  0.000000   \n",
       "11999  0.000000  0.0  0.000000  0.000000  0.000000  0.000000  0.000000   \n",
       "\n",
       "            all  almost      also  ...  without      work    worked     works  \\\n",
       "0      0.000000     0.0  0.000000  ...      0.0  0.000000  0.000000  0.000000   \n",
       "1      0.051996     0.0  0.000000  ...      0.0  0.000000  0.000000  0.000000   \n",
       "2      0.000000     0.0  0.000000  ...      0.0  0.000000  0.000000  0.000000   \n",
       "3      0.000000     0.0  0.104106  ...      0.0  0.000000  0.000000  0.000000   \n",
       "4      0.096606     0.0  0.000000  ...      0.0  0.000000  0.000000  0.000000   \n",
       "...         ...     ...       ...  ...      ...       ...       ...       ...   \n",
       "11995  0.102158     0.0  0.124027  ...      0.0  0.000000  0.000000  0.000000   \n",
       "11996  0.121949     0.0  0.000000  ...      0.0  0.000000  0.000000  0.000000   \n",
       "11997  0.000000     0.0  0.000000  ...      0.0  0.000000  0.000000  0.000000   \n",
       "11998  0.102274     0.0  0.000000  ...      0.0  0.134143  0.144475  0.000000   \n",
       "11999  0.000000     0.0  0.000000  ...      0.0  0.000000  0.000000  0.169178   \n",
       "\n",
       "         worse     would  year     years       you  your  \n",
       "0      0.00000  0.000000   0.0  0.000000  0.000000   0.0  \n",
       "1      0.00000  0.000000   0.0  0.000000  0.000000   0.0  \n",
       "2      0.11615  0.000000   0.0  0.000000  0.000000   0.0  \n",
       "3      0.00000  0.000000   0.0  0.000000  0.000000   0.0  \n",
       "4      0.00000  0.000000   0.0  0.099312  0.228176   0.0  \n",
       "...        ...       ...   ...       ...       ...   ...  \n",
       "11995  0.00000  0.000000   0.0  0.000000  0.000000   0.0  \n",
       "11996  0.00000  0.000000   0.0  0.000000  0.000000   0.0  \n",
       "11997  0.00000  0.000000   0.0  0.000000  0.000000   0.0  \n",
       "11998  0.00000  0.119259   0.0  0.210279  0.000000   0.0  \n",
       "11999  0.00000  0.140616   0.0  0.000000  0.000000   0.0  \n",
       "\n",
       "[12000 rows x 200 columns]"
      ]
     },
     "execution_count": 133,
     "metadata": {},
     "output_type": "execute_result"
    }
   ],
   "source": [
    "\n",
    "# Import the relevant vectorizer class\n",
    "from sklearn.feature_extraction.text import TfidfVectorizer\n",
    "\n",
    "# Instantiate a vectorizer with max_features=10\n",
    "# (we are using the default token pattern)\n",
    "tfidf = TfidfVectorizer(max_features=200)\n",
    "\n",
    "# Fit the vectorizer on X_train[\"text\"] and transform it\n",
    "X_train_vectorized = tfidf.fit_transform(com['review1'])\n",
    "\n",
    "# Visually inspect the vectorized data\n",
    "pd.DataFrame.sparse.from_spmatrix(X_train_vectorized, columns=tfidf.get_feature_names_out())"
   ]
  },
  {
   "cell_type": "code",
   "execution_count": 134,
   "id": "bb6cd469",
   "metadata": {},
   "outputs": [],
   "source": [
    "regrtr1c = DecisionTreeRegressor(max_depth = 3)\n"
   ]
  },
  {
   "cell_type": "code",
   "execution_count": 135,
   "id": "390b635d",
   "metadata": {},
   "outputs": [
    {
     "data": {
      "text/plain": [
       "(12000,)"
      ]
     },
     "execution_count": 135,
     "metadata": {},
     "output_type": "execute_result"
    }
   ],
   "source": [
    "np.shape(y_train)"
   ]
  },
  {
   "cell_type": "code",
   "execution_count": 136,
   "id": "ba7ffd8b",
   "metadata": {},
   "outputs": [
    {
     "data": {
      "text/html": [
       "<style>#sk-container-id-7 {color: black;}#sk-container-id-7 pre{padding: 0;}#sk-container-id-7 div.sk-toggleable {background-color: white;}#sk-container-id-7 label.sk-toggleable__label {cursor: pointer;display: block;width: 100%;margin-bottom: 0;padding: 0.3em;box-sizing: border-box;text-align: center;}#sk-container-id-7 label.sk-toggleable__label-arrow:before {content: \"▸\";float: left;margin-right: 0.25em;color: #696969;}#sk-container-id-7 label.sk-toggleable__label-arrow:hover:before {color: black;}#sk-container-id-7 div.sk-estimator:hover label.sk-toggleable__label-arrow:before {color: black;}#sk-container-id-7 div.sk-toggleable__content {max-height: 0;max-width: 0;overflow: hidden;text-align: left;background-color: #f0f8ff;}#sk-container-id-7 div.sk-toggleable__content pre {margin: 0.2em;color: black;border-radius: 0.25em;background-color: #f0f8ff;}#sk-container-id-7 input.sk-toggleable__control:checked~div.sk-toggleable__content {max-height: 200px;max-width: 100%;overflow: auto;}#sk-container-id-7 input.sk-toggleable__control:checked~label.sk-toggleable__label-arrow:before {content: \"▾\";}#sk-container-id-7 div.sk-estimator input.sk-toggleable__control:checked~label.sk-toggleable__label {background-color: #d4ebff;}#sk-container-id-7 div.sk-label input.sk-toggleable__control:checked~label.sk-toggleable__label {background-color: #d4ebff;}#sk-container-id-7 input.sk-hidden--visually {border: 0;clip: rect(1px 1px 1px 1px);clip: rect(1px, 1px, 1px, 1px);height: 1px;margin: -1px;overflow: hidden;padding: 0;position: absolute;width: 1px;}#sk-container-id-7 div.sk-estimator {font-family: monospace;background-color: #f0f8ff;border: 1px dotted black;border-radius: 0.25em;box-sizing: border-box;margin-bottom: 0.5em;}#sk-container-id-7 div.sk-estimator:hover {background-color: #d4ebff;}#sk-container-id-7 div.sk-parallel-item::after {content: \"\";width: 100%;border-bottom: 1px solid gray;flex-grow: 1;}#sk-container-id-7 div.sk-label:hover label.sk-toggleable__label {background-color: #d4ebff;}#sk-container-id-7 div.sk-serial::before {content: \"\";position: absolute;border-left: 1px solid gray;box-sizing: border-box;top: 0;bottom: 0;left: 50%;z-index: 0;}#sk-container-id-7 div.sk-serial {display: flex;flex-direction: column;align-items: center;background-color: white;padding-right: 0.2em;padding-left: 0.2em;position: relative;}#sk-container-id-7 div.sk-item {position: relative;z-index: 1;}#sk-container-id-7 div.sk-parallel {display: flex;align-items: stretch;justify-content: center;background-color: white;position: relative;}#sk-container-id-7 div.sk-item::before, #sk-container-id-7 div.sk-parallel-item::before {content: \"\";position: absolute;border-left: 1px solid gray;box-sizing: border-box;top: 0;bottom: 0;left: 50%;z-index: -1;}#sk-container-id-7 div.sk-parallel-item {display: flex;flex-direction: column;z-index: 1;position: relative;background-color: white;}#sk-container-id-7 div.sk-parallel-item:first-child::after {align-self: flex-end;width: 50%;}#sk-container-id-7 div.sk-parallel-item:last-child::after {align-self: flex-start;width: 50%;}#sk-container-id-7 div.sk-parallel-item:only-child::after {width: 0;}#sk-container-id-7 div.sk-dashed-wrapped {border: 1px dashed gray;margin: 0 0.4em 0.5em 0.4em;box-sizing: border-box;padding-bottom: 0.4em;background-color: white;}#sk-container-id-7 div.sk-label label {font-family: monospace;font-weight: bold;display: inline-block;line-height: 1.2em;}#sk-container-id-7 div.sk-label-container {text-align: center;}#sk-container-id-7 div.sk-container {/* jupyter's `normalize.less` sets `[hidden] { display: none; }` but bootstrap.min.css set `[hidden] { display: none !important; }` so we also need the `!important` here to be able to override the default hidden behavior on the sphinx rendered scikit-learn.org. See: https://github.com/scikit-learn/scikit-learn/issues/21755 */display: inline-block !important;position: relative;}#sk-container-id-7 div.sk-text-repr-fallback {display: none;}</style><div id=\"sk-container-id-7\" class=\"sk-top-container\"><div class=\"sk-text-repr-fallback\"><pre>DecisionTreeRegressor(max_depth=3)</pre><b>In a Jupyter environment, please rerun this cell to show the HTML representation or trust the notebook. <br />On GitHub, the HTML representation is unable to render, please try loading this page with nbviewer.org.</b></div><div class=\"sk-container\" hidden><div class=\"sk-item\"><div class=\"sk-estimator sk-toggleable\"><input class=\"sk-toggleable__control sk-hidden--visually\" id=\"sk-estimator-id-9\" type=\"checkbox\" checked><label for=\"sk-estimator-id-9\" class=\"sk-toggleable__label sk-toggleable__label-arrow\">DecisionTreeRegressor</label><div class=\"sk-toggleable__content\"><pre>DecisionTreeRegressor(max_depth=3)</pre></div></div></div></div></div>"
      ],
      "text/plain": [
       "DecisionTreeRegressor(max_depth=3)"
      ]
     },
     "execution_count": 136,
     "metadata": {},
     "output_type": "execute_result"
    }
   ],
   "source": [
    "regrtr1c.fit(X_train_vectorized, y_train)"
   ]
  },
  {
   "cell_type": "code",
   "execution_count": 137,
   "id": "f2f9c75b",
   "metadata": {},
   "outputs": [],
   "source": [
    "prds1c = regrtr1c.predict(X_train_vectorized)"
   ]
  },
  {
   "cell_type": "code",
   "execution_count": 138,
   "id": "dbedd5b8",
   "metadata": {},
   "outputs": [
    {
     "data": {
      "text/plain": [
       "10.59625800588887"
      ]
     },
     "execution_count": 138,
     "metadata": {},
     "output_type": "execute_result"
    }
   ],
   "source": [
    "mean_squared_error(y_train, prds1c)"
   ]
  },
  {
   "cell_type": "code",
   "execution_count": 139,
   "id": "f4e4167c",
   "metadata": {},
   "outputs": [
    {
     "data": {
      "text/plain": [
       "2.879899478757728"
      ]
     },
     "execution_count": 139,
     "metadata": {},
     "output_type": "execute_result"
    }
   ],
   "source": [
    "rmse"
   ]
  },
  {
   "cell_type": "code",
   "execution_count": 140,
   "id": "9ef8f53b",
   "metadata": {},
   "outputs": [],
   "source": [
    "prds1cval = regrtr1c.predict(x_val)"
   ]
  },
  {
   "cell_type": "code",
   "execution_count": 141,
   "id": "c71c23ba",
   "metadata": {},
   "outputs": [
    {
     "data": {
      "text/plain": [
       "10.884150462753505"
      ]
     },
     "execution_count": 141,
     "metadata": {},
     "output_type": "execute_result"
    }
   ],
   "source": [
    "mean_squared_error(y_val, prds1cval)"
   ]
  },
  {
   "cell_type": "code",
   "execution_count": 142,
   "id": "9eb16674",
   "metadata": {},
   "outputs": [
    {
     "data": {
      "text/plain": [
       "3.299113587428221"
      ]
     },
     "execution_count": 142,
     "metadata": {},
     "output_type": "execute_result"
    }
   ],
   "source": [
    "rmse = mean_squared_error(y_val, prds1cval)**.5\n",
    "rmse"
   ]
  },
  {
   "cell_type": "markdown",
   "id": "3060b3fc",
   "metadata": {},
   "source": [
    "Using scikit's tf-idf vectorizer, with tree regression, the rmse's are subtantially the same to custom vectorizer with baseline tree/random guessing strategy. This is as expected. "
   ]
  }
 ],
 "metadata": {
  "kernelspec": {
   "display_name": "Python (dash-env)",
   "language": "python",
   "name": "dash-env"
  },
  "language_info": {
   "codemirror_mode": {
    "name": "ipython",
    "version": 3
   },
   "file_extension": ".py",
   "mimetype": "text/x-python",
   "name": "python",
   "nbconvert_exporter": "python",
   "pygments_lexer": "ipython3",
   "version": "3.8.12"
  }
 },
 "nbformat": 4,
 "nbformat_minor": 5
}
