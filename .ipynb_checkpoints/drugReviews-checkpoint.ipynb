{
 "cells": [
  {
   "cell_type": "markdown",
   "id": "d4995630",
   "metadata": {},
   "source": [
    "# Drug reviews sentiment analysis\n"
   ]
  },
  {
   "cell_type": "markdown",
   "id": "1689e405",
   "metadata": {},
   "source": [
    "# Background information"
   ]
  },
  {
   "cell_type": "markdown",
   "id": "234d3237",
   "metadata": {},
   "source": [
    "A hospital or insurance provider is interested in efficiently extracting numeric ratings from patients' written review. The client already has a dataset of surveys which includes, for each sample, a patient written review, a patient numerical rating, (and other items).  However, the client will be receiving other data sets that do not contain a numerical review.  Only numerical reviews are able to be efficiently be factored into decisions about which medicines to perscribe to patients. \n",
    "\n",
    "\n",
    "To this end we build a model using labelled, numerically, patient reviews in order to predict numerical labels for unlabeled samples.  "
   ]
  },
  {
   "cell_type": "markdown",
   "id": "cc9e6991",
   "metadata": {},
   "source": [
    "# Data exploration"
   ]
  },
  {
   "cell_type": "markdown",
   "id": "37d3ca8f",
   "metadata": {},
   "source": [
    "The data comes from Drugs.com and is accessed through UCI's website. Click [here]('https://archive.ics.uci.edu/dataset/462/drug+review+dataset+drugs+com.zip') to access data."
   ]
  },
  {
   "cell_type": "code",
   "execution_count": 83,
   "id": "abf3e01c",
   "metadata": {},
   "outputs": [],
   "source": [
    "import pandas as pd\n"
   ]
  },
  {
   "cell_type": "code",
   "execution_count": 84,
   "id": "8e28e76a",
   "metadata": {},
   "outputs": [],
   "source": [
    "import numpy as np\n"
   ]
  },
  {
   "cell_type": "code",
   "execution_count": 85,
   "id": "86adb1f3",
   "metadata": {},
   "outputs": [],
   "source": [
    "import matplotlib.pyplot as plt"
   ]
  },
  {
   "cell_type": "code",
   "execution_count": 86,
   "id": "af808b73",
   "metadata": {},
   "outputs": [],
   "source": [
    "data = pd.read_table('./drugsComTrain_raw.tsv')"
   ]
  },
  {
   "cell_type": "code",
   "execution_count": 87,
   "id": "51971570",
   "metadata": {},
   "outputs": [
    {
     "data": {
      "text/html": [
       "<div>\n",
       "<style scoped>\n",
       "    .dataframe tbody tr th:only-of-type {\n",
       "        vertical-align: middle;\n",
       "    }\n",
       "\n",
       "    .dataframe tbody tr th {\n",
       "        vertical-align: top;\n",
       "    }\n",
       "\n",
       "    .dataframe thead th {\n",
       "        text-align: right;\n",
       "    }\n",
       "</style>\n",
       "<table border=\"1\" class=\"dataframe\">\n",
       "  <thead>\n",
       "    <tr style=\"text-align: right;\">\n",
       "      <th></th>\n",
       "      <th>Unnamed: 0</th>\n",
       "      <th>drugName</th>\n",
       "      <th>condition</th>\n",
       "      <th>review</th>\n",
       "      <th>rating</th>\n",
       "      <th>date</th>\n",
       "      <th>usefulCount</th>\n",
       "    </tr>\n",
       "  </thead>\n",
       "  <tbody>\n",
       "    <tr>\n",
       "      <th>0</th>\n",
       "      <td>206461</td>\n",
       "      <td>Valsartan</td>\n",
       "      <td>Left Ventricular Dysfunction</td>\n",
       "      <td>\"It has no side effect, I take it in combinati...</td>\n",
       "      <td>9.0</td>\n",
       "      <td>May 20, 2012</td>\n",
       "      <td>27</td>\n",
       "    </tr>\n",
       "    <tr>\n",
       "      <th>1</th>\n",
       "      <td>95260</td>\n",
       "      <td>Guanfacine</td>\n",
       "      <td>ADHD</td>\n",
       "      <td>\"My son is halfway through his fourth week of ...</td>\n",
       "      <td>8.0</td>\n",
       "      <td>April 27, 2010</td>\n",
       "      <td>192</td>\n",
       "    </tr>\n",
       "    <tr>\n",
       "      <th>2</th>\n",
       "      <td>92703</td>\n",
       "      <td>Lybrel</td>\n",
       "      <td>Birth Control</td>\n",
       "      <td>\"I used to take another oral contraceptive, wh...</td>\n",
       "      <td>5.0</td>\n",
       "      <td>December 14, 2009</td>\n",
       "      <td>17</td>\n",
       "    </tr>\n",
       "    <tr>\n",
       "      <th>3</th>\n",
       "      <td>138000</td>\n",
       "      <td>Ortho Evra</td>\n",
       "      <td>Birth Control</td>\n",
       "      <td>\"This is my first time using any form of birth...</td>\n",
       "      <td>8.0</td>\n",
       "      <td>November 3, 2015</td>\n",
       "      <td>10</td>\n",
       "    </tr>\n",
       "    <tr>\n",
       "      <th>4</th>\n",
       "      <td>35696</td>\n",
       "      <td>Buprenorphine / naloxone</td>\n",
       "      <td>Opiate Dependence</td>\n",
       "      <td>\"Suboxone has completely turned my life around...</td>\n",
       "      <td>9.0</td>\n",
       "      <td>November 27, 2016</td>\n",
       "      <td>37</td>\n",
       "    </tr>\n",
       "  </tbody>\n",
       "</table>\n",
       "</div>"
      ],
      "text/plain": [
       "   Unnamed: 0                  drugName                     condition  \\\n",
       "0      206461                 Valsartan  Left Ventricular Dysfunction   \n",
       "1       95260                Guanfacine                          ADHD   \n",
       "2       92703                    Lybrel                 Birth Control   \n",
       "3      138000                Ortho Evra                 Birth Control   \n",
       "4       35696  Buprenorphine / naloxone             Opiate Dependence   \n",
       "\n",
       "                                              review  rating  \\\n",
       "0  \"It has no side effect, I take it in combinati...     9.0   \n",
       "1  \"My son is halfway through his fourth week of ...     8.0   \n",
       "2  \"I used to take another oral contraceptive, wh...     5.0   \n",
       "3  \"This is my first time using any form of birth...     8.0   \n",
       "4  \"Suboxone has completely turned my life around...     9.0   \n",
       "\n",
       "                date  usefulCount  \n",
       "0       May 20, 2012           27  \n",
       "1     April 27, 2010          192  \n",
       "2  December 14, 2009           17  \n",
       "3   November 3, 2015           10  \n",
       "4  November 27, 2016           37  "
      ]
     },
     "execution_count": 87,
     "metadata": {},
     "output_type": "execute_result"
    }
   ],
   "source": [
    "data.head()"
   ]
  },
  {
   "cell_type": "markdown",
   "id": "b1689c58",
   "metadata": {},
   "source": [
    "There are five potential independent variables, one target variable, and a unique id column, for total of 7 columns."
   ]
  },
  {
   "cell_type": "code",
   "execution_count": 88,
   "id": "bb19d2b2",
   "metadata": {},
   "outputs": [
    {
     "name": "stdout",
     "output_type": "stream",
     "text": [
      "<class 'pandas.core.frame.DataFrame'>\n",
      "RangeIndex: 161297 entries, 0 to 161296\n",
      "Data columns (total 7 columns):\n",
      " #   Column       Non-Null Count   Dtype  \n",
      "---  ------       --------------   -----  \n",
      " 0   Unnamed: 0   161297 non-null  int64  \n",
      " 1   drugName     161297 non-null  object \n",
      " 2   condition    160398 non-null  object \n",
      " 3   review       161297 non-null  object \n",
      " 4   rating       161297 non-null  float64\n",
      " 5   date         161297 non-null  object \n",
      " 6   usefulCount  161297 non-null  int64  \n",
      "dtypes: float64(1), int64(2), object(4)\n",
      "memory usage: 8.6+ MB\n"
     ]
    }
   ],
   "source": [
    "data.info()"
   ]
  },
  {
   "cell_type": "markdown",
   "id": "72bedd9e",
   "metadata": {},
   "source": [
    "There are very few missing values, only 'condition' has missing values of about 1,000, less than 1% of total sample."
   ]
  },
  {
   "cell_type": "markdown",
   "id": "a1a7df21",
   "metadata": {},
   "source": [
    "It initially appears there are 885 unique condtions, but some entries may overlap (i.e. heart failure /attack and different types of diabetes)"
   ]
  },
  {
   "cell_type": "code",
   "execution_count": 89,
   "id": "d0165903",
   "metadata": {},
   "outputs": [
    {
     "data": {
      "text/plain": [
       "885"
      ]
     },
     "execution_count": 89,
     "metadata": {},
     "output_type": "execute_result"
    }
   ],
   "source": [
    "len(data.condition.unique())"
   ]
  },
  {
   "cell_type": "markdown",
   "id": "b4189dd8",
   "metadata": {},
   "source": [
    "The data is fairly balanced by drug, uniformly distributed."
   ]
  },
  {
   "cell_type": "code",
   "execution_count": 90,
   "id": "1d1521eb",
   "metadata": {},
   "outputs": [],
   "source": [
    "\n",
    "\n",
    "count = 0\n",
    "sets = {}\n",
    "for i in data.drugName:\n",
    "    if sets.get(i, 0) >0:\n",
    "        sets[i]+=1\n",
    "    else:\n",
    "        sets[i]=1\n"
   ]
  },
  {
   "cell_type": "code",
   "execution_count": 91,
   "id": "fb54b4d2",
   "metadata": {},
   "outputs": [
    {
     "data": {
      "text/plain": [
       "3436"
      ]
     },
     "execution_count": 91,
     "metadata": {},
     "output_type": "execute_result"
    }
   ],
   "source": [
    "len(sets)"
   ]
  },
  {
   "cell_type": "markdown",
   "id": "10cacd4a",
   "metadata": {},
   "source": [
    "It initially appears there are 3436 unique drugs, however names may overlap with eachother, and not be so distinct."
   ]
  },
  {
   "cell_type": "markdown",
   "id": "4fad2a11",
   "metadata": {},
   "source": [
    "Written review metrics:"
   ]
  },
  {
   "cell_type": "code",
   "execution_count": 92,
   "id": "484c4cf7",
   "metadata": {},
   "outputs": [
    {
     "data": {
      "text/plain": [
       "90.0"
      ]
     },
     "execution_count": 92,
     "metadata": {},
     "output_type": "execute_result"
    }
   ],
   "source": [
    "sm=0\n",
    "for i in range(10):\n",
    "    sm += len(data['review'][i])\n",
    "\n",
    "\n",
    "sm/11/5"
   ]
  },
  {
   "cell_type": "markdown",
   "id": "605df288",
   "metadata": {},
   "source": [
    "About 90 words per review, given sample of 11 and average 5 words per sentence."
   ]
  },
  {
   "cell_type": "markdown",
   "id": "da97f204",
   "metadata": {},
   "source": [
    "Example below:\n"
   ]
  },
  {
   "cell_type": "code",
   "execution_count": 93,
   "id": "51d6c0ca",
   "metadata": {},
   "outputs": [
    {
     "data": {
      "text/plain": [
       "'\"Nexplanon does its job. I can have worry free sex. The only thing is that my periods are sometimes light and sometimes heavy. Sometimes they go away and sometimes they show up unexpected. I also feel somewhat depressed. Not sure if its Nexplanon or not. I&#039;ve had Nexplanont for about 2 months now, but despite the side effects its the most effective birth control I&#039;ve ever used and I do not plan on taking it out.\"'"
      ]
     },
     "execution_count": 93,
     "metadata": {},
     "output_type": "execute_result"
    }
   ],
   "source": [
    "data.review[22]"
   ]
  },
  {
   "cell_type": "markdown",
   "id": "324517da",
   "metadata": {},
   "source": [
    "Below is a historgam of the patients' ratings."
   ]
  },
  {
   "cell_type": "code",
   "execution_count": 94,
   "id": "77d9c49c",
   "metadata": {
    "scrolled": false
   },
   "outputs": [
    {
     "data": {
      "text/plain": [
       "(array([21619.,  6931.,  6513.,  5012.,  8013.,  6343.,  9456., 18890.,\n",
       "        27531., 50989.]),\n",
       " array([ 1. ,  1.9,  2.8,  3.7,  4.6,  5.5,  6.4,  7.3,  8.2,  9.1, 10. ]),\n",
       " <BarContainer object of 10 artists>)"
      ]
     },
     "execution_count": 94,
     "metadata": {},
     "output_type": "execute_result"
    },
    {
     "data": {
      "image/png": "[encoded data removed]",
      "text/plain": [
       "<Figure size 640x480 with 1 Axes>"
      ]
     },
     "metadata": {},
     "output_type": "display_data"
    }
   ],
   "source": [
    "fig, ax =plt.subplots()\n",
    "\n",
    "ax.hist(data['rating'])"
   ]
  },
  {
   "cell_type": "markdown",
   "id": "6bcd5883",
   "metadata": {},
   "source": [
    "Ratings are not normally distributed. Counts are highest at the worst and best ratings."
   ]
  },
  {
   "cell_type": "markdown",
   "id": "c0156a8c",
   "metadata": {},
   "source": [
    "## Data processing"
   ]
  },
  {
   "cell_type": "markdown",
   "id": "07dc58ff",
   "metadata": {},
   "source": [
    "Data processing involves tokenizing and then performing either tf-idf or word embedding processing on the tokens."
   ]
  },
  {
   "cell_type": "code",
   "execution_count": 95,
   "id": "d2270cef",
   "metadata": {},
   "outputs": [],
   "source": [
    "from sklearn.model_selection import train_test_split"
   ]
  },
  {
   "cell_type": "code",
   "execution_count": 96,
   "id": "0fae7d0a",
   "metadata": {},
   "outputs": [],
   "source": [
    "yrat = data.rating\n"
   ]
  },
  {
   "cell_type": "code",
   "execution_count": 97,
   "id": "20a11def",
   "metadata": {},
   "outputs": [],
   "source": [
    "rev = data.review"
   ]
  },
  {
   "cell_type": "code",
   "execution_count": 98,
   "id": "8ab23f6b",
   "metadata": {},
   "outputs": [],
   "source": [
    "#from nltk import word_tokenize\n",
    "from nltk.tokenize import RegexpTokenizer\n",
    "\n",
    "basic_token_pattern = r\"(?u)\\b\\w\\w+\\b\"\n",
    "\n",
    "tokenizer = RegexpTokenizer(basic_token_pattern)\n"
   ]
  },
  {
   "cell_type": "code",
   "execution_count": null,
   "id": "daba53f9",
   "metadata": {},
   "outputs": [],
   "source": []
  },
  {
   "cell_type": "code",
   "execution_count": 99,
   "id": "a074d65d",
   "metadata": {},
   "outputs": [],
   "source": [
    "from nltk import FreqDist"
   ]
  },
  {
   "cell_type": "markdown",
   "id": "f938a5b9",
   "metadata": {},
   "source": [
    "First tokenizing, then creating the distribution frequencies for all invidual items. "
   ]
  },
  {
   "cell_type": "code",
   "execution_count": 100,
   "id": "71b3cde2",
   "metadata": {},
   "outputs": [],
   "source": [
    "def rowFrs(reviews):\n",
    "    Frds= []\n",
    "\n",
    "    for i in data.review:\n",
    "        lw= i.lower()\n",
    "        tkn = tokenizer.tokenize(lw)\n",
    "        Frd= FreqDist(tkn)\n",
    "        \n",
    "        Frds.append(Frd)\n",
    "    return Frds"
   ]
  },
  {
   "cell_type": "code",
   "execution_count": 101,
   "id": "10e25afd",
   "metadata": {},
   "outputs": [],
   "source": [
    "Frqs =rowFrs(rev)"
   ]
  },
  {
   "cell_type": "markdown",
   "id": "fb511780",
   "metadata": {},
   "source": [
    "Expand below to include all rows, i.e. creating the frequency distribution for the corpus.  Also choose a sub-sample space for this project of 16,000 (10% of total) for better computing.  "
   ]
  },
  {
   "cell_type": "code",
   "execution_count": 102,
   "id": "c4310dfa",
   "metadata": {},
   "outputs": [],
   "source": [
    "com = data[0:16000]"
   ]
  },
  {
   "cell_type": "code",
   "execution_count": null,
   "id": "24de9ed3",
   "metadata": {},
   "outputs": [],
   "source": []
  },
  {
   "cell_type": "code",
   "execution_count": 103,
   "id": "3d36192a",
   "metadata": {},
   "outputs": [],
   "source": [
    "comb = \"\"\n",
    "for i in com['review']:\n",
    "    comb += str(i)"
   ]
  },
  {
   "cell_type": "code",
   "execution_count": 104,
   "id": "28bf93ab",
   "metadata": {},
   "outputs": [],
   "source": [
    "comb = comb.lower()"
   ]
  },
  {
   "cell_type": "code",
   "execution_count": 105,
   "id": "73f3a604",
   "metadata": {},
   "outputs": [],
   "source": [
    "ttestw= tokenizer.tokenize(comb)"
   ]
  },
  {
   "cell_type": "code",
   "execution_count": 106,
   "id": "a82e852e",
   "metadata": {},
   "outputs": [],
   "source": [
    "from nltk.corpus import stopwords\n"
   ]
  },
  {
   "cell_type": "code",
   "execution_count": 107,
   "id": "2eb7fe5c",
   "metadata": {},
   "outputs": [],
   "source": [
    "\n",
    "stopwords_list = stopwords.words('english')\n",
    "\n",
    "w_words_stopped = [word for word in ttestw if word not in stopwords_list]"
   ]
  },
  {
   "cell_type": "code",
   "execution_count": 108,
   "id": "ec7cdb6f",
   "metadata": {},
   "outputs": [],
   "source": [
    "w_words_stoppedC = [word for word in w_words_stopped if '039' not in word]"
   ]
  },
  {
   "cell_type": "code",
   "execution_count": 109,
   "id": "ff35962c",
   "metadata": {},
   "outputs": [],
   "source": [
    "FD= FreqDist(w_words_stoppedC)"
   ]
  },
  {
   "cell_type": "markdown",
   "id": "608e6d95",
   "metadata": {},
   "source": [
    "Converting to dataframe to sort and get top 200 words."
   ]
  },
  {
   "cell_type": "code",
   "execution_count": 110,
   "id": "c6bf529c",
   "metadata": {},
   "outputs": [],
   "source": [
    "df = pd.DataFrame(data = dict(FD), index = [0])#range16k"
   ]
  },
  {
   "cell_type": "code",
   "execution_count": 111,
   "id": "6c7af906",
   "metadata": {},
   "outputs": [],
   "source": [
    "dft=df.transpose()"
   ]
  },
  {
   "cell_type": "code",
   "execution_count": 112,
   "id": "84428562",
   "metadata": {},
   "outputs": [
    {
     "data": {
      "text/html": [
       "<div>\n",
       "<style scoped>\n",
       "    .dataframe tbody tr th:only-of-type {\n",
       "        vertical-align: middle;\n",
       "    }\n",
       "\n",
       "    .dataframe tbody tr th {\n",
       "        vertical-align: top;\n",
       "    }\n",
       "\n",
       "    .dataframe thead th {\n",
       "        text-align: right;\n",
       "    }\n",
       "</style>\n",
       "<table border=\"1\" class=\"dataframe\">\n",
       "  <thead>\n",
       "    <tr style=\"text-align: right;\">\n",
       "      <th></th>\n",
       "      <th>0</th>\n",
       "    </tr>\n",
       "  </thead>\n",
       "  <tbody>\n",
       "    <tr>\n",
       "      <th>day</th>\n",
       "      <td>5787</td>\n",
       "    </tr>\n",
       "    <tr>\n",
       "      <th>side</th>\n",
       "      <td>5259</td>\n",
       "    </tr>\n",
       "    <tr>\n",
       "      <th>taking</th>\n",
       "      <td>5088</td>\n",
       "    </tr>\n",
       "    <tr>\n",
       "      <th>years</th>\n",
       "      <td>4645</td>\n",
       "    </tr>\n",
       "    <tr>\n",
       "      <th>pain</th>\n",
       "      <td>4511</td>\n",
       "    </tr>\n",
       "    <tr>\n",
       "      <th>...</th>\n",
       "      <td>...</td>\n",
       "    </tr>\n",
       "    <tr>\n",
       "      <th>tias</th>\n",
       "      <td>1</td>\n",
       "    </tr>\n",
       "    <tr>\n",
       "      <th>alamast</th>\n",
       "      <td>1</td>\n",
       "    </tr>\n",
       "    <tr>\n",
       "      <th>exfoliate</th>\n",
       "      <td>1</td>\n",
       "    </tr>\n",
       "    <tr>\n",
       "      <th>lager</th>\n",
       "      <td>1</td>\n",
       "    </tr>\n",
       "    <tr>\n",
       "      <th>biacna</th>\n",
       "      <td>1</td>\n",
       "    </tr>\n",
       "  </tbody>\n",
       "</table>\n",
       "<p>20205 rows × 1 columns</p>\n",
       "</div>"
      ],
      "text/plain": [
       "              0\n",
       "day        5787\n",
       "side       5259\n",
       "taking     5088\n",
       "years      4645\n",
       "pain       4511\n",
       "...         ...\n",
       "tias          1\n",
       "alamast       1\n",
       "exfoliate     1\n",
       "lager         1\n",
       "biacna        1\n",
       "\n",
       "[20205 rows x 1 columns]"
      ]
     },
     "execution_count": 112,
     "metadata": {},
     "output_type": "execute_result"
    }
   ],
   "source": [
    "dft.sort_values(by= 0, axis = 0, ascending = False)"
   ]
  },
  {
   "cell_type": "code",
   "execution_count": 113,
   "id": "cfd12caf",
   "metadata": {},
   "outputs": [],
   "source": [
    "import matplotlib.pyplot as plt\n",
    "from matplotlib.ticker import MaxNLocator\n",
    "\n",
    "def visualize_top_10(freq_dist, title):\n",
    "\n",
    "    # Extract data for plotting\n",
    "    top_10 = list(zip(*freq_dist.most_common(10)))\n",
    "    tokens = top_10[0]\n",
    "    counts = top_10[1]\n",
    "\n",
    "    # Set up plot and plot data\n",
    "    fig, ax = plt.subplots()\n",
    "    ax.bar(tokens, counts)\n",
    "\n",
    "    # Customize plot appearance\n",
    "    ax.set_title(title)\n",
    "    #ax.set_ylabel(\"Count\")\n",
    "    #ax.yaxis.set_major_locator(MaxNLocator(integer=True))\n",
    "    #ax.tick_params(axis=\"x\", rotation=90)\n",
    "    \n"
   ]
  },
  {
   "cell_type": "code",
   "execution_count": 114,
   "id": "26d8adfe",
   "metadata": {},
   "outputs": [
    {
     "data": {
      "image/png": "[encoded data removed]",
      "text/plain": [
       "<Figure size 640x480 with 1 Axes>"
      ]
     },
     "metadata": {},
     "output_type": "display_data"
    }
   ],
   "source": [
    "visualize_top_10(FD, 'top 10 words in corpus')"
   ]
  },
  {
   "cell_type": "code",
   "execution_count": 115,
   "id": "75fdb721",
   "metadata": {},
   "outputs": [],
   "source": [
    "df200 =dft.sort_values(by= 0, axis = 0).tail(200)"
   ]
  },
  {
   "cell_type": "code",
   "execution_count": 116,
   "id": "c9177441",
   "metadata": {},
   "outputs": [
    {
     "data": {
      "text/html": [
       "<div>\n",
       "<style scoped>\n",
       "    .dataframe tbody tr th:only-of-type {\n",
       "        vertical-align: middle;\n",
       "    }\n",
       "\n",
       "    .dataframe tbody tr th {\n",
       "        vertical-align: top;\n",
       "    }\n",
       "\n",
       "    .dataframe thead th {\n",
       "        text-align: right;\n",
       "    }\n",
       "</style>\n",
       "<table border=\"1\" class=\"dataframe\">\n",
       "  <thead>\n",
       "    <tr style=\"text-align: right;\">\n",
       "      <th></th>\n",
       "      <th>0</th>\n",
       "    </tr>\n",
       "  </thead>\n",
       "  <tbody>\n",
       "    <tr>\n",
       "      <th>minutes</th>\n",
       "      <td>649</td>\n",
       "    </tr>\n",
       "    <tr>\n",
       "      <th>appetite</th>\n",
       "      <td>649</td>\n",
       "    </tr>\n",
       "    <tr>\n",
       "      <th>relief</th>\n",
       "      <td>650</td>\n",
       "    </tr>\n",
       "    <tr>\n",
       "      <th>may</th>\n",
       "      <td>652</td>\n",
       "    </tr>\n",
       "    <tr>\n",
       "      <th>loss</th>\n",
       "      <td>652</td>\n",
       "    </tr>\n",
       "    <tr>\n",
       "      <th>...</th>\n",
       "      <td>...</td>\n",
       "    </tr>\n",
       "    <tr>\n",
       "      <th>pain</th>\n",
       "      <td>4511</td>\n",
       "    </tr>\n",
       "    <tr>\n",
       "      <th>years</th>\n",
       "      <td>4645</td>\n",
       "    </tr>\n",
       "    <tr>\n",
       "      <th>taking</th>\n",
       "      <td>5088</td>\n",
       "    </tr>\n",
       "    <tr>\n",
       "      <th>side</th>\n",
       "      <td>5259</td>\n",
       "    </tr>\n",
       "    <tr>\n",
       "      <th>day</th>\n",
       "      <td>5787</td>\n",
       "    </tr>\n",
       "  </tbody>\n",
       "</table>\n",
       "<p>200 rows × 1 columns</p>\n",
       "</div>"
      ],
      "text/plain": [
       "             0\n",
       "minutes    649\n",
       "appetite   649\n",
       "relief     650\n",
       "may        652\n",
       "loss       652\n",
       "...        ...\n",
       "pain      4511\n",
       "years     4645\n",
       "taking    5088\n",
       "side      5259\n",
       "day       5787\n",
       "\n",
       "[200 rows x 1 columns]"
      ]
     },
     "execution_count": 116,
     "metadata": {},
     "output_type": "execute_result"
    }
   ],
   "source": [
    "df200"
   ]
  },
  {
   "cell_type": "markdown",
   "id": "7cb87b35",
   "metadata": {},
   "source": [
    "Adic is the inverse frequency part of tf-idf."
   ]
  },
  {
   "cell_type": "code",
   "execution_count": 117,
   "id": "dfe9b875",
   "metadata": {},
   "outputs": [],
   "source": [
    "adic={}\n",
    "for i in range(len(df200[0])):\n",
    "    indx =df200.index[i]\n",
    "    adic[indx]=df200[0][i] \n",
    "    \n"
   ]
  },
  {
   "cell_type": "code",
   "execution_count": null,
   "id": "b8bee7b3",
   "metadata": {},
   "outputs": [],
   "source": []
  },
  {
   "cell_type": "markdown",
   "id": "d23b8b76",
   "metadata": {},
   "source": [
    "# Data modeling\n"
   ]
  },
  {
   "cell_type": "markdown",
   "id": "b7d4bc98",
   "metadata": {},
   "source": [
    "random guess (by mean) yields an rmse of 3.27."
   ]
  },
  {
   "cell_type": "code",
   "execution_count": 118,
   "id": "a3cbb7b8",
   "metadata": {},
   "outputs": [
    {
     "data": {
      "text/plain": [
       "6.994376832799122"
      ]
     },
     "execution_count": 118,
     "metadata": {},
     "output_type": "execute_result"
    }
   ],
   "source": [
    "data.rating.mean()"
   ]
  },
  {
   "cell_type": "code",
   "execution_count": 119,
   "id": "8cf0edb1",
   "metadata": {},
   "outputs": [],
   "source": [
    "from sklearn.metrics import mean_squared_error"
   ]
  },
  {
   "cell_type": "code",
   "execution_count": 120,
   "id": "0062ee41",
   "metadata": {},
   "outputs": [],
   "source": [
    "data['aver_rat']=7"
   ]
  },
  {
   "cell_type": "code",
   "execution_count": 122,
   "id": "4d133168",
   "metadata": {},
   "outputs": [
    {
     "data": {
      "text/plain": [
       "10.708103684507462"
      ]
     },
     "execution_count": 122,
     "metadata": {},
     "output_type": "execute_result"
    }
   ],
   "source": [
    "mean_squared_error(data.rating, data['aver_rat'])"
   ]
  },
  {
   "cell_type": "code",
   "execution_count": 123,
   "id": "cf3243b6",
   "metadata": {},
   "outputs": [
    {
     "data": {
      "text/plain": [
       "3.271085446759225"
      ]
     },
     "execution_count": 123,
     "metadata": {},
     "output_type": "execute_result"
    }
   ],
   "source": [
    "10.7**.5"
   ]
  },
  {
   "cell_type": "markdown",
   "id": "65816ee8",
   "metadata": {},
   "source": [
    "\n",
    "## Baseline tf-idf model."
   ]
  },
  {
   "cell_type": "code",
   "execution_count": 124,
   "id": "ff42f553",
   "metadata": {},
   "outputs": [],
   "source": [
    "from sklearn.metrics import mean_squared_error"
   ]
  },
  {
   "cell_type": "code",
   "execution_count": 125,
   "id": "98a42cec",
   "metadata": {},
   "outputs": [],
   "source": [
    "from sklearn.tree import DecisionTreeRegressor"
   ]
  },
  {
   "cell_type": "code",
   "execution_count": 126,
   "id": "d703d012",
   "metadata": {},
   "outputs": [],
   "source": [
    "from sklearn.ensemble import RandomForestRegressor"
   ]
  },
  {
   "cell_type": "markdown",
   "id": "bfa6fa22",
   "metadata": {},
   "source": [
    "Creating the tf-idf matrix. This involves a computation involving frqd's of each review and the corpus as a whole. Dividing the word usage in a given review by the word usage across the corpus of reviews tells us how significant the word is to the particular view (e.g. a word with high frequency in example review but low frequency across the corpus, would yield a high number, befitting the higher importance of the word to that review). "
   ]
  },
  {
   "cell_type": "code",
   "execution_count": 127,
   "id": "dc8d938d",
   "metadata": {},
   "outputs": [],
   "source": [
    "\n",
    "wtfids = []\n",
    "for i in range(16000):\n",
    "    tfidfs =list([])\n",
    "    for k in adic.keys():\n",
    "        num = Frqs[i].get(k,0)\n",
    "        den = adic[k]\n",
    "        tfidf = num/den\n",
    "        tfidfs.append(tfidf)\n",
    "    wtfids.append(tfidfs)"
   ]
  },
  {
   "cell_type": "markdown",
   "id": "582eab0b",
   "metadata": {},
   "source": [
    "Taking the first 16000 of the y-var (rating)."
   ]
  },
  {
   "cell_type": "code",
   "execution_count": 128,
   "id": "effd6fa3",
   "metadata": {},
   "outputs": [],
   "source": [
    "revscut= data.rating[0:16000]"
   ]
  },
  {
   "cell_type": "code",
   "execution_count": 129,
   "id": "08a138c6",
   "metadata": {},
   "outputs": [],
   "source": [
    "yvals = np.asarray(revscut)"
   ]
  },
  {
   "cell_type": "code",
   "execution_count": 130,
   "id": "a424ada9",
   "metadata": {},
   "outputs": [],
   "source": [
    "xvals = np.asarray(wtfids)"
   ]
  },
  {
   "cell_type": "code",
   "execution_count": 131,
   "id": "57d2bc2e",
   "metadata": {},
   "outputs": [],
   "source": [
    "x_train, x_val, y_train,  y_val = train_test_split(xvals, yvals, random_state = 2)"
   ]
  },
  {
   "cell_type": "markdown",
   "id": "62e010d1",
   "metadata": {},
   "source": [
    "Try baseline regression tree."
   ]
  },
  {
   "cell_type": "code",
   "execution_count": 132,
   "id": "d91a9dc8",
   "metadata": {},
   "outputs": [],
   "source": [
    "regrtr1 = DecisionTreeRegressor(max_depth = 3)\n"
   ]
  },
  {
   "cell_type": "code",
   "execution_count": 133,
   "id": "367abc22",
   "metadata": {},
   "outputs": [
    {
     "data": {
      "text/html": [
       "<style>#sk-container-id-1 {color: black;}#sk-container-id-1 pre{padding: 0;}#sk-container-id-1 div.sk-toggleable {background-color: white;}#sk-container-id-1 label.sk-toggleable__label {cursor: pointer;display: block;width: 100%;margin-bottom: 0;padding: 0.3em;box-sizing: border-box;text-align: center;}#sk-container-id-1 label.sk-toggleable__label-arrow:before {content: \"▸\";float: left;margin-right: 0.25em;color: #696969;}#sk-container-id-1 label.sk-toggleable__label-arrow:hover:before {color: black;}#sk-container-id-1 div.sk-estimator:hover label.sk-toggleable__label-arrow:before {color: black;}#sk-container-id-1 div.sk-toggleable__content {max-height: 0;max-width: 0;overflow: hidden;text-align: left;background-color: #f0f8ff;}#sk-container-id-1 div.sk-toggleable__content pre {margin: 0.2em;color: black;border-radius: 0.25em;background-color: #f0f8ff;}#sk-container-id-1 input.sk-toggleable__control:checked~div.sk-toggleable__content {max-height: 200px;max-width: 100%;overflow: auto;}#sk-container-id-1 input.sk-toggleable__control:checked~label.sk-toggleable__label-arrow:before {content: \"▾\";}#sk-container-id-1 div.sk-estimator input.sk-toggleable__control:checked~label.sk-toggleable__label {background-color: #d4ebff;}#sk-container-id-1 div.sk-label input.sk-toggleable__control:checked~label.sk-toggleable__label {background-color: #d4ebff;}#sk-container-id-1 input.sk-hidden--visually {border: 0;clip: rect(1px 1px 1px 1px);clip: rect(1px, 1px, 1px, 1px);height: 1px;margin: -1px;overflow: hidden;padding: 0;position: absolute;width: 1px;}#sk-container-id-1 div.sk-estimator {font-family: monospace;background-color: #f0f8ff;border: 1px dotted black;border-radius: 0.25em;box-sizing: border-box;margin-bottom: 0.5em;}#sk-container-id-1 div.sk-estimator:hover {background-color: #d4ebff;}#sk-container-id-1 div.sk-parallel-item::after {content: \"\";width: 100%;border-bottom: 1px solid gray;flex-grow: 1;}#sk-container-id-1 div.sk-label:hover label.sk-toggleable__label {background-color: #d4ebff;}#sk-container-id-1 div.sk-serial::before {content: \"\";position: absolute;border-left: 1px solid gray;box-sizing: border-box;top: 0;bottom: 0;left: 50%;z-index: 0;}#sk-container-id-1 div.sk-serial {display: flex;flex-direction: column;align-items: center;background-color: white;padding-right: 0.2em;padding-left: 0.2em;position: relative;}#sk-container-id-1 div.sk-item {position: relative;z-index: 1;}#sk-container-id-1 div.sk-parallel {display: flex;align-items: stretch;justify-content: center;background-color: white;position: relative;}#sk-container-id-1 div.sk-item::before, #sk-container-id-1 div.sk-parallel-item::before {content: \"\";position: absolute;border-left: 1px solid gray;box-sizing: border-box;top: 0;bottom: 0;left: 50%;z-index: -1;}#sk-container-id-1 div.sk-parallel-item {display: flex;flex-direction: column;z-index: 1;position: relative;background-color: white;}#sk-container-id-1 div.sk-parallel-item:first-child::after {align-self: flex-end;width: 50%;}#sk-container-id-1 div.sk-parallel-item:last-child::after {align-self: flex-start;width: 50%;}#sk-container-id-1 div.sk-parallel-item:only-child::after {width: 0;}#sk-container-id-1 div.sk-dashed-wrapped {border: 1px dashed gray;margin: 0 0.4em 0.5em 0.4em;box-sizing: border-box;padding-bottom: 0.4em;background-color: white;}#sk-container-id-1 div.sk-label label {font-family: monospace;font-weight: bold;display: inline-block;line-height: 1.2em;}#sk-container-id-1 div.sk-label-container {text-align: center;}#sk-container-id-1 div.sk-container {/* jupyter's `normalize.less` sets `[hidden] { display: none; }` but bootstrap.min.css set `[hidden] { display: none !important; }` so we also need the `!important` here to be able to override the default hidden behavior on the sphinx rendered scikit-learn.org. See: https://github.com/scikit-learn/scikit-learn/issues/21755 */display: inline-block !important;position: relative;}#sk-container-id-1 div.sk-text-repr-fallback {display: none;}</style><div id=\"sk-container-id-1\" class=\"sk-top-container\"><div class=\"sk-text-repr-fallback\"><pre>DecisionTreeRegressor(max_depth=3)</pre><b>In a Jupyter environment, please rerun this cell to show the HTML representation or trust the notebook. <br />On GitHub, the HTML representation is unable to render, please try loading this page with nbviewer.org.</b></div><div class=\"sk-container\" hidden><div class=\"sk-item\"><div class=\"sk-estimator sk-toggleable\"><input class=\"sk-toggleable__control sk-hidden--visually\" id=\"sk-estimator-id-1\" type=\"checkbox\" checked><label for=\"sk-estimator-id-1\" class=\"sk-toggleable__label sk-toggleable__label-arrow\">DecisionTreeRegressor</label><div class=\"sk-toggleable__content\"><pre>DecisionTreeRegressor(max_depth=3)</pre></div></div></div></div></div>"
      ],
      "text/plain": [
       "DecisionTreeRegressor(max_depth=3)"
      ]
     },
     "execution_count": 133,
     "metadata": {},
     "output_type": "execute_result"
    }
   ],
   "source": [
    "regrtr1.fit(x_train, y_train)"
   ]
  },
  {
   "cell_type": "code",
   "execution_count": 134,
   "id": "6e7c6e21",
   "metadata": {},
   "outputs": [],
   "source": [
    "prds1 = regrtr1.predict(x_train)"
   ]
  },
  {
   "cell_type": "code",
   "execution_count": 135,
   "id": "36dbddb6",
   "metadata": {},
   "outputs": [
    {
     "data": {
      "text/plain": [
       "10.02306910442066"
      ]
     },
     "execution_count": 135,
     "metadata": {},
     "output_type": "execute_result"
    }
   ],
   "source": [
    "mean_squared_error(y_train, prds1)"
   ]
  },
  {
   "cell_type": "code",
   "execution_count": 136,
   "id": "c2c4f139",
   "metadata": {},
   "outputs": [
    {
     "data": {
      "text/plain": [
       "3.165923104628516"
      ]
     },
     "execution_count": 136,
     "metadata": {},
     "output_type": "execute_result"
    }
   ],
   "source": [
    "rmse = mean_squared_error(y_train, prds1)**.5\n",
    "rmse"
   ]
  },
  {
   "cell_type": "code",
   "execution_count": 137,
   "id": "2ab2ece6",
   "metadata": {},
   "outputs": [
    {
     "data": {
      "text/plain": [
       "array([0.        , 0.        , 0.        , 0.        , 0.        ,\n",
       "       0.        , 0.        , 0.        , 0.        , 0.        ,\n",
       "       0.        , 0.        , 0.        , 0.        , 0.        ,\n",
       "       0.        , 0.        , 0.        , 0.        , 0.        ,\n",
       "       0.        , 0.        , 0.32878623, 0.        , 0.        ,\n",
       "       0.        , 0.        , 0.        , 0.        , 0.        ,\n",
       "       0.        , 0.        , 0.        , 0.        , 0.        ,\n",
       "       0.        , 0.        , 0.        , 0.        , 0.        ,\n",
       "       0.        , 0.        , 0.        , 0.        , 0.        ,\n",
       "       0.        , 0.        , 0.        , 0.        , 0.        ,\n",
       "       0.        , 0.        , 0.        , 0.        , 0.        ,\n",
       "       0.        , 0.02874787, 0.        , 0.        , 0.        ,\n",
       "       0.        , 0.        , 0.        , 0.        , 0.        ,\n",
       "       0.        , 0.        , 0.        , 0.        , 0.        ,\n",
       "       0.        , 0.        , 0.        , 0.        , 0.        ,\n",
       "       0.        , 0.        , 0.        , 0.        , 0.        ,\n",
       "       0.        , 0.        , 0.        , 0.        , 0.        ,\n",
       "       0.        , 0.        , 0.        , 0.        , 0.        ,\n",
       "       0.        , 0.        , 0.29183687, 0.        , 0.        ,\n",
       "       0.        , 0.        , 0.        , 0.        , 0.        ,\n",
       "       0.        , 0.        , 0.        , 0.        , 0.        ,\n",
       "       0.        , 0.        , 0.        , 0.        , 0.        ,\n",
       "       0.        , 0.        , 0.        , 0.        , 0.        ,\n",
       "       0.        , 0.        , 0.        , 0.        , 0.        ,\n",
       "       0.        , 0.        , 0.        , 0.        , 0.        ,\n",
       "       0.        , 0.        , 0.        , 0.        , 0.        ,\n",
       "       0.        , 0.        , 0.        , 0.        , 0.        ,\n",
       "       0.        , 0.        , 0.        , 0.        , 0.        ,\n",
       "       0.        , 0.        , 0.        , 0.        , 0.02779525,\n",
       "       0.        , 0.        , 0.        , 0.        , 0.        ,\n",
       "       0.        , 0.02852756, 0.        , 0.        , 0.        ,\n",
       "       0.        , 0.        , 0.        , 0.        , 0.        ,\n",
       "       0.        , 0.        , 0.        , 0.        , 0.        ,\n",
       "       0.        , 0.        , 0.        , 0.        , 0.        ,\n",
       "       0.29430621, 0.        , 0.        , 0.        , 0.        ,\n",
       "       0.        , 0.        , 0.        , 0.        , 0.        ,\n",
       "       0.        , 0.        , 0.        , 0.        , 0.        ,\n",
       "       0.        , 0.        , 0.        , 0.        , 0.        ,\n",
       "       0.        , 0.        , 0.        , 0.        , 0.        ,\n",
       "       0.        , 0.        , 0.        , 0.        , 0.        ])"
      ]
     },
     "execution_count": 137,
     "metadata": {},
     "output_type": "execute_result"
    }
   ],
   "source": [
    "regrtr1.feature_importances_"
   ]
  },
  {
   "cell_type": "code",
   "execution_count": 140,
   "id": "9391a23e",
   "metadata": {},
   "outputs": [],
   "source": [
    "indx =[]\n",
    "\n",
    "fis = regrtr1.feature_importances_\n",
    "for i in range(len(fis)):\n",
    "    if fis[i]>.02:\n",
    "        indx.append(i)\n",
    "\n"
   ]
  },
  {
   "cell_type": "code",
   "execution_count": 142,
   "id": "4a1612d3",
   "metadata": {},
   "outputs": [],
   "source": [
    "featlist = [] #creating a list of key features\n",
    "for i in indx:\n",
    "    key = list(adic.keys())[i]    \n",
    "    featlist.append(key)\n",
    "    "
   ]
  },
  {
   "cell_type": "code",
   "execution_count": 149,
   "id": "26873a79",
   "metadata": {},
   "outputs": [
    {
     "data": {
      "text/plain": [
       "['worst', 'best', 'worse', 'acne', 'good', 'life']"
      ]
     },
     "execution_count": 149,
     "metadata": {},
     "output_type": "execute_result"
    }
   ],
   "source": [
    "featlist"
   ]
  },
  {
   "cell_type": "code",
   "execution_count": 152,
   "id": "609243aa",
   "metadata": {},
   "outputs": [
    {
     "data": {
      "text/plain": [
       "Text(0.5, 1.0, 'most significant features')"
      ]
     },
     "execution_count": 152,
     "metadata": {},
     "output_type": "execute_result"
    },
    {
     "data": {
      "image/png": "[encoded data removed]",
      "text/plain": [
       "<Figure size 640x480 with 1 Axes>"
      ]
     },
     "metadata": {},
     "output_type": "display_data"
    }
   ],
   "source": [
    "#### plt.figure(figsize=(25,25))\n",
    "\n",
    "plt.barh(featlist, regrtr1.feature_importances_[indx])\n",
    "plt.title(\"most significant features\")\n"
   ]
  },
  {
   "cell_type": "code",
   "execution_count": null,
   "id": "9762777d",
   "metadata": {},
   "outputs": [],
   "source": [
    "#plot.plt(kind= 'bar', x= ['worst','best','worse','acne','good','life'])"
   ]
  },
  {
   "cell_type": "code",
   "execution_count": null,
   "id": "4c27b27a",
   "metadata": {},
   "outputs": [],
   "source": [
    "#x = featlist y = ## get feature importances so they are comparable"
   ]
  },
  {
   "cell_type": "markdown",
   "id": "8b59c41c",
   "metadata": {},
   "source": [
    "[index for index in fis.index() if fis[index]>.02]\n"
   ]
  },
  {
   "cell_type": "code",
   "execution_count": 81,
   "id": "13d03575",
   "metadata": {},
   "outputs": [
    {
     "data": {
      "text/plain": [
       "numpy.ndarray"
      ]
     },
     "execution_count": 81,
     "metadata": {},
     "output_type": "execute_result"
    }
   ],
   "source": [
    "type(regrtr1.feature_importances_)\n"
   ]
  },
  {
   "cell_type": "code",
   "execution_count": 94,
   "id": "4c12217c",
   "metadata": {},
   "outputs": [],
   "source": [
    "prds1val = regrtr1.predict(x_val)"
   ]
  },
  {
   "cell_type": "markdown",
   "id": "53b97c2a",
   "metadata": {},
   "source": [
    "Baseline mse is 8, scale is 10 points."
   ]
  },
  {
   "cell_type": "code",
   "execution_count": 95,
   "id": "0edfd0dc",
   "metadata": {},
   "outputs": [
    {
     "data": {
      "text/plain": [
       "10.286036787132614"
      ]
     },
     "execution_count": 95,
     "metadata": {},
     "output_type": "execute_result"
    }
   ],
   "source": [
    "mean_squared_error(y_val, prds1val)"
   ]
  },
  {
   "cell_type": "code",
   "execution_count": 96,
   "id": "591e8f93",
   "metadata": {},
   "outputs": [
    {
     "data": {
      "text/plain": [
       "3.2071851812972407"
      ]
     },
     "execution_count": 96,
     "metadata": {},
     "output_type": "execute_result"
    }
   ],
   "source": [
    "rmse = mean_squared_error(y_val, prds1val)**.5\n",
    "rmse"
   ]
  },
  {
   "cell_type": "markdown",
   "id": "64d61089",
   "metadata": {},
   "source": [
    "Barely any gain over guessing strategy (3.20 vs 3.27 rmses) .  Not much overfitting based on strong results on validation. Try tree with greater depth to reduce underfitting:"
   ]
  },
  {
   "cell_type": "markdown",
   "id": "42c1d04a",
   "metadata": {},
   "source": [
    "Using sklearn's tfidf vectorizer object. "
   ]
  },
  {
   "cell_type": "code",
   "execution_count": 158,
   "id": "4753ba65",
   "metadata": {},
   "outputs": [
    {
     "data": {
      "text/html": [
       "<div>\n",
       "<style scoped>\n",
       "    .dataframe tbody tr th:only-of-type {\n",
       "        vertical-align: middle;\n",
       "    }\n",
       "\n",
       "    .dataframe tbody tr th {\n",
       "        vertical-align: top;\n",
       "    }\n",
       "\n",
       "    .dataframe thead th {\n",
       "        text-align: right;\n",
       "    }\n",
       "</style>\n",
       "<table border=\"1\" class=\"dataframe\">\n",
       "  <thead>\n",
       "    <tr style=\"text-align: right;\">\n",
       "      <th></th>\n",
       "      <th>039</th>\n",
       "      <th>10</th>\n",
       "      <th>about</th>\n",
       "      <th>acne</th>\n",
       "      <th>after</th>\n",
       "      <th>again</th>\n",
       "      <th>ago</th>\n",
       "      <th>all</th>\n",
       "      <th>almost</th>\n",
       "      <th>also</th>\n",
       "      <th>...</th>\n",
       "      <th>without</th>\n",
       "      <th>work</th>\n",
       "      <th>worked</th>\n",
       "      <th>works</th>\n",
       "      <th>worse</th>\n",
       "      <th>would</th>\n",
       "      <th>year</th>\n",
       "      <th>years</th>\n",
       "      <th>you</th>\n",
       "      <th>your</th>\n",
       "    </tr>\n",
       "  </thead>\n",
       "  <tbody>\n",
       "    <tr>\n",
       "      <th>0</th>\n",
       "      <td>0.000000</td>\n",
       "      <td>0.000000</td>\n",
       "      <td>0.000000</td>\n",
       "      <td>0.000000</td>\n",
       "      <td>0.000000</td>\n",
       "      <td>0.000000</td>\n",
       "      <td>0.000000</td>\n",
       "      <td>0.000000</td>\n",
       "      <td>0.0</td>\n",
       "      <td>0.000000</td>\n",
       "      <td>...</td>\n",
       "      <td>0.00000</td>\n",
       "      <td>0.000000</td>\n",
       "      <td>0.0</td>\n",
       "      <td>0.00000</td>\n",
       "      <td>0.000000</td>\n",
       "      <td>0.000000</td>\n",
       "      <td>0.0</td>\n",
       "      <td>0.000000</td>\n",
       "      <td>0.000000</td>\n",
       "      <td>0.0</td>\n",
       "    </tr>\n",
       "    <tr>\n",
       "      <th>1</th>\n",
       "      <td>0.000000</td>\n",
       "      <td>0.000000</td>\n",
       "      <td>0.000000</td>\n",
       "      <td>0.000000</td>\n",
       "      <td>0.000000</td>\n",
       "      <td>0.000000</td>\n",
       "      <td>0.000000</td>\n",
       "      <td>0.052093</td>\n",
       "      <td>0.0</td>\n",
       "      <td>0.000000</td>\n",
       "      <td>...</td>\n",
       "      <td>0.00000</td>\n",
       "      <td>0.000000</td>\n",
       "      <td>0.0</td>\n",
       "      <td>0.00000</td>\n",
       "      <td>0.000000</td>\n",
       "      <td>0.000000</td>\n",
       "      <td>0.0</td>\n",
       "      <td>0.000000</td>\n",
       "      <td>0.000000</td>\n",
       "      <td>0.0</td>\n",
       "    </tr>\n",
       "    <tr>\n",
       "      <th>2</th>\n",
       "      <td>0.091420</td>\n",
       "      <td>0.000000</td>\n",
       "      <td>0.000000</td>\n",
       "      <td>0.000000</td>\n",
       "      <td>0.000000</td>\n",
       "      <td>0.000000</td>\n",
       "      <td>0.000000</td>\n",
       "      <td>0.000000</td>\n",
       "      <td>0.0</td>\n",
       "      <td>0.000000</td>\n",
       "      <td>...</td>\n",
       "      <td>0.00000</td>\n",
       "      <td>0.000000</td>\n",
       "      <td>0.0</td>\n",
       "      <td>0.00000</td>\n",
       "      <td>0.116683</td>\n",
       "      <td>0.000000</td>\n",
       "      <td>0.0</td>\n",
       "      <td>0.000000</td>\n",
       "      <td>0.000000</td>\n",
       "      <td>0.0</td>\n",
       "    </tr>\n",
       "    <tr>\n",
       "      <th>3</th>\n",
       "      <td>0.053228</td>\n",
       "      <td>0.000000</td>\n",
       "      <td>0.000000</td>\n",
       "      <td>0.000000</td>\n",
       "      <td>0.000000</td>\n",
       "      <td>0.000000</td>\n",
       "      <td>0.000000</td>\n",
       "      <td>0.000000</td>\n",
       "      <td>0.0</td>\n",
       "      <td>0.104162</td>\n",
       "      <td>...</td>\n",
       "      <td>0.00000</td>\n",
       "      <td>0.000000</td>\n",
       "      <td>0.0</td>\n",
       "      <td>0.00000</td>\n",
       "      <td>0.000000</td>\n",
       "      <td>0.000000</td>\n",
       "      <td>0.0</td>\n",
       "      <td>0.000000</td>\n",
       "      <td>0.000000</td>\n",
       "      <td>0.0</td>\n",
       "    </tr>\n",
       "    <tr>\n",
       "      <th>4</th>\n",
       "      <td>0.237393</td>\n",
       "      <td>0.000000</td>\n",
       "      <td>0.092693</td>\n",
       "      <td>0.000000</td>\n",
       "      <td>0.000000</td>\n",
       "      <td>0.133687</td>\n",
       "      <td>0.000000</td>\n",
       "      <td>0.095954</td>\n",
       "      <td>0.0</td>\n",
       "      <td>0.000000</td>\n",
       "      <td>...</td>\n",
       "      <td>0.00000</td>\n",
       "      <td>0.000000</td>\n",
       "      <td>0.0</td>\n",
       "      <td>0.00000</td>\n",
       "      <td>0.000000</td>\n",
       "      <td>0.000000</td>\n",
       "      <td>0.0</td>\n",
       "      <td>0.097882</td>\n",
       "      <td>0.224594</td>\n",
       "      <td>0.0</td>\n",
       "    </tr>\n",
       "    <tr>\n",
       "      <th>...</th>\n",
       "      <td>...</td>\n",
       "      <td>...</td>\n",
       "      <td>...</td>\n",
       "      <td>...</td>\n",
       "      <td>...</td>\n",
       "      <td>...</td>\n",
       "      <td>...</td>\n",
       "      <td>...</td>\n",
       "      <td>...</td>\n",
       "      <td>...</td>\n",
       "      <td>...</td>\n",
       "      <td>...</td>\n",
       "      <td>...</td>\n",
       "      <td>...</td>\n",
       "      <td>...</td>\n",
       "      <td>...</td>\n",
       "      <td>...</td>\n",
       "      <td>...</td>\n",
       "      <td>...</td>\n",
       "      <td>...</td>\n",
       "      <td>...</td>\n",
       "    </tr>\n",
       "    <tr>\n",
       "      <th>15995</th>\n",
       "      <td>0.248121</td>\n",
       "      <td>0.000000</td>\n",
       "      <td>0.129176</td>\n",
       "      <td>0.000000</td>\n",
       "      <td>0.121890</td>\n",
       "      <td>0.000000</td>\n",
       "      <td>0.000000</td>\n",
       "      <td>0.000000</td>\n",
       "      <td>0.0</td>\n",
       "      <td>0.000000</td>\n",
       "      <td>...</td>\n",
       "      <td>0.00000</td>\n",
       "      <td>0.000000</td>\n",
       "      <td>0.0</td>\n",
       "      <td>0.00000</td>\n",
       "      <td>0.000000</td>\n",
       "      <td>0.000000</td>\n",
       "      <td>0.0</td>\n",
       "      <td>0.000000</td>\n",
       "      <td>0.000000</td>\n",
       "      <td>0.0</td>\n",
       "    </tr>\n",
       "    <tr>\n",
       "      <th>15996</th>\n",
       "      <td>0.057803</td>\n",
       "      <td>0.264123</td>\n",
       "      <td>0.000000</td>\n",
       "      <td>0.000000</td>\n",
       "      <td>0.170373</td>\n",
       "      <td>0.000000</td>\n",
       "      <td>0.000000</td>\n",
       "      <td>0.093455</td>\n",
       "      <td>0.0</td>\n",
       "      <td>0.000000</td>\n",
       "      <td>...</td>\n",
       "      <td>0.00000</td>\n",
       "      <td>0.000000</td>\n",
       "      <td>0.0</td>\n",
       "      <td>0.00000</td>\n",
       "      <td>0.000000</td>\n",
       "      <td>0.109075</td>\n",
       "      <td>0.0</td>\n",
       "      <td>0.000000</td>\n",
       "      <td>0.000000</td>\n",
       "      <td>0.0</td>\n",
       "    </tr>\n",
       "    <tr>\n",
       "      <th>15997</th>\n",
       "      <td>0.000000</td>\n",
       "      <td>0.000000</td>\n",
       "      <td>0.000000</td>\n",
       "      <td>0.000000</td>\n",
       "      <td>0.000000</td>\n",
       "      <td>0.000000</td>\n",
       "      <td>0.000000</td>\n",
       "      <td>0.000000</td>\n",
       "      <td>0.0</td>\n",
       "      <td>0.000000</td>\n",
       "      <td>...</td>\n",
       "      <td>0.27454</td>\n",
       "      <td>0.229411</td>\n",
       "      <td>0.0</td>\n",
       "      <td>0.00000</td>\n",
       "      <td>0.000000</td>\n",
       "      <td>0.000000</td>\n",
       "      <td>0.0</td>\n",
       "      <td>0.000000</td>\n",
       "      <td>0.000000</td>\n",
       "      <td>0.0</td>\n",
       "    </tr>\n",
       "    <tr>\n",
       "      <th>15998</th>\n",
       "      <td>0.065319</td>\n",
       "      <td>0.000000</td>\n",
       "      <td>0.000000</td>\n",
       "      <td>0.000000</td>\n",
       "      <td>0.096264</td>\n",
       "      <td>0.000000</td>\n",
       "      <td>0.143859</td>\n",
       "      <td>0.000000</td>\n",
       "      <td>0.0</td>\n",
       "      <td>0.000000</td>\n",
       "      <td>...</td>\n",
       "      <td>0.00000</td>\n",
       "      <td>0.000000</td>\n",
       "      <td>0.0</td>\n",
       "      <td>0.29468</td>\n",
       "      <td>0.000000</td>\n",
       "      <td>0.000000</td>\n",
       "      <td>0.0</td>\n",
       "      <td>0.107729</td>\n",
       "      <td>0.000000</td>\n",
       "      <td>0.0</td>\n",
       "    </tr>\n",
       "    <tr>\n",
       "      <th>15999</th>\n",
       "      <td>0.053951</td>\n",
       "      <td>0.000000</td>\n",
       "      <td>0.000000</td>\n",
       "      <td>0.397861</td>\n",
       "      <td>0.000000</td>\n",
       "      <td>0.000000</td>\n",
       "      <td>0.000000</td>\n",
       "      <td>0.174454</td>\n",
       "      <td>0.0</td>\n",
       "      <td>0.000000</td>\n",
       "      <td>...</td>\n",
       "      <td>0.00000</td>\n",
       "      <td>0.000000</td>\n",
       "      <td>0.0</td>\n",
       "      <td>0.00000</td>\n",
       "      <td>0.137720</td>\n",
       "      <td>0.000000</td>\n",
       "      <td>0.0</td>\n",
       "      <td>0.000000</td>\n",
       "      <td>0.000000</td>\n",
       "      <td>0.0</td>\n",
       "    </tr>\n",
       "  </tbody>\n",
       "</table>\n",
       "<p>16000 rows × 200 columns</p>\n",
       "</div>"
      ],
      "text/plain": [
       "            039        10     about      acne     after     again       ago  \\\n",
       "0      0.000000  0.000000  0.000000  0.000000  0.000000  0.000000  0.000000   \n",
       "1      0.000000  0.000000  0.000000  0.000000  0.000000  0.000000  0.000000   \n",
       "2      0.091420  0.000000  0.000000  0.000000  0.000000  0.000000  0.000000   \n",
       "3      0.053228  0.000000  0.000000  0.000000  0.000000  0.000000  0.000000   \n",
       "4      0.237393  0.000000  0.092693  0.000000  0.000000  0.133687  0.000000   \n",
       "...         ...       ...       ...       ...       ...       ...       ...   \n",
       "15995  0.248121  0.000000  0.129176  0.000000  0.121890  0.000000  0.000000   \n",
       "15996  0.057803  0.264123  0.000000  0.000000  0.170373  0.000000  0.000000   \n",
       "15997  0.000000  0.000000  0.000000  0.000000  0.000000  0.000000  0.000000   \n",
       "15998  0.065319  0.000000  0.000000  0.000000  0.096264  0.000000  0.143859   \n",
       "15999  0.053951  0.000000  0.000000  0.397861  0.000000  0.000000  0.000000   \n",
       "\n",
       "            all  almost      also  ...  without      work  worked    works  \\\n",
       "0      0.000000     0.0  0.000000  ...  0.00000  0.000000     0.0  0.00000   \n",
       "1      0.052093     0.0  0.000000  ...  0.00000  0.000000     0.0  0.00000   \n",
       "2      0.000000     0.0  0.000000  ...  0.00000  0.000000     0.0  0.00000   \n",
       "3      0.000000     0.0  0.104162  ...  0.00000  0.000000     0.0  0.00000   \n",
       "4      0.095954     0.0  0.000000  ...  0.00000  0.000000     0.0  0.00000   \n",
       "...         ...     ...       ...  ...      ...       ...     ...      ...   \n",
       "15995  0.000000     0.0  0.000000  ...  0.00000  0.000000     0.0  0.00000   \n",
       "15996  0.093455     0.0  0.000000  ...  0.00000  0.000000     0.0  0.00000   \n",
       "15997  0.000000     0.0  0.000000  ...  0.27454  0.229411     0.0  0.00000   \n",
       "15998  0.000000     0.0  0.000000  ...  0.00000  0.000000     0.0  0.29468   \n",
       "15999  0.174454     0.0  0.000000  ...  0.00000  0.000000     0.0  0.00000   \n",
       "\n",
       "          worse     would  year     years       you  your  \n",
       "0      0.000000  0.000000   0.0  0.000000  0.000000   0.0  \n",
       "1      0.000000  0.000000   0.0  0.000000  0.000000   0.0  \n",
       "2      0.116683  0.000000   0.0  0.000000  0.000000   0.0  \n",
       "3      0.000000  0.000000   0.0  0.000000  0.000000   0.0  \n",
       "4      0.000000  0.000000   0.0  0.097882  0.224594   0.0  \n",
       "...         ...       ...   ...       ...       ...   ...  \n",
       "15995  0.000000  0.000000   0.0  0.000000  0.000000   0.0  \n",
       "15996  0.000000  0.109075   0.0  0.000000  0.000000   0.0  \n",
       "15997  0.000000  0.000000   0.0  0.000000  0.000000   0.0  \n",
       "15998  0.000000  0.000000   0.0  0.107729  0.000000   0.0  \n",
       "15999  0.137720  0.000000   0.0  0.000000  0.000000   0.0  \n",
       "\n",
       "[16000 rows x 200 columns]"
      ]
     },
     "execution_count": 158,
     "metadata": {},
     "output_type": "execute_result"
    }
   ],
   "source": [
    "\n",
    "# Import the relevant vectorizer class\n",
    "from sklearn.feature_extraction.text import TfidfVectorizer\n",
    "\n",
    "# Instantiate a vectorizer with max_features=10\n",
    "# (we are using the default token pattern)\n",
    "tfidf = TfidfVectorizer(max_features=200)\n",
    "\n",
    "# Fit the vectorizer on X_train[\"text\"] and transform it\n",
    "X_train_vectorized = tfidf.fit_transform(com[\"review\"])\n",
    "\n",
    "# Visually inspect the vectorized data\n",
    "pd.DataFrame.sparse.from_spmatrix(X_train_vectorized, columns=tfidf.get_feature_names_out())"
   ]
  },
  {
   "cell_type": "code",
   "execution_count": null,
   "id": "617f827c",
   "metadata": {},
   "outputs": [],
   "source": []
  },
  {
   "cell_type": "code",
   "execution_count": null,
   "id": "a7a3633e",
   "metadata": {},
   "outputs": [],
   "source": []
  },
  {
   "cell_type": "code",
   "execution_count": null,
   "id": "24efd47b",
   "metadata": {},
   "outputs": [],
   "source": []
  },
  {
   "cell_type": "markdown",
   "id": "26e5993e",
   "metadata": {},
   "source": [
    "### Use GSCV to find better models (addendum)"
   ]
  },
  {
   "cell_type": "code",
   "execution_count": 113,
   "id": "3ceeddeb",
   "metadata": {},
   "outputs": [],
   "source": [
    "from sklearn.model_selection import GridSearchCV"
   ]
  },
  {
   "cell_type": "code",
   "execution_count": 114,
   "id": "523b0e5e",
   "metadata": {},
   "outputs": [],
   "source": [
    "clf = DecisionTreeRegressor()\n",
    "\n",
    "param_grid = {\n",
    "    'max_depth': [1, 2, 5, 10],\n",
    "    'min_samples_split': [1, 5, 10, 20]\n",
    "}\n",
    "\n",
    "gs_tree = GridSearchCV(clf, param_grid, cv=3)\n",
    "\n"
   ]
  },
  {
   "cell_type": "code",
   "execution_count": 115,
   "id": "4348c7b6",
   "metadata": {},
   "outputs": [
    {
     "name": "stderr",
     "output_type": "stream",
     "text": [
      "C:\\Users\\jmark\\anaconda3\\envs\\dash-env\\lib\\site-packages\\sklearn\\model_selection\\_validation.py:425: FitFailedWarning: \n",
      "12 fits failed out of a total of 48.\n",
      "The score on these train-test partitions for these parameters will be set to nan.\n",
      "If these failures are not expected, you can try to debug them by setting error_score='raise'.\n",
      "\n",
      "Below are more details about the failures:\n",
      "--------------------------------------------------------------------------------\n",
      "12 fits failed with the following error:\n",
      "Traceback (most recent call last):\n",
      "  File \"C:\\Users\\jmark\\anaconda3\\envs\\dash-env\\lib\\site-packages\\sklearn\\model_selection\\_validation.py\", line 732, in _fit_and_score\n",
      "    estimator.fit(X_train, y_train, **fit_params)\n",
      "  File \"C:\\Users\\jmark\\anaconda3\\envs\\dash-env\\lib\\site-packages\\sklearn\\base.py\", line 1144, in wrapper\n",
      "    estimator._validate_params()\n",
      "  File \"C:\\Users\\jmark\\anaconda3\\envs\\dash-env\\lib\\site-packages\\sklearn\\base.py\", line 637, in _validate_params\n",
      "    validate_parameter_constraints(\n",
      "  File \"C:\\Users\\jmark\\anaconda3\\envs\\dash-env\\lib\\site-packages\\sklearn\\utils\\_param_validation.py\", line 95, in validate_parameter_constraints\n",
      "    raise InvalidParameterError(\n",
      "sklearn.utils._param_validation.InvalidParameterError: The 'min_samples_split' parameter of DecisionTreeRegressor must be an int in the range [2, inf) or a float in the range (0.0, 1.0]. Got 1 instead.\n",
      "\n",
      "  warnings.warn(some_fits_failed_message, FitFailedWarning)\n",
      "C:\\Users\\jmark\\anaconda3\\envs\\dash-env\\lib\\site-packages\\sklearn\\model_selection\\_search.py:976: UserWarning: One or more of the test scores are non-finite: [       nan 0.01547882 0.01547882 0.01547882        nan 0.03137788\n",
      " 0.03137788 0.03137788        nan 0.07342944 0.07307297 0.07399369\n",
      "        nan 0.06699862 0.07002592 0.07924183]\n",
      "  warnings.warn(\n"
     ]
    },
    {
     "data": {
      "text/html": [
       "<style>#sk-container-id-4 {color: black;}#sk-container-id-4 pre{padding: 0;}#sk-container-id-4 div.sk-toggleable {background-color: white;}#sk-container-id-4 label.sk-toggleable__label {cursor: pointer;display: block;width: 100%;margin-bottom: 0;padding: 0.3em;box-sizing: border-box;text-align: center;}#sk-container-id-4 label.sk-toggleable__label-arrow:before {content: \"▸\";float: left;margin-right: 0.25em;color: #696969;}#sk-container-id-4 label.sk-toggleable__label-arrow:hover:before {color: black;}#sk-container-id-4 div.sk-estimator:hover label.sk-toggleable__label-arrow:before {color: black;}#sk-container-id-4 div.sk-toggleable__content {max-height: 0;max-width: 0;overflow: hidden;text-align: left;background-color: #f0f8ff;}#sk-container-id-4 div.sk-toggleable__content pre {margin: 0.2em;color: black;border-radius: 0.25em;background-color: #f0f8ff;}#sk-container-id-4 input.sk-toggleable__control:checked~div.sk-toggleable__content {max-height: 200px;max-width: 100%;overflow: auto;}#sk-container-id-4 input.sk-toggleable__control:checked~label.sk-toggleable__label-arrow:before {content: \"▾\";}#sk-container-id-4 div.sk-estimator input.sk-toggleable__control:checked~label.sk-toggleable__label {background-color: #d4ebff;}#sk-container-id-4 div.sk-label input.sk-toggleable__control:checked~label.sk-toggleable__label {background-color: #d4ebff;}#sk-container-id-4 input.sk-hidden--visually {border: 0;clip: rect(1px 1px 1px 1px);clip: rect(1px, 1px, 1px, 1px);height: 1px;margin: -1px;overflow: hidden;padding: 0;position: absolute;width: 1px;}#sk-container-id-4 div.sk-estimator {font-family: monospace;background-color: #f0f8ff;border: 1px dotted black;border-radius: 0.25em;box-sizing: border-box;margin-bottom: 0.5em;}#sk-container-id-4 div.sk-estimator:hover {background-color: #d4ebff;}#sk-container-id-4 div.sk-parallel-item::after {content: \"\";width: 100%;border-bottom: 1px solid gray;flex-grow: 1;}#sk-container-id-4 div.sk-label:hover label.sk-toggleable__label {background-color: #d4ebff;}#sk-container-id-4 div.sk-serial::before {content: \"\";position: absolute;border-left: 1px solid gray;box-sizing: border-box;top: 0;bottom: 0;left: 50%;z-index: 0;}#sk-container-id-4 div.sk-serial {display: flex;flex-direction: column;align-items: center;background-color: white;padding-right: 0.2em;padding-left: 0.2em;position: relative;}#sk-container-id-4 div.sk-item {position: relative;z-index: 1;}#sk-container-id-4 div.sk-parallel {display: flex;align-items: stretch;justify-content: center;background-color: white;position: relative;}#sk-container-id-4 div.sk-item::before, #sk-container-id-4 div.sk-parallel-item::before {content: \"\";position: absolute;border-left: 1px solid gray;box-sizing: border-box;top: 0;bottom: 0;left: 50%;z-index: -1;}#sk-container-id-4 div.sk-parallel-item {display: flex;flex-direction: column;z-index: 1;position: relative;background-color: white;}#sk-container-id-4 div.sk-parallel-item:first-child::after {align-self: flex-end;width: 50%;}#sk-container-id-4 div.sk-parallel-item:last-child::after {align-self: flex-start;width: 50%;}#sk-container-id-4 div.sk-parallel-item:only-child::after {width: 0;}#sk-container-id-4 div.sk-dashed-wrapped {border: 1px dashed gray;margin: 0 0.4em 0.5em 0.4em;box-sizing: border-box;padding-bottom: 0.4em;background-color: white;}#sk-container-id-4 div.sk-label label {font-family: monospace;font-weight: bold;display: inline-block;line-height: 1.2em;}#sk-container-id-4 div.sk-label-container {text-align: center;}#sk-container-id-4 div.sk-container {/* jupyter's `normalize.less` sets `[hidden] { display: none; }` but bootstrap.min.css set `[hidden] { display: none !important; }` so we also need the `!important` here to be able to override the default hidden behavior on the sphinx rendered scikit-learn.org. See: https://github.com/scikit-learn/scikit-learn/issues/21755 */display: inline-block !important;position: relative;}#sk-container-id-4 div.sk-text-repr-fallback {display: none;}</style><div id=\"sk-container-id-4\" class=\"sk-top-container\"><div class=\"sk-text-repr-fallback\"><pre>GridSearchCV(cv=3, estimator=DecisionTreeRegressor(),\n",
       "             param_grid={&#x27;max_depth&#x27;: [1, 2, 5, 10],\n",
       "                         &#x27;min_samples_split&#x27;: [1, 5, 10, 20]})</pre><b>In a Jupyter environment, please rerun this cell to show the HTML representation or trust the notebook. <br />On GitHub, the HTML representation is unable to render, please try loading this page with nbviewer.org.</b></div><div class=\"sk-container\" hidden><div class=\"sk-item sk-dashed-wrapped\"><div class=\"sk-label-container\"><div class=\"sk-label sk-toggleable\"><input class=\"sk-toggleable__control sk-hidden--visually\" id=\"sk-estimator-id-4\" type=\"checkbox\" ><label for=\"sk-estimator-id-4\" class=\"sk-toggleable__label sk-toggleable__label-arrow\">GridSearchCV</label><div class=\"sk-toggleable__content\"><pre>GridSearchCV(cv=3, estimator=DecisionTreeRegressor(),\n",
       "             param_grid={&#x27;max_depth&#x27;: [1, 2, 5, 10],\n",
       "                         &#x27;min_samples_split&#x27;: [1, 5, 10, 20]})</pre></div></div></div><div class=\"sk-parallel\"><div class=\"sk-parallel-item\"><div class=\"sk-item\"><div class=\"sk-label-container\"><div class=\"sk-label sk-toggleable\"><input class=\"sk-toggleable__control sk-hidden--visually\" id=\"sk-estimator-id-5\" type=\"checkbox\" ><label for=\"sk-estimator-id-5\" class=\"sk-toggleable__label sk-toggleable__label-arrow\">estimator: DecisionTreeRegressor</label><div class=\"sk-toggleable__content\"><pre>DecisionTreeRegressor()</pre></div></div></div><div class=\"sk-serial\"><div class=\"sk-item\"><div class=\"sk-estimator sk-toggleable\"><input class=\"sk-toggleable__control sk-hidden--visually\" id=\"sk-estimator-id-6\" type=\"checkbox\" ><label for=\"sk-estimator-id-6\" class=\"sk-toggleable__label sk-toggleable__label-arrow\">DecisionTreeRegressor</label><div class=\"sk-toggleable__content\"><pre>DecisionTreeRegressor()</pre></div></div></div></div></div></div></div></div></div></div>"
      ],
      "text/plain": [
       "GridSearchCV(cv=3, estimator=DecisionTreeRegressor(),\n",
       "             param_grid={'max_depth': [1, 2, 5, 10],\n",
       "                         'min_samples_split': [1, 5, 10, 20]})"
      ]
     },
     "execution_count": 115,
     "metadata": {},
     "output_type": "execute_result"
    }
   ],
   "source": [
    "gs_tree.fit(x_train, y_train)\n"
   ]
  },
  {
   "cell_type": "code",
   "execution_count": 116,
   "id": "bd2b1653",
   "metadata": {},
   "outputs": [],
   "source": [
    "gspr = gs_tree.predict(x_train)"
   ]
  },
  {
   "cell_type": "code",
   "execution_count": 117,
   "id": "d0328eec",
   "metadata": {},
   "outputs": [
    {
     "data": {
      "text/plain": [
       "8.33946596992895"
      ]
     },
     "execution_count": 117,
     "metadata": {},
     "output_type": "execute_result"
    }
   ],
   "source": [
    "mean_squared_error(y_train, gspr)"
   ]
  },
  {
   "cell_type": "code",
   "execution_count": 120,
   "id": "fb23dce0",
   "metadata": {},
   "outputs": [
    {
     "data": {
      "text/plain": [
       "2.8878133544135"
      ]
     },
     "execution_count": 120,
     "metadata": {},
     "output_type": "execute_result"
    }
   ],
   "source": [
    "rmse = mean_squared_error(y_train,  gspr)**.5\n",
    "rmse"
   ]
  },
  {
   "cell_type": "code",
   "execution_count": 121,
   "id": "a3679167",
   "metadata": {},
   "outputs": [],
   "source": [
    "prdsgsval = gs_tree.predict(x_val)"
   ]
  },
  {
   "cell_type": "code",
   "execution_count": 122,
   "id": "5ca124b6",
   "metadata": {},
   "outputs": [
    {
     "data": {
      "text/plain": [
       "10.083627433946411"
      ]
     },
     "execution_count": 122,
     "metadata": {},
     "output_type": "execute_result"
    }
   ],
   "source": [
    "mean_squared_error(y_val, prdsgsval)"
   ]
  },
  {
   "cell_type": "code",
   "execution_count": 123,
   "id": "fc74d571",
   "metadata": {},
   "outputs": [
    {
     "data": {
      "text/plain": [
       "3.1754727890420367"
      ]
     },
     "execution_count": 123,
     "metadata": {},
     "output_type": "execute_result"
    }
   ],
   "source": [
    "rmse = mean_squared_error(y_val, prdsgsval)**.5\n",
    "rmse"
   ]
  },
  {
   "cell_type": "code",
   "execution_count": 118,
   "id": "4328be6f",
   "metadata": {},
   "outputs": [
    {
     "data": {
      "text/plain": [
       "{'max_depth': 10, 'min_samples_split': 20}"
      ]
     },
     "execution_count": 118,
     "metadata": {},
     "output_type": "execute_result"
    }
   ],
   "source": [
    "\n",
    "gs_tree.best_params_"
   ]
  },
  {
   "cell_type": "markdown",
   "id": "f5be2569",
   "metadata": {},
   "source": [
    "Using grid-search CV, we get only slight improvement from base tree model(3.17 v 3.21)."
   ]
  },
  {
   "cell_type": "markdown",
   "id": "abfb408d",
   "metadata": {},
   "source": [
    "Running a linear regression model to try another conventional approach:"
   ]
  },
  {
   "cell_type": "code",
   "execution_count": 105,
   "id": "2396ed90",
   "metadata": {},
   "outputs": [],
   "source": [
    "from sklearn import linear_model\n",
    "lreg = linear_model.LinearRegression()\n",
    "\n",
    "\n",
    "\n"
   ]
  },
  {
   "cell_type": "code",
   "execution_count": 106,
   "id": "da6644c7",
   "metadata": {},
   "outputs": [
    {
     "data": {
      "text/html": [
       "<style>#sk-container-id-3 {color: black;}#sk-container-id-3 pre{padding: 0;}#sk-container-id-3 div.sk-toggleable {background-color: white;}#sk-container-id-3 label.sk-toggleable__label {cursor: pointer;display: block;width: 100%;margin-bottom: 0;padding: 0.3em;box-sizing: border-box;text-align: center;}#sk-container-id-3 label.sk-toggleable__label-arrow:before {content: \"▸\";float: left;margin-right: 0.25em;color: #696969;}#sk-container-id-3 label.sk-toggleable__label-arrow:hover:before {color: black;}#sk-container-id-3 div.sk-estimator:hover label.sk-toggleable__label-arrow:before {color: black;}#sk-container-id-3 div.sk-toggleable__content {max-height: 0;max-width: 0;overflow: hidden;text-align: left;background-color: #f0f8ff;}#sk-container-id-3 div.sk-toggleable__content pre {margin: 0.2em;color: black;border-radius: 0.25em;background-color: #f0f8ff;}#sk-container-id-3 input.sk-toggleable__control:checked~div.sk-toggleable__content {max-height: 200px;max-width: 100%;overflow: auto;}#sk-container-id-3 input.sk-toggleable__control:checked~label.sk-toggleable__label-arrow:before {content: \"▾\";}#sk-container-id-3 div.sk-estimator input.sk-toggleable__control:checked~label.sk-toggleable__label {background-color: #d4ebff;}#sk-container-id-3 div.sk-label input.sk-toggleable__control:checked~label.sk-toggleable__label {background-color: #d4ebff;}#sk-container-id-3 input.sk-hidden--visually {border: 0;clip: rect(1px 1px 1px 1px);clip: rect(1px, 1px, 1px, 1px);height: 1px;margin: -1px;overflow: hidden;padding: 0;position: absolute;width: 1px;}#sk-container-id-3 div.sk-estimator {font-family: monospace;background-color: #f0f8ff;border: 1px dotted black;border-radius: 0.25em;box-sizing: border-box;margin-bottom: 0.5em;}#sk-container-id-3 div.sk-estimator:hover {background-color: #d4ebff;}#sk-container-id-3 div.sk-parallel-item::after {content: \"\";width: 100%;border-bottom: 1px solid gray;flex-grow: 1;}#sk-container-id-3 div.sk-label:hover label.sk-toggleable__label {background-color: #d4ebff;}#sk-container-id-3 div.sk-serial::before {content: \"\";position: absolute;border-left: 1px solid gray;box-sizing: border-box;top: 0;bottom: 0;left: 50%;z-index: 0;}#sk-container-id-3 div.sk-serial {display: flex;flex-direction: column;align-items: center;background-color: white;padding-right: 0.2em;padding-left: 0.2em;position: relative;}#sk-container-id-3 div.sk-item {position: relative;z-index: 1;}#sk-container-id-3 div.sk-parallel {display: flex;align-items: stretch;justify-content: center;background-color: white;position: relative;}#sk-container-id-3 div.sk-item::before, #sk-container-id-3 div.sk-parallel-item::before {content: \"\";position: absolute;border-left: 1px solid gray;box-sizing: border-box;top: 0;bottom: 0;left: 50%;z-index: -1;}#sk-container-id-3 div.sk-parallel-item {display: flex;flex-direction: column;z-index: 1;position: relative;background-color: white;}#sk-container-id-3 div.sk-parallel-item:first-child::after {align-self: flex-end;width: 50%;}#sk-container-id-3 div.sk-parallel-item:last-child::after {align-self: flex-start;width: 50%;}#sk-container-id-3 div.sk-parallel-item:only-child::after {width: 0;}#sk-container-id-3 div.sk-dashed-wrapped {border: 1px dashed gray;margin: 0 0.4em 0.5em 0.4em;box-sizing: border-box;padding-bottom: 0.4em;background-color: white;}#sk-container-id-3 div.sk-label label {font-family: monospace;font-weight: bold;display: inline-block;line-height: 1.2em;}#sk-container-id-3 div.sk-label-container {text-align: center;}#sk-container-id-3 div.sk-container {/* jupyter's `normalize.less` sets `[hidden] { display: none; }` but bootstrap.min.css set `[hidden] { display: none !important; }` so we also need the `!important` here to be able to override the default hidden behavior on the sphinx rendered scikit-learn.org. See: https://github.com/scikit-learn/scikit-learn/issues/21755 */display: inline-block !important;position: relative;}#sk-container-id-3 div.sk-text-repr-fallback {display: none;}</style><div id=\"sk-container-id-3\" class=\"sk-top-container\"><div class=\"sk-text-repr-fallback\"><pre>LinearRegression()</pre><b>In a Jupyter environment, please rerun this cell to show the HTML representation or trust the notebook. <br />On GitHub, the HTML representation is unable to render, please try loading this page with nbviewer.org.</b></div><div class=\"sk-container\" hidden><div class=\"sk-item\"><div class=\"sk-estimator sk-toggleable\"><input class=\"sk-toggleable__control sk-hidden--visually\" id=\"sk-estimator-id-3\" type=\"checkbox\" checked><label for=\"sk-estimator-id-3\" class=\"sk-toggleable__label sk-toggleable__label-arrow\">LinearRegression</label><div class=\"sk-toggleable__content\"><pre>LinearRegression()</pre></div></div></div></div></div>"
      ],
      "text/plain": [
       "LinearRegression()"
      ]
     },
     "execution_count": 106,
     "metadata": {},
     "output_type": "execute_result"
    }
   ],
   "source": [
    "lreg.fit(x_train, y_train)"
   ]
  },
  {
   "cell_type": "code",
   "execution_count": 107,
   "id": "0a9f6ddc",
   "metadata": {},
   "outputs": [],
   "source": [
    "predsL = lreg.predict(x_train)"
   ]
  },
  {
   "cell_type": "code",
   "execution_count": 108,
   "id": "41e2e2ee",
   "metadata": {},
   "outputs": [
    {
     "data": {
      "text/plain": [
       "8.026101620957657"
      ]
     },
     "execution_count": 108,
     "metadata": {},
     "output_type": "execute_result"
    }
   ],
   "source": [
    "mean_squared_error(y_train, predsL)"
   ]
  },
  {
   "cell_type": "code",
   "execution_count": 109,
   "id": "8517189e",
   "metadata": {},
   "outputs": [
    {
     "data": {
      "text/plain": [
       "2.8330375255117355"
      ]
     },
     "execution_count": 109,
     "metadata": {},
     "output_type": "execute_result"
    }
   ],
   "source": [
    "rmse = mean_squared_error(y_train, predsL)**.5\n",
    "rmse"
   ]
  },
  {
   "cell_type": "code",
   "execution_count": 110,
   "id": "773170a1",
   "metadata": {},
   "outputs": [],
   "source": [
    "valpredsL = lreg.predict(x_val)"
   ]
  },
  {
   "cell_type": "code",
   "execution_count": 111,
   "id": "d0ff5fd0",
   "metadata": {},
   "outputs": [
    {
     "data": {
      "text/plain": [
       "8.447988838136446"
      ]
     },
     "execution_count": 111,
     "metadata": {},
     "output_type": "execute_result"
    }
   ],
   "source": [
    "mean_squared_error(y_val, valpredsL)"
   ]
  },
  {
   "cell_type": "code",
   "execution_count": 112,
   "id": "1e0710dd",
   "metadata": {},
   "outputs": [
    {
     "data": {
      "text/plain": [
       "2.9065424198068133"
      ]
     },
     "execution_count": 112,
     "metadata": {},
     "output_type": "execute_result"
    }
   ],
   "source": [
    "rmse = mean_squared_error(y_val, valpredsL)**.5\n",
    "rmse"
   ]
  },
  {
   "cell_type": "markdown",
   "id": "c47f9bd8",
   "metadata": {},
   "source": [
    "Linear regression is more accurate than the baseline tree regressions (2.9 vs 3.27). Not a lot, if any, overfitting, likely  (2.83 rmse training and validation 2.90)"
   ]
  },
  {
   "cell_type": "markdown",
   "id": "5fcf9ab7",
   "metadata": {},
   "source": [
    "Try random forest regressor that may be able to boost accuracy further (lower rsme) due to its more complex nature than the regular tree regression."
   ]
  },
  {
   "cell_type": "code",
   "execution_count": 124,
   "id": "91ec8188",
   "metadata": {},
   "outputs": [],
   "source": [
    "rfr = RandomForestRegressor(max_samples = 100)\n"
   ]
  },
  {
   "cell_type": "code",
   "execution_count": 125,
   "id": "b83c1ad3",
   "metadata": {},
   "outputs": [
    {
     "data": {
      "text/html": [
       "<style>#sk-container-id-5 {color: black;}#sk-container-id-5 pre{padding: 0;}#sk-container-id-5 div.sk-toggleable {background-color: white;}#sk-container-id-5 label.sk-toggleable__label {cursor: pointer;display: block;width: 100%;margin-bottom: 0;padding: 0.3em;box-sizing: border-box;text-align: center;}#sk-container-id-5 label.sk-toggleable__label-arrow:before {content: \"▸\";float: left;margin-right: 0.25em;color: #696969;}#sk-container-id-5 label.sk-toggleable__label-arrow:hover:before {color: black;}#sk-container-id-5 div.sk-estimator:hover label.sk-toggleable__label-arrow:before {color: black;}#sk-container-id-5 div.sk-toggleable__content {max-height: 0;max-width: 0;overflow: hidden;text-align: left;background-color: #f0f8ff;}#sk-container-id-5 div.sk-toggleable__content pre {margin: 0.2em;color: black;border-radius: 0.25em;background-color: #f0f8ff;}#sk-container-id-5 input.sk-toggleable__control:checked~div.sk-toggleable__content {max-height: 200px;max-width: 100%;overflow: auto;}#sk-container-id-5 input.sk-toggleable__control:checked~label.sk-toggleable__label-arrow:before {content: \"▾\";}#sk-container-id-5 div.sk-estimator input.sk-toggleable__control:checked~label.sk-toggleable__label {background-color: #d4ebff;}#sk-container-id-5 div.sk-label input.sk-toggleable__control:checked~label.sk-toggleable__label {background-color: #d4ebff;}#sk-container-id-5 input.sk-hidden--visually {border: 0;clip: rect(1px 1px 1px 1px);clip: rect(1px, 1px, 1px, 1px);height: 1px;margin: -1px;overflow: hidden;padding: 0;position: absolute;width: 1px;}#sk-container-id-5 div.sk-estimator {font-family: monospace;background-color: #f0f8ff;border: 1px dotted black;border-radius: 0.25em;box-sizing: border-box;margin-bottom: 0.5em;}#sk-container-id-5 div.sk-estimator:hover {background-color: #d4ebff;}#sk-container-id-5 div.sk-parallel-item::after {content: \"\";width: 100%;border-bottom: 1px solid gray;flex-grow: 1;}#sk-container-id-5 div.sk-label:hover label.sk-toggleable__label {background-color: #d4ebff;}#sk-container-id-5 div.sk-serial::before {content: \"\";position: absolute;border-left: 1px solid gray;box-sizing: border-box;top: 0;bottom: 0;left: 50%;z-index: 0;}#sk-container-id-5 div.sk-serial {display: flex;flex-direction: column;align-items: center;background-color: white;padding-right: 0.2em;padding-left: 0.2em;position: relative;}#sk-container-id-5 div.sk-item {position: relative;z-index: 1;}#sk-container-id-5 div.sk-parallel {display: flex;align-items: stretch;justify-content: center;background-color: white;position: relative;}#sk-container-id-5 div.sk-item::before, #sk-container-id-5 div.sk-parallel-item::before {content: \"\";position: absolute;border-left: 1px solid gray;box-sizing: border-box;top: 0;bottom: 0;left: 50%;z-index: -1;}#sk-container-id-5 div.sk-parallel-item {display: flex;flex-direction: column;z-index: 1;position: relative;background-color: white;}#sk-container-id-5 div.sk-parallel-item:first-child::after {align-self: flex-end;width: 50%;}#sk-container-id-5 div.sk-parallel-item:last-child::after {align-self: flex-start;width: 50%;}#sk-container-id-5 div.sk-parallel-item:only-child::after {width: 0;}#sk-container-id-5 div.sk-dashed-wrapped {border: 1px dashed gray;margin: 0 0.4em 0.5em 0.4em;box-sizing: border-box;padding-bottom: 0.4em;background-color: white;}#sk-container-id-5 div.sk-label label {font-family: monospace;font-weight: bold;display: inline-block;line-height: 1.2em;}#sk-container-id-5 div.sk-label-container {text-align: center;}#sk-container-id-5 div.sk-container {/* jupyter's `normalize.less` sets `[hidden] { display: none; }` but bootstrap.min.css set `[hidden] { display: none !important; }` so we also need the `!important` here to be able to override the default hidden behavior on the sphinx rendered scikit-learn.org. See: https://github.com/scikit-learn/scikit-learn/issues/21755 */display: inline-block !important;position: relative;}#sk-container-id-5 div.sk-text-repr-fallback {display: none;}</style><div id=\"sk-container-id-5\" class=\"sk-top-container\"><div class=\"sk-text-repr-fallback\"><pre>RandomForestRegressor(max_samples=100)</pre><b>In a Jupyter environment, please rerun this cell to show the HTML representation or trust the notebook. <br />On GitHub, the HTML representation is unable to render, please try loading this page with nbviewer.org.</b></div><div class=\"sk-container\" hidden><div class=\"sk-item\"><div class=\"sk-estimator sk-toggleable\"><input class=\"sk-toggleable__control sk-hidden--visually\" id=\"sk-estimator-id-7\" type=\"checkbox\" checked><label for=\"sk-estimator-id-7\" class=\"sk-toggleable__label sk-toggleable__label-arrow\">RandomForestRegressor</label><div class=\"sk-toggleable__content\"><pre>RandomForestRegressor(max_samples=100)</pre></div></div></div></div></div>"
      ],
      "text/plain": [
       "RandomForestRegressor(max_samples=100)"
      ]
     },
     "execution_count": 125,
     "metadata": {},
     "output_type": "execute_result"
    }
   ],
   "source": [
    "rfr.fit(x_train, y_train)"
   ]
  },
  {
   "cell_type": "code",
   "execution_count": 126,
   "id": "dd985d8d",
   "metadata": {},
   "outputs": [],
   "source": [
    "prds5 = rfr.predict(x_train)"
   ]
  },
  {
   "cell_type": "code",
   "execution_count": 127,
   "id": "0d9224ba",
   "metadata": {},
   "outputs": [
    {
     "data": {
      "text/plain": [
       "10.121437440277777"
      ]
     },
     "execution_count": 127,
     "metadata": {},
     "output_type": "execute_result"
    }
   ],
   "source": [
    "mean_squared_error(y_train, prds5)\n",
    "                   "
   ]
  },
  {
   "cell_type": "code",
   "execution_count": 128,
   "id": "a2597610",
   "metadata": {},
   "outputs": [
    {
     "data": {
      "text/plain": [
       "3.181420663835227"
      ]
     },
     "execution_count": 128,
     "metadata": {},
     "output_type": "execute_result"
    }
   ],
   "source": [
    "rmse = mean_squared_error(y_train, prds5)**.5\n",
    "rmse"
   ]
  },
  {
   "cell_type": "code",
   "execution_count": 129,
   "id": "90915ba3",
   "metadata": {},
   "outputs": [
    {
     "data": {
      "text/plain": [
       "array([0.00187256, 0.00525136, 0.00228517, 0.00064636, 0.0021383 ,\n",
       "       0.00111085, 0.00346711, 0.00090946, 0.00221507, 0.00364979,\n",
       "       0.00402645, 0.00266148, 0.00075471, 0.00392815, 0.00404361,\n",
       "       0.00091104, 0.00696159, 0.00274226, 0.00061242, 0.00337324,\n",
       "       0.003509  , 0.00116131, 0.01581413, 0.00305583, 0.00179013,\n",
       "       0.00146541, 0.00199304, 0.00305969, 0.00368611, 0.00678833,\n",
       "       0.00258661, 0.00152034, 0.0062507 , 0.00128832, 0.0020005 ,\n",
       "       0.00196653, 0.00451131, 0.00375656, 0.00331349, 0.00064319,\n",
       "       0.0062162 , 0.00261058, 0.00271358, 0.00753627, 0.00250564,\n",
       "       0.00245953, 0.00148261, 0.00535112, 0.00354508, 0.00389515,\n",
       "       0.00173161, 0.00155288, 0.00056037, 0.00457545, 0.00429301,\n",
       "       0.00096645, 0.00200761, 0.00297476, 0.00212835, 0.00142925,\n",
       "       0.00185348, 0.00294311, 0.00339088, 0.00433131, 0.00142504,\n",
       "       0.00233313, 0.0069514 , 0.00303829, 0.00107459, 0.01041236,\n",
       "       0.00176022, 0.00435843, 0.00317117, 0.00382061, 0.00267902,\n",
       "       0.00710808, 0.00300048, 0.00256175, 0.00228632, 0.00630358,\n",
       "       0.0047683 , 0.00265563, 0.00798377, 0.00601652, 0.00168651,\n",
       "       0.00286635, 0.00191677, 0.00130316, 0.00223208, 0.00348497,\n",
       "       0.00274914, 0.00426663, 0.01634817, 0.00265568, 0.00294514,\n",
       "       0.00342779, 0.0019606 , 0.0038881 , 0.00485551, 0.00256364,\n",
       "       0.00276941, 0.01659799, 0.00355218, 0.00268417, 0.00306906,\n",
       "       0.00343714, 0.00301693, 0.00365286, 0.01412669, 0.00255368,\n",
       "       0.00739775, 0.00545102, 0.00396357, 0.00630928, 0.00438799,\n",
       "       0.00462196, 0.00481174, 0.00201555, 0.01031777, 0.00278033,\n",
       "       0.0053758 , 0.0038154 , 0.00449893, 0.00802222, 0.00523873,\n",
       "       0.00364395, 0.00240211, 0.01052801, 0.00331096, 0.00609877,\n",
       "       0.00524582, 0.00579922, 0.00367599, 0.00475401, 0.00325551,\n",
       "       0.0043523 , 0.0080525 , 0.00336182, 0.00683291, 0.00165526,\n",
       "       0.00420009, 0.01494812, 0.00736933, 0.00354023, 0.00467716,\n",
       "       0.00359208, 0.00447228, 0.00462565, 0.01365471, 0.00635975,\n",
       "       0.00557767, 0.00564124, 0.00284995, 0.00388806, 0.00332507,\n",
       "       0.00252072, 0.00882183, 0.00415293, 0.00591797, 0.00496307,\n",
       "       0.00653664, 0.00403928, 0.004592  , 0.01031285, 0.00374659,\n",
       "       0.00563274, 0.00607567, 0.00673255, 0.00711795, 0.00539368,\n",
       "       0.00811986, 0.00820317, 0.00758866, 0.00596553, 0.00782815,\n",
       "       0.0091345 , 0.00614182, 0.01205283, 0.00606621, 0.0055228 ,\n",
       "       0.00531084, 0.00619861, 0.00889132, 0.01082078, 0.00560718,\n",
       "       0.00839134, 0.00950603, 0.00998731, 0.00759998, 0.00924853,\n",
       "       0.01087358, 0.01250608, 0.01308911, 0.00893478, 0.0065483 ,\n",
       "       0.01205578, 0.01384518, 0.01603082, 0.0132548 , 0.01232624])"
      ]
     },
     "execution_count": 129,
     "metadata": {},
     "output_type": "execute_result"
    }
   ],
   "source": [
    "rfr.feature_importances_"
   ]
  },
  {
   "cell_type": "code",
   "execution_count": 130,
   "id": "4cad7db7",
   "metadata": {},
   "outputs": [
    {
     "data": {
      "text/plain": [
       "<BarContainer object of 200 artists>"
      ]
     },
     "execution_count": 130,
     "metadata": {},
     "output_type": "execute_result"
    },
    {
     "data": {
      "image/png": "[encoded data removed]",
      "text/plain": [
       "<Figure size 2500x2500 with 1 Axes>"
      ]
     },
     "metadata": {},
     "output_type": "display_data"
    }
   ],
   "source": [
    "plt.figure(figsize=(25,25))\n",
    "plt.barh(list(adic.keys()), rfr.feature_importances_)"
   ]
  },
  {
   "cell_type": "markdown",
   "id": "4667f006",
   "metadata": {},
   "source": [
    "Important features: horrible, worst, doctor"
   ]
  },
  {
   "cell_type": "code",
   "execution_count": 131,
   "id": "f1b2c999",
   "metadata": {},
   "outputs": [],
   "source": [
    "prds5val = rfr.predict(x_val)"
   ]
  },
  {
   "cell_type": "code",
   "execution_count": 132,
   "id": "21ddaf6d",
   "metadata": {},
   "outputs": [
    {
     "data": {
      "text/plain": [
       "10.623339402777777"
      ]
     },
     "execution_count": 132,
     "metadata": {},
     "output_type": "execute_result"
    }
   ],
   "source": [
    "mean_squared_error(y_val, prds5val)\n",
    "                   "
   ]
  },
  {
   "cell_type": "code",
   "execution_count": 133,
   "id": "82cd53e5",
   "metadata": {},
   "outputs": [
    {
     "data": {
      "text/plain": [
       "3.2593464686617435"
      ]
     },
     "execution_count": 133,
     "metadata": {},
     "output_type": "execute_result"
    }
   ],
   "source": [
    "rmse = mean_squared_error(y_val, prds5val)**.5\n",
    "rmse"
   ]
  },
  {
   "cell_type": "markdown",
   "id": "99d6ecc0",
   "metadata": {},
   "source": [
    "Linear regression continues to perform better."
   ]
  },
  {
   "cell_type": "markdown",
   "id": "a97ee09f",
   "metadata": {},
   "source": [
    "## word embeddings, premade"
   ]
  },
  {
   "cell_type": "markdown",
   "id": "c399fd65",
   "metadata": {},
   "source": [
    "Use word-embeddings to process input data so that some word-meaning is caputured. Use Stanford's premade word-embedding, \"Glove\".  The W2vectorizer object has a method, transform, which creates an array that has the glove vector for words in the glove dictionary, and rows of 0's for words not in the glove dictionary."
   ]
  },
  {
   "cell_type": "code",
   "execution_count": 134,
   "id": "8f03efca",
   "metadata": {},
   "outputs": [],
   "source": [
    "total_vocabulary = set(word for word in w_words_stoppedC)"
   ]
  },
  {
   "cell_type": "code",
   "execution_count": 135,
   "id": "d1e3253a",
   "metadata": {},
   "outputs": [
    {
     "data": {
      "text/plain": [
       "20205"
      ]
     },
     "execution_count": 135,
     "metadata": {},
     "output_type": "execute_result"
    }
   ],
   "source": [
    "len(total_vocabulary)"
   ]
  },
  {
   "cell_type": "code",
   "execution_count": 136,
   "id": "1fbc4132",
   "metadata": {},
   "outputs": [],
   "source": [
    "glove = {}\n",
    "with open('glove.6B.50d.txt', 'rb') as f:\n",
    "    for line in f:\n",
    "        parts = line.split()\n",
    "        word = parts[0].decode('utf-8')\n",
    "        if word in total_vocabulary:\n",
    "            vector = np.array(parts[1:], dtype=np.float32)\n",
    "            glove[word] = vector"
   ]
  },
  {
   "cell_type": "code",
   "execution_count": 137,
   "id": "d46009a5",
   "metadata": {},
   "outputs": [],
   "source": [
    "class W2vVectorizer(object):\n",
    "    \n",
    "    def __init__(self, w2v):\n",
    "        # Takes in a dictionary of words and vectors as input\n",
    "        self.w2v = w2v\n",
    "        if len(w2v) == 0:\n",
    "            self.dimensions = 0\n",
    "        else:\n",
    "            self.dimensions = len(w2v[next(iter(glove))])\n",
    "    \n",
    "    def fit(self, X, y):\n",
    "        return self\n",
    "    # Gets the mean vector from all different words in the particular review.        \n",
    "    def transform(self, X):\n",
    "        return np.array([\n",
    "            np.mean([self.w2v[w] for w in words if w in self.w2v]\n",
    "                   or [np.zeros(self.dimensions)], axis=0) for words in X])"
   ]
  },
  {
   "cell_type": "code",
   "execution_count": 138,
   "id": "5dfbbe24",
   "metadata": {},
   "outputs": [],
   "source": [
    "t1 = W2vVectorizer(glove)"
   ]
  },
  {
   "cell_type": "code",
   "execution_count": 139,
   "id": "51217b48",
   "metadata": {},
   "outputs": [
    {
     "data": {
      "text/plain": [
       "50"
      ]
     },
     "execution_count": 139,
     "metadata": {},
     "output_type": "execute_result"
    }
   ],
   "source": [
    "t1.dimensions"
   ]
  },
  {
   "cell_type": "markdown",
   "id": "01e89c7c",
   "metadata": {},
   "source": [
    "Creating word embeddings:"
   ]
  },
  {
   "cell_type": "code",
   "execution_count": 140,
   "id": "5c207927",
   "metadata": {},
   "outputs": [],
   "source": [
    "t2 = t1.transform(Frqs)"
   ]
  },
  {
   "cell_type": "code",
   "execution_count": 141,
   "id": "1b0b3fdf",
   "metadata": {},
   "outputs": [
    {
     "data": {
      "text/plain": [
       "(161297, 50)"
      ]
     },
     "execution_count": 141,
     "metadata": {},
     "output_type": "execute_result"
    }
   ],
   "source": [
    "np.shape(t2)"
   ]
  },
  {
   "cell_type": "code",
   "execution_count": 142,
   "id": "9126ff7e",
   "metadata": {},
   "outputs": [],
   "source": [
    "ys=data.rating[0:16000]\n",
    "t2 =t2[0:16000]"
   ]
  },
  {
   "cell_type": "code",
   "execution_count": 143,
   "id": "9ce438a6",
   "metadata": {},
   "outputs": [],
   "source": [
    "x_trainW, x_valW, y_trainW,  y_valW = train_test_split(t2, ys, random_state = 2)"
   ]
  },
  {
   "cell_type": "code",
   "execution_count": null,
   "id": "2b43f0c2",
   "metadata": {},
   "outputs": [],
   "source": []
  },
  {
   "cell_type": "code",
   "execution_count": 144,
   "id": "88ed2ce2",
   "metadata": {},
   "outputs": [],
   "source": [
    "reglW = linear_model.LinearRegression()\n",
    "\n",
    "\n",
    "\n"
   ]
  },
  {
   "cell_type": "code",
   "execution_count": 145,
   "id": "8ef5f87f",
   "metadata": {},
   "outputs": [
    {
     "data": {
      "text/html": [
       "<style>#sk-container-id-6 {color: black;}#sk-container-id-6 pre{padding: 0;}#sk-container-id-6 div.sk-toggleable {background-color: white;}#sk-container-id-6 label.sk-toggleable__label {cursor: pointer;display: block;width: 100%;margin-bottom: 0;padding: 0.3em;box-sizing: border-box;text-align: center;}#sk-container-id-6 label.sk-toggleable__label-arrow:before {content: \"▸\";float: left;margin-right: 0.25em;color: #696969;}#sk-container-id-6 label.sk-toggleable__label-arrow:hover:before {color: black;}#sk-container-id-6 div.sk-estimator:hover label.sk-toggleable__label-arrow:before {color: black;}#sk-container-id-6 div.sk-toggleable__content {max-height: 0;max-width: 0;overflow: hidden;text-align: left;background-color: #f0f8ff;}#sk-container-id-6 div.sk-toggleable__content pre {margin: 0.2em;color: black;border-radius: 0.25em;background-color: #f0f8ff;}#sk-container-id-6 input.sk-toggleable__control:checked~div.sk-toggleable__content {max-height: 200px;max-width: 100%;overflow: auto;}#sk-container-id-6 input.sk-toggleable__control:checked~label.sk-toggleable__label-arrow:before {content: \"▾\";}#sk-container-id-6 div.sk-estimator input.sk-toggleable__control:checked~label.sk-toggleable__label {background-color: #d4ebff;}#sk-container-id-6 div.sk-label input.sk-toggleable__control:checked~label.sk-toggleable__label {background-color: #d4ebff;}#sk-container-id-6 input.sk-hidden--visually {border: 0;clip: rect(1px 1px 1px 1px);clip: rect(1px, 1px, 1px, 1px);height: 1px;margin: -1px;overflow: hidden;padding: 0;position: absolute;width: 1px;}#sk-container-id-6 div.sk-estimator {font-family: monospace;background-color: #f0f8ff;border: 1px dotted black;border-radius: 0.25em;box-sizing: border-box;margin-bottom: 0.5em;}#sk-container-id-6 div.sk-estimator:hover {background-color: #d4ebff;}#sk-container-id-6 div.sk-parallel-item::after {content: \"\";width: 100%;border-bottom: 1px solid gray;flex-grow: 1;}#sk-container-id-6 div.sk-label:hover label.sk-toggleable__label {background-color: #d4ebff;}#sk-container-id-6 div.sk-serial::before {content: \"\";position: absolute;border-left: 1px solid gray;box-sizing: border-box;top: 0;bottom: 0;left: 50%;z-index: 0;}#sk-container-id-6 div.sk-serial {display: flex;flex-direction: column;align-items: center;background-color: white;padding-right: 0.2em;padding-left: 0.2em;position: relative;}#sk-container-id-6 div.sk-item {position: relative;z-index: 1;}#sk-container-id-6 div.sk-parallel {display: flex;align-items: stretch;justify-content: center;background-color: white;position: relative;}#sk-container-id-6 div.sk-item::before, #sk-container-id-6 div.sk-parallel-item::before {content: \"\";position: absolute;border-left: 1px solid gray;box-sizing: border-box;top: 0;bottom: 0;left: 50%;z-index: -1;}#sk-container-id-6 div.sk-parallel-item {display: flex;flex-direction: column;z-index: 1;position: relative;background-color: white;}#sk-container-id-6 div.sk-parallel-item:first-child::after {align-self: flex-end;width: 50%;}#sk-container-id-6 div.sk-parallel-item:last-child::after {align-self: flex-start;width: 50%;}#sk-container-id-6 div.sk-parallel-item:only-child::after {width: 0;}#sk-container-id-6 div.sk-dashed-wrapped {border: 1px dashed gray;margin: 0 0.4em 0.5em 0.4em;box-sizing: border-box;padding-bottom: 0.4em;background-color: white;}#sk-container-id-6 div.sk-label label {font-family: monospace;font-weight: bold;display: inline-block;line-height: 1.2em;}#sk-container-id-6 div.sk-label-container {text-align: center;}#sk-container-id-6 div.sk-container {/* jupyter's `normalize.less` sets `[hidden] { display: none; }` but bootstrap.min.css set `[hidden] { display: none !important; }` so we also need the `!important` here to be able to override the default hidden behavior on the sphinx rendered scikit-learn.org. See: https://github.com/scikit-learn/scikit-learn/issues/21755 */display: inline-block !important;position: relative;}#sk-container-id-6 div.sk-text-repr-fallback {display: none;}</style><div id=\"sk-container-id-6\" class=\"sk-top-container\"><div class=\"sk-text-repr-fallback\"><pre>LinearRegression()</pre><b>In a Jupyter environment, please rerun this cell to show the HTML representation or trust the notebook. <br />On GitHub, the HTML representation is unable to render, please try loading this page with nbviewer.org.</b></div><div class=\"sk-container\" hidden><div class=\"sk-item\"><div class=\"sk-estimator sk-toggleable\"><input class=\"sk-toggleable__control sk-hidden--visually\" id=\"sk-estimator-id-8\" type=\"checkbox\" checked><label for=\"sk-estimator-id-8\" class=\"sk-toggleable__label sk-toggleable__label-arrow\">LinearRegression</label><div class=\"sk-toggleable__content\"><pre>LinearRegression()</pre></div></div></div></div></div>"
      ],
      "text/plain": [
       "LinearRegression()"
      ]
     },
     "execution_count": 145,
     "metadata": {},
     "output_type": "execute_result"
    }
   ],
   "source": [
    "reglW.fit(x_trainW, y_trainW)"
   ]
  },
  {
   "cell_type": "code",
   "execution_count": 146,
   "id": "9027029c",
   "metadata": {},
   "outputs": [],
   "source": [
    "predsW = reglW.predict(x_trainW)"
   ]
  },
  {
   "cell_type": "code",
   "execution_count": 147,
   "id": "e9686c00",
   "metadata": {},
   "outputs": [
    {
     "data": {
      "text/plain": [
       "9.188112658063222"
      ]
     },
     "execution_count": 147,
     "metadata": {},
     "output_type": "execute_result"
    }
   ],
   "source": [
    "mean_squared_error(y_trainW, predsW)"
   ]
  },
  {
   "cell_type": "code",
   "execution_count": 148,
   "id": "039778b7",
   "metadata": {},
   "outputs": [
    {
     "data": {
      "text/plain": [
       "3.0311899739315615"
      ]
     },
     "execution_count": 148,
     "metadata": {},
     "output_type": "execute_result"
    }
   ],
   "source": [
    "rmse = mean_squared_error(y_trainW, predsW)**.5\n",
    "rmse"
   ]
  },
  {
   "cell_type": "code",
   "execution_count": 149,
   "id": "08b51be9",
   "metadata": {},
   "outputs": [],
   "source": [
    "predsW = reglW.predict(x_valW)"
   ]
  },
  {
   "cell_type": "code",
   "execution_count": 150,
   "id": "58618525",
   "metadata": {},
   "outputs": [
    {
     "data": {
      "text/plain": [
       "9.624382876373005"
      ]
     },
     "execution_count": 150,
     "metadata": {},
     "output_type": "execute_result"
    }
   ],
   "source": [
    "mean_squared_error(y_valW, predsW)"
   ]
  },
  {
   "cell_type": "code",
   "execution_count": 151,
   "id": "e93fa4f4",
   "metadata": {},
   "outputs": [
    {
     "data": {
      "text/plain": [
       "3.1023189514253695"
      ]
     },
     "execution_count": 151,
     "metadata": {},
     "output_type": "execute_result"
    }
   ],
   "source": [
    "rmse = mean_squared_error(y_valW, predsW)**.5\n",
    "rmse"
   ]
  },
  {
   "cell_type": "markdown",
   "id": "6fc2f302",
   "metadata": {},
   "source": [
    "Linear regression model without embeddings does not do much better than the guessing strategy or the baseline tree regressor. Its 3.10 is comparable to guessings 3.27 and baseline 3.17."
   ]
  },
  {
   "cell_type": "code",
   "execution_count": 152,
   "id": "bfe8ffb9",
   "metadata": {},
   "outputs": [],
   "source": [
    "from sklearn.tree import DecisionTreeRegressor"
   ]
  },
  {
   "cell_type": "code",
   "execution_count": 153,
   "id": "ed82038f",
   "metadata": {},
   "outputs": [],
   "source": [
    "regrtrw = DecisionTreeRegressor(max_depth = 3)\n"
   ]
  },
  {
   "cell_type": "code",
   "execution_count": 154,
   "id": "c43aff7e",
   "metadata": {},
   "outputs": [
    {
     "data": {
      "text/html": [
       "<style>#sk-container-id-7 {color: black;}#sk-container-id-7 pre{padding: 0;}#sk-container-id-7 div.sk-toggleable {background-color: white;}#sk-container-id-7 label.sk-toggleable__label {cursor: pointer;display: block;width: 100%;margin-bottom: 0;padding: 0.3em;box-sizing: border-box;text-align: center;}#sk-container-id-7 label.sk-toggleable__label-arrow:before {content: \"▸\";float: left;margin-right: 0.25em;color: #696969;}#sk-container-id-7 label.sk-toggleable__label-arrow:hover:before {color: black;}#sk-container-id-7 div.sk-estimator:hover label.sk-toggleable__label-arrow:before {color: black;}#sk-container-id-7 div.sk-toggleable__content {max-height: 0;max-width: 0;overflow: hidden;text-align: left;background-color: #f0f8ff;}#sk-container-id-7 div.sk-toggleable__content pre {margin: 0.2em;color: black;border-radius: 0.25em;background-color: #f0f8ff;}#sk-container-id-7 input.sk-toggleable__control:checked~div.sk-toggleable__content {max-height: 200px;max-width: 100%;overflow: auto;}#sk-container-id-7 input.sk-toggleable__control:checked~label.sk-toggleable__label-arrow:before {content: \"▾\";}#sk-container-id-7 div.sk-estimator input.sk-toggleable__control:checked~label.sk-toggleable__label {background-color: #d4ebff;}#sk-container-id-7 div.sk-label input.sk-toggleable__control:checked~label.sk-toggleable__label {background-color: #d4ebff;}#sk-container-id-7 input.sk-hidden--visually {border: 0;clip: rect(1px 1px 1px 1px);clip: rect(1px, 1px, 1px, 1px);height: 1px;margin: -1px;overflow: hidden;padding: 0;position: absolute;width: 1px;}#sk-container-id-7 div.sk-estimator {font-family: monospace;background-color: #f0f8ff;border: 1px dotted black;border-radius: 0.25em;box-sizing: border-box;margin-bottom: 0.5em;}#sk-container-id-7 div.sk-estimator:hover {background-color: #d4ebff;}#sk-container-id-7 div.sk-parallel-item::after {content: \"\";width: 100%;border-bottom: 1px solid gray;flex-grow: 1;}#sk-container-id-7 div.sk-label:hover label.sk-toggleable__label {background-color: #d4ebff;}#sk-container-id-7 div.sk-serial::before {content: \"\";position: absolute;border-left: 1px solid gray;box-sizing: border-box;top: 0;bottom: 0;left: 50%;z-index: 0;}#sk-container-id-7 div.sk-serial {display: flex;flex-direction: column;align-items: center;background-color: white;padding-right: 0.2em;padding-left: 0.2em;position: relative;}#sk-container-id-7 div.sk-item {position: relative;z-index: 1;}#sk-container-id-7 div.sk-parallel {display: flex;align-items: stretch;justify-content: center;background-color: white;position: relative;}#sk-container-id-7 div.sk-item::before, #sk-container-id-7 div.sk-parallel-item::before {content: \"\";position: absolute;border-left: 1px solid gray;box-sizing: border-box;top: 0;bottom: 0;left: 50%;z-index: -1;}#sk-container-id-7 div.sk-parallel-item {display: flex;flex-direction: column;z-index: 1;position: relative;background-color: white;}#sk-container-id-7 div.sk-parallel-item:first-child::after {align-self: flex-end;width: 50%;}#sk-container-id-7 div.sk-parallel-item:last-child::after {align-self: flex-start;width: 50%;}#sk-container-id-7 div.sk-parallel-item:only-child::after {width: 0;}#sk-container-id-7 div.sk-dashed-wrapped {border: 1px dashed gray;margin: 0 0.4em 0.5em 0.4em;box-sizing: border-box;padding-bottom: 0.4em;background-color: white;}#sk-container-id-7 div.sk-label label {font-family: monospace;font-weight: bold;display: inline-block;line-height: 1.2em;}#sk-container-id-7 div.sk-label-container {text-align: center;}#sk-container-id-7 div.sk-container {/* jupyter's `normalize.less` sets `[hidden] { display: none; }` but bootstrap.min.css set `[hidden] { display: none !important; }` so we also need the `!important` here to be able to override the default hidden behavior on the sphinx rendered scikit-learn.org. See: https://github.com/scikit-learn/scikit-learn/issues/21755 */display: inline-block !important;position: relative;}#sk-container-id-7 div.sk-text-repr-fallback {display: none;}</style><div id=\"sk-container-id-7\" class=\"sk-top-container\"><div class=\"sk-text-repr-fallback\"><pre>DecisionTreeRegressor(max_depth=3)</pre><b>In a Jupyter environment, please rerun this cell to show the HTML representation or trust the notebook. <br />On GitHub, the HTML representation is unable to render, please try loading this page with nbviewer.org.</b></div><div class=\"sk-container\" hidden><div class=\"sk-item\"><div class=\"sk-estimator sk-toggleable\"><input class=\"sk-toggleable__control sk-hidden--visually\" id=\"sk-estimator-id-9\" type=\"checkbox\" checked><label for=\"sk-estimator-id-9\" class=\"sk-toggleable__label sk-toggleable__label-arrow\">DecisionTreeRegressor</label><div class=\"sk-toggleable__content\"><pre>DecisionTreeRegressor(max_depth=3)</pre></div></div></div></div></div>"
      ],
      "text/plain": [
       "DecisionTreeRegressor(max_depth=3)"
      ]
     },
     "execution_count": 154,
     "metadata": {},
     "output_type": "execute_result"
    }
   ],
   "source": [
    "regrtrw.fit(x_trainW, y_trainW)"
   ]
  },
  {
   "cell_type": "code",
   "execution_count": 155,
   "id": "b29d2560",
   "metadata": {},
   "outputs": [],
   "source": [
    "prds3w = regrtrw.predict(x_trainW)"
   ]
  },
  {
   "cell_type": "code",
   "execution_count": 156,
   "id": "73d31e43",
   "metadata": {},
   "outputs": [
    {
     "data": {
      "text/plain": [
       "9.896609843709873"
      ]
     },
     "execution_count": 156,
     "metadata": {},
     "output_type": "execute_result"
    }
   ],
   "source": [
    "mean_squared_error(y_trainW, prds3w)"
   ]
  },
  {
   "cell_type": "code",
   "execution_count": 157,
   "id": "f29dc284",
   "metadata": {},
   "outputs": [
    {
     "data": {
      "text/plain": [
       "3.1458877671827192"
      ]
     },
     "execution_count": 157,
     "metadata": {},
     "output_type": "execute_result"
    }
   ],
   "source": [
    "rmse = mean_squared_error(y_trainW, prds3w)**.5\n",
    "rmse"
   ]
  },
  {
   "cell_type": "code",
   "execution_count": 158,
   "id": "7f295e0b",
   "metadata": {},
   "outputs": [],
   "source": [
    "prdsvalW = regrtrw.predict(x_valW)"
   ]
  },
  {
   "cell_type": "code",
   "execution_count": 159,
   "id": "b3ef86d8",
   "metadata": {},
   "outputs": [
    {
     "data": {
      "text/plain": [
       "10.358814265862508"
      ]
     },
     "execution_count": 159,
     "metadata": {},
     "output_type": "execute_result"
    }
   ],
   "source": [
    "mean_squared_error(y_valW, prdsvalW)"
   ]
  },
  {
   "cell_type": "code",
   "execution_count": 160,
   "id": "60a99d12",
   "metadata": {},
   "outputs": [
    {
     "data": {
      "text/plain": [
       "3.2185111877796087"
      ]
     },
     "execution_count": 160,
     "metadata": {},
     "output_type": "execute_result"
    }
   ],
   "source": [
    "rmse = mean_squared_error(y_valW, prdsvalW)**.5\n",
    "rmse"
   ]
  },
  {
   "cell_type": "markdown",
   "id": "038272c4",
   "metadata": {},
   "source": [
    "Word embedding with tree performs only slightly better than guessing and similar to baseline strategy. Linear regression  (TF-IDF) model still performing best, the only model with  rmse's less than 3.0."
   ]
  },
  {
   "cell_type": "code",
   "execution_count": 157,
   "id": "ce6b8d24",
   "metadata": {},
   "outputs": [
    {
     "data": {
      "text/plain": [
       "<BarContainer object of 6 artists>"
      ]
     },
     "execution_count": 157,
     "metadata": {},
     "output_type": "execute_result"
    },
    {
     "data": {
      "image/png": "[encoded data removed]",
      "text/plain": [
       "<Figure size 1000x700 with 1 Axes>"
      ]
     },
     "metadata": {},
     "output_type": "display_data"
    }
   ],
   "source": [
    "fig, ax = plt.subplots(figsize = (10,7))\n",
    "ax.bar(x= ['baselineTree', 'Gridapproach','LinM TF-IDF', 'rfr', 'LM -we','Tree -we'], height=[3.14, 3.10, 2.85, 3.15, 3.04, 3.15])\n",
    "#ax.title= \"validation Rmse's\""
   ]
  },
  {
   "cell_type": "markdown",
   "id": "8a633f59",
   "metadata": {},
   "source": []
  },
  {
   "cell_type": "markdown",
   "id": "dfc449e0",
   "metadata": {},
   "source": [
    "The linear regression using tf-idf vectorization produces the best results.  The model has the lowest rmse, meaning a higher accuracy in its predictions. "
   ]
  },
  {
   "cell_type": "markdown",
   "id": "339af8bd",
   "metadata": {},
   "source": [
    " ### Evaluate the linear regression model on unseen data. "
   ]
  },
  {
   "cell_type": "code",
   "execution_count": 237,
   "id": "478e2f71",
   "metadata": {},
   "outputs": [],
   "source": [
    "# getting fd for second 16000 samples of data.\n",
    "FrqsE = Frqs[16000:32000]"
   ]
  },
  {
   "cell_type": "code",
   "execution_count": 238,
   "id": "fe1ee80c",
   "metadata": {},
   "outputs": [],
   "source": [
    "\n",
    "wtfids = []#Conducting tf-idf vectorization on the evaluation data#\n",
    "for i in range(16000):\n",
    "    tfidfs =list([])\n",
    "    for k in adic.keys():\n",
    "        num = FrqsE[i].get(k,0)\n",
    "        den = adic[k]\n",
    "        tfidf = num/den\n",
    "        tfidfs.append(tfidf)\n",
    "    wtfids.append(tfidfs)"
   ]
  },
  {
   "cell_type": "markdown",
   "id": "9c9260e0",
   "metadata": {},
   "source": [
    "Taking the second 16000 of the y-var (rating)."
   ]
  },
  {
   "cell_type": "code",
   "execution_count": 239,
   "id": "6f048908",
   "metadata": {},
   "outputs": [],
   "source": [
    "revscut= trd.rating[16000:32000]"
   ]
  },
  {
   "cell_type": "code",
   "execution_count": 240,
   "id": "1deac968",
   "metadata": {},
   "outputs": [],
   "source": [
    "yvals = np.asarray(revscut)"
   ]
  },
  {
   "cell_type": "code",
   "execution_count": 241,
   "id": "80549193",
   "metadata": {},
   "outputs": [],
   "source": [
    "xvals = np.asarray(wtfids)"
   ]
  },
  {
   "cell_type": "code",
   "execution_count": 242,
   "id": "6fb3ac54",
   "metadata": {},
   "outputs": [],
   "source": [
    "Epreds = lreg.predict(wtfids)"
   ]
  },
  {
   "cell_type": "code",
   "execution_count": 243,
   "id": "13041ba1",
   "metadata": {},
   "outputs": [
    {
     "data": {
      "text/plain": [
       "8.30875077189119"
      ]
     },
     "execution_count": 243,
     "metadata": {},
     "output_type": "execute_result"
    }
   ],
   "source": [
    "mean_squared_error(yvals, Epreds)"
   ]
  },
  {
   "cell_type": "code",
   "execution_count": 244,
   "id": "3b0ecdfb",
   "metadata": {},
   "outputs": [
    {
     "data": {
      "text/plain": [
       "2.88249037672135"
      ]
     },
     "execution_count": 244,
     "metadata": {},
     "output_type": "execute_result"
    }
   ],
   "source": [
    "mean_squared_error(yvals, Epreds)**.5"
   ]
  },
  {
   "cell_type": "markdown",
   "id": "c58a3879",
   "metadata": {},
   "source": [
    "# Results/conclusions"
   ]
  },
  {
   "cell_type": "markdown",
   "id": "2d4b183b",
   "metadata": {},
   "source": [
    "![rmses](\"https://github.com/jmarksk/DrugReviewAnalysis/blob/main/Images/rmses.png\")\n"
   ]
  },
  {
   "cell_type": "markdown",
   "id": "8f646915",
   "metadata": {},
   "source": [
    "- Deploy linear regression (TF-IDF) for ‘rating extraction’ from written review, if efficiency reasons dictates that it should be used.  Given the rmse is not very different between the guessing strategy, tested models and chosen models, the results of the model should not be taken blindly. \n",
    "\n",
    "- Gather insights on how patients rate drugs.\n",
    "    - \"doctor, love, worse\" etc. \n",
    "    \n",
    "\n",
    "- Combine the tf-idf and word embedding models.\n",
    "- Use the “meta-data” as features. (i.e. the drug evaluated)\n"
   ]
  },
  {
   "cell_type": "markdown",
   "id": "1e153180",
   "metadata": {},
   "source": [
    "### SKIP  THIS  Pipeline addendum\n"
   ]
  },
  {
   "cell_type": "markdown",
   "id": "6bb0e54f",
   "metadata": {},
   "source": [
    "def c2v(com):\n",
    "    \n",
    "    Frds= []\n",
    "\n",
    "    for i in com:\n",
    "        lw= i.lower()\n",
    "        tkn = tokenizer.tokenize(lw)\n",
    "        Frd= FreqDist(tkn)\n",
    "        \n",
    "        Frds.append(Frd)\n",
    "\n",
    "    comb = \"\"\n",
    "    for i in com:\n",
    "        comb += str(i)\n",
    "    comb = comb.lower()\n",
    "    ttestw= tokenizer.tokenize(comb)\n",
    "\n",
    "\n",
    "    stopwords_list = stopwords.words('english')\n",
    "\n",
    "    w_words_stopped = [word for word in ttestw if word not in stopwords_list]\n",
    "    w_words_stoppedC = [word for word in w_words_stopped if '039' not in word]\n",
    "    \n",
    "    FD= FreqDist(w_words_stoppedC)\n",
    "    df = pd.DataFrame(data = dict(FD), index = [0])#range16k\n",
    "    dft=df.transpose()\n",
    "    df200 =dft.sort_values(by= 0, axis = 0).tail(200)\n",
    "    adic={}\n",
    "    for i in range(len(df200[0])):\n",
    "        indx =df200.index[i]\n",
    "        adic[indx]=df200[0][i] \n",
    "\n",
    "        \n",
    "    \n",
    "    wtfids = []\n",
    "    for i in range(16000):\n",
    "            tfidfs =list([])\n",
    "        for k in adic.keys():\n",
    "            num = Frds[i].get(k,0)\n",
    "            den = adic[k]\n",
    "            tfidf = num/den\n",
    "            tfidfs.append(tfidf)\n",
    "        wtfids.append(tfidfs)\n",
    "        \n",
    "    xvals = np.asarray(wtfids)\n",
    "    return xvals"
   ]
  },
  {
   "cell_type": "markdown",
   "id": "0b9b42cf",
   "metadata": {},
   "source": [
    "from sklearn.pipeline import Pipeline"
   ]
  },
  {
   "cell_type": "markdown",
   "id": "9f54a99c",
   "metadata": {},
   "source": [
    "###(\"linr\", linregt)###"
   ]
  },
  {
   "cell_type": "markdown",
   "id": "b599ac85",
   "metadata": {},
   "source": [
    "linregtp = linear_model.LinearRegression()\n",
    "pipe1= Pipeline(steps=[(\"tfidf\", c2v),(\"linr\", linregtp)])\n",
    "\n"
   ]
  },
  {
   "cell_type": "markdown",
   "id": "8c617d43",
   "metadata": {},
   "source": [
    "xvalp = com.review"
   ]
  },
  {
   "cell_type": "markdown",
   "id": "89d05fad",
   "metadata": {},
   "source": [
    "pipe1.fit(xvalp, yvals)"
   ]
  },
  {
   "cell_type": "markdown",
   "id": "8779d370",
   "metadata": {},
   "source": [
    "mean_squared_error( y_train, ppred)\n"
   ]
  },
  {
   "cell_type": "markdown",
   "id": "7a41c3d1",
   "metadata": {},
   "source": [
    "## Repository structure"
   ]
  },
  {
   "cell_type": "markdown",
   "id": "b47804ff",
   "metadata": {},
   "source": [
    "- Notebook\n",
    "- [README]('.//README.md')\n",
    "- [Presentation]('.//Presentation.pdf')\n",
    "- [data]('.//drugsComTrain_raw.tsv')"
   ]
  },
  {
   "cell_type": "markdown",
   "id": "5182f0aa",
   "metadata": {},
   "source": [
    "                    Data was sourced by Kalummadi and Grer."
   ]
  }
 ],
 "metadata": {
  "kernelspec": {
   "display_name": "Python (dash-env)",
   "language": "python",
   "name": "dash-env"
  },
  "language_info": {
   "codemirror_mode": {
    "name": "ipython",
    "version": 3
   },
   "file_extension": ".py",
   "mimetype": "text/x-python",
   "name": "python",
   "nbconvert_exporter": "python",
   "pygments_lexer": "ipython3",
   "version": "3.8.12"
  }
 },
 "nbformat": 4,
 "nbformat_minor": 5
}
